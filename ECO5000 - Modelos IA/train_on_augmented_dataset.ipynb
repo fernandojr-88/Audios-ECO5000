{
  "cells": [
    {
      "cell_type": "markdown",
      "metadata": {},
      "source": [
        "# Notebook 2: Train on the Pre-Generated Augmented Dataset\n",
        "\n",
        "This notebook represents the final stage of our experimentation.\n",
        "\n",
        "1.  **Dataset:** We will use the large, static dataset we created in the `generate_augmented_dataset.ipynb` notebook. This dataset includes our most advanced augmentation techniques, including **chunk shuffling**.\n",
        "2.  **Feature Extraction:** We will use the feature representation that has proven to be the most effective: **Mel spectrograms**.\n",
        "3.  **Model:** We will use our best-performing model architecture: the binary CNN with `EarlyStopping`.\n",
        "\n",
        "The goal is to see if training our best model on our best, most diverse dataset can achieve a new level of performance. Because the data is already generated, this notebook will be much simpler and faster to execute for repeated training runs.\n"
      ]
    },
    {
      "cell_type": "markdown",
      "metadata": {},
      "source": [
        "## 1. Setup and Imports\n"
      ]
    },
    {
      "cell_type": "code",
      "execution_count": 54,
      "metadata": {},
      "outputs": [
        {
          "name": "stdout",
          "output_type": "stream",
          "text": [
            "Defaulting to user installation because normal site-packages is not writeable\n",
            "Requirement already satisfied: tensorflow in c:\\users\\fe_de\\appdata\\local\\packages\\pythonsoftwarefoundation.python.3.12_qbz5n2kfra8p0\\localcache\\local-packages\\python312\\site-packages (2.20.0)\n",
            "Requirement already satisfied: scikit-learn in c:\\users\\fe_de\\appdata\\local\\packages\\pythonsoftwarefoundation.python.3.12_qbz5n2kfra8p0\\localcache\\local-packages\\python312\\site-packages (1.7.2)\n",
            "Requirement already satisfied: librosa in c:\\users\\fe_de\\appdata\\local\\packages\\pythonsoftwarefoundation.python.3.12_qbz5n2kfra8p0\\localcache\\local-packages\\python312\\site-packages (0.11.0)\n",
            "Requirement already satisfied: numpy in c:\\users\\fe_de\\appdata\\local\\packages\\pythonsoftwarefoundation.python.3.12_qbz5n2kfra8p0\\localcache\\local-packages\\python312\\site-packages (2.3.1)\n",
            "Requirement already satisfied: pandas in c:\\users\\fe_de\\appdata\\local\\packages\\pythonsoftwarefoundation.python.3.12_qbz5n2kfra8p0\\localcache\\local-packages\\python312\\site-packages (2.3.1)\n",
            "Requirement already satisfied: matplotlib in c:\\users\\fe_de\\appdata\\local\\packages\\pythonsoftwarefoundation.python.3.12_qbz5n2kfra8p0\\localcache\\local-packages\\python312\\site-packages (3.10.3)\n",
            "Requirement already satisfied: seaborn in c:\\users\\fe_de\\appdata\\local\\packages\\pythonsoftwarefoundation.python.3.12_qbz5n2kfra8p0\\localcache\\local-packages\\python312\\site-packages (0.13.2)\n",
            "Requirement already satisfied: tqdm in c:\\users\\fe_de\\appdata\\local\\packages\\pythonsoftwarefoundation.python.3.12_qbz5n2kfra8p0\\localcache\\local-packages\\python312\\site-packages (4.67.1)\n",
            "Requirement already satisfied: absl-py>=1.0.0 in c:\\users\\fe_de\\appdata\\local\\packages\\pythonsoftwarefoundation.python.3.12_qbz5n2kfra8p0\\localcache\\local-packages\\python312\\site-packages (from tensorflow) (2.3.1)\n",
            "Requirement already satisfied: astunparse>=1.6.0 in c:\\users\\fe_de\\appdata\\local\\packages\\pythonsoftwarefoundation.python.3.12_qbz5n2kfra8p0\\localcache\\local-packages\\python312\\site-packages (from tensorflow) (1.6.3)\n",
            "Requirement already satisfied: flatbuffers>=24.3.25 in c:\\users\\fe_de\\appdata\\local\\packages\\pythonsoftwarefoundation.python.3.12_qbz5n2kfra8p0\\localcache\\local-packages\\python312\\site-packages (from tensorflow) (25.2.10)\n",
            "Requirement already satisfied: gast!=0.5.0,!=0.5.1,!=0.5.2,>=0.2.1 in c:\\users\\fe_de\\appdata\\local\\packages\\pythonsoftwarefoundation.python.3.12_qbz5n2kfra8p0\\localcache\\local-packages\\python312\\site-packages (from tensorflow) (0.6.0)\n",
            "Requirement already satisfied: google_pasta>=0.1.1 in c:\\users\\fe_de\\appdata\\local\\packages\\pythonsoftwarefoundation.python.3.12_qbz5n2kfra8p0\\localcache\\local-packages\\python312\\site-packages (from tensorflow) (0.2.0)\n",
            "Requirement already satisfied: libclang>=13.0.0 in c:\\users\\fe_de\\appdata\\local\\packages\\pythonsoftwarefoundation.python.3.12_qbz5n2kfra8p0\\localcache\\local-packages\\python312\\site-packages (from tensorflow) (18.1.1)\n",
            "Requirement already satisfied: opt_einsum>=2.3.2 in c:\\users\\fe_de\\appdata\\local\\packages\\pythonsoftwarefoundation.python.3.12_qbz5n2kfra8p0\\localcache\\local-packages\\python312\\site-packages (from tensorflow) (3.4.0)\n",
            "Requirement already satisfied: packaging in c:\\users\\fe_de\\appdata\\local\\packages\\pythonsoftwarefoundation.python.3.12_qbz5n2kfra8p0\\localcache\\local-packages\\python312\\site-packages (from tensorflow) (25.0)\n",
            "Requirement already satisfied: protobuf>=5.28.0 in c:\\users\\fe_de\\appdata\\local\\packages\\pythonsoftwarefoundation.python.3.12_qbz5n2kfra8p0\\localcache\\local-packages\\python312\\site-packages (from tensorflow) (6.31.1)\n",
            "Requirement already satisfied: requests<3,>=2.21.0 in c:\\users\\fe_de\\appdata\\local\\packages\\pythonsoftwarefoundation.python.3.12_qbz5n2kfra8p0\\localcache\\local-packages\\python312\\site-packages (from tensorflow) (2.31.0)\n",
            "Requirement already satisfied: setuptools in c:\\users\\fe_de\\appdata\\local\\packages\\pythonsoftwarefoundation.python.3.12_qbz5n2kfra8p0\\localcache\\local-packages\\python312\\site-packages (from tensorflow) (80.9.0)\n",
            "Requirement already satisfied: six>=1.12.0 in c:\\users\\fe_de\\appdata\\local\\packages\\pythonsoftwarefoundation.python.3.12_qbz5n2kfra8p0\\localcache\\local-packages\\python312\\site-packages (from tensorflow) (1.17.0)\n",
            "Requirement already satisfied: termcolor>=1.1.0 in c:\\users\\fe_de\\appdata\\local\\packages\\pythonsoftwarefoundation.python.3.12_qbz5n2kfra8p0\\localcache\\local-packages\\python312\\site-packages (from tensorflow) (3.2.0)\n",
            "Requirement already satisfied: typing_extensions>=3.6.6 in c:\\users\\fe_de\\appdata\\local\\packages\\pythonsoftwarefoundation.python.3.12_qbz5n2kfra8p0\\localcache\\local-packages\\python312\\site-packages (from tensorflow) (4.14.1)\n",
            "Requirement already satisfied: wrapt>=1.11.0 in c:\\users\\fe_de\\appdata\\local\\packages\\pythonsoftwarefoundation.python.3.12_qbz5n2kfra8p0\\localcache\\local-packages\\python312\\site-packages (from tensorflow) (2.0.0)\n",
            "Requirement already satisfied: grpcio<2.0,>=1.24.3 in c:\\users\\fe_de\\appdata\\local\\packages\\pythonsoftwarefoundation.python.3.12_qbz5n2kfra8p0\\localcache\\local-packages\\python312\\site-packages (from tensorflow) (1.76.0)\n",
            "Requirement already satisfied: tensorboard~=2.20.0 in c:\\users\\fe_de\\appdata\\local\\packages\\pythonsoftwarefoundation.python.3.12_qbz5n2kfra8p0\\localcache\\local-packages\\python312\\site-packages (from tensorflow) (2.20.0)\n",
            "Requirement already satisfied: keras>=3.10.0 in c:\\users\\fe_de\\appdata\\local\\packages\\pythonsoftwarefoundation.python.3.12_qbz5n2kfra8p0\\localcache\\local-packages\\python312\\site-packages (from tensorflow) (3.12.0)\n",
            "Requirement already satisfied: h5py>=3.11.0 in c:\\users\\fe_de\\appdata\\local\\packages\\pythonsoftwarefoundation.python.3.12_qbz5n2kfra8p0\\localcache\\local-packages\\python312\\site-packages (from tensorflow) (3.15.1)\n",
            "Requirement already satisfied: ml_dtypes<1.0.0,>=0.5.1 in c:\\users\\fe_de\\appdata\\local\\packages\\pythonsoftwarefoundation.python.3.12_qbz5n2kfra8p0\\localcache\\local-packages\\python312\\site-packages (from tensorflow) (0.5.3)\n",
            "Requirement already satisfied: scipy>=1.8.0 in c:\\users\\fe_de\\appdata\\local\\packages\\pythonsoftwarefoundation.python.3.12_qbz5n2kfra8p0\\localcache\\local-packages\\python312\\site-packages (from scikit-learn) (1.16.0)\n",
            "Requirement already satisfied: joblib>=1.2.0 in c:\\users\\fe_de\\appdata\\local\\packages\\pythonsoftwarefoundation.python.3.12_qbz5n2kfra8p0\\localcache\\local-packages\\python312\\site-packages (from scikit-learn) (1.5.2)\n",
            "Requirement already satisfied: threadpoolctl>=3.1.0 in c:\\users\\fe_de\\appdata\\local\\packages\\pythonsoftwarefoundation.python.3.12_qbz5n2kfra8p0\\localcache\\local-packages\\python312\\site-packages (from scikit-learn) (3.6.0)\n",
            "Requirement already satisfied: audioread>=2.1.9 in c:\\users\\fe_de\\appdata\\local\\packages\\pythonsoftwarefoundation.python.3.12_qbz5n2kfra8p0\\localcache\\local-packages\\python312\\site-packages (from librosa) (3.1.0)\n",
            "Requirement already satisfied: numba>=0.51.0 in c:\\users\\fe_de\\appdata\\local\\packages\\pythonsoftwarefoundation.python.3.12_qbz5n2kfra8p0\\localcache\\local-packages\\python312\\site-packages (from librosa) (0.62.1)\n",
            "Requirement already satisfied: decorator>=4.3.0 in c:\\users\\fe_de\\appdata\\local\\packages\\pythonsoftwarefoundation.python.3.12_qbz5n2kfra8p0\\localcache\\local-packages\\python312\\site-packages (from librosa) (5.2.1)\n",
            "Requirement already satisfied: soundfile>=0.12.1 in c:\\users\\fe_de\\appdata\\local\\packages\\pythonsoftwarefoundation.python.3.12_qbz5n2kfra8p0\\localcache\\local-packages\\python312\\site-packages (from librosa) (0.13.1)\n",
            "Requirement already satisfied: pooch>=1.1 in c:\\users\\fe_de\\appdata\\local\\packages\\pythonsoftwarefoundation.python.3.12_qbz5n2kfra8p0\\localcache\\local-packages\\python312\\site-packages (from librosa) (1.8.2)\n",
            "Requirement already satisfied: soxr>=0.3.2 in c:\\users\\fe_de\\appdata\\local\\packages\\pythonsoftwarefoundation.python.3.12_qbz5n2kfra8p0\\localcache\\local-packages\\python312\\site-packages (from librosa) (1.0.0)\n",
            "Requirement already satisfied: lazy_loader>=0.1 in c:\\users\\fe_de\\appdata\\local\\packages\\pythonsoftwarefoundation.python.3.12_qbz5n2kfra8p0\\localcache\\local-packages\\python312\\site-packages (from librosa) (0.4)\n",
            "Requirement already satisfied: msgpack>=1.0 in c:\\users\\fe_de\\appdata\\local\\packages\\pythonsoftwarefoundation.python.3.12_qbz5n2kfra8p0\\localcache\\local-packages\\python312\\site-packages (from librosa) (1.1.2)\n",
            "Requirement already satisfied: python-dateutil>=2.8.2 in c:\\users\\fe_de\\appdata\\local\\packages\\pythonsoftwarefoundation.python.3.12_qbz5n2kfra8p0\\localcache\\local-packages\\python312\\site-packages (from pandas) (2.9.0.post0)\n",
            "Requirement already satisfied: pytz>=2020.1 in c:\\users\\fe_de\\appdata\\local\\packages\\pythonsoftwarefoundation.python.3.12_qbz5n2kfra8p0\\localcache\\local-packages\\python312\\site-packages (from pandas) (2025.2)\n",
            "Requirement already satisfied: tzdata>=2022.7 in c:\\users\\fe_de\\appdata\\local\\packages\\pythonsoftwarefoundation.python.3.12_qbz5n2kfra8p0\\localcache\\local-packages\\python312\\site-packages (from pandas) (2025.2)\n",
            "Requirement already satisfied: contourpy>=1.0.1 in c:\\users\\fe_de\\appdata\\local\\packages\\pythonsoftwarefoundation.python.3.12_qbz5n2kfra8p0\\localcache\\local-packages\\python312\\site-packages (from matplotlib) (1.3.2)\n",
            "Requirement already satisfied: cycler>=0.10 in c:\\users\\fe_de\\appdata\\local\\packages\\pythonsoftwarefoundation.python.3.12_qbz5n2kfra8p0\\localcache\\local-packages\\python312\\site-packages (from matplotlib) (0.12.1)\n",
            "Requirement already satisfied: fonttools>=4.22.0 in c:\\users\\fe_de\\appdata\\local\\packages\\pythonsoftwarefoundation.python.3.12_qbz5n2kfra8p0\\localcache\\local-packages\\python312\\site-packages (from matplotlib) (4.59.0)\n",
            "Requirement already satisfied: kiwisolver>=1.3.1 in c:\\users\\fe_de\\appdata\\local\\packages\\pythonsoftwarefoundation.python.3.12_qbz5n2kfra8p0\\localcache\\local-packages\\python312\\site-packages (from matplotlib) (1.4.8)\n",
            "Requirement already satisfied: pillow>=8 in c:\\users\\fe_de\\appdata\\local\\packages\\pythonsoftwarefoundation.python.3.12_qbz5n2kfra8p0\\localcache\\local-packages\\python312\\site-packages (from matplotlib) (11.3.0)\n",
            "Requirement already satisfied: pyparsing>=2.3.1 in c:\\users\\fe_de\\appdata\\local\\packages\\pythonsoftwarefoundation.python.3.12_qbz5n2kfra8p0\\localcache\\local-packages\\python312\\site-packages (from matplotlib) (3.2.3)\n",
            "Requirement already satisfied: colorama in c:\\users\\fe_de\\appdata\\local\\packages\\pythonsoftwarefoundation.python.3.12_qbz5n2kfra8p0\\localcache\\local-packages\\python312\\site-packages (from tqdm) (0.4.6)\n",
            "Requirement already satisfied: wheel<1.0,>=0.23.0 in c:\\users\\fe_de\\appdata\\local\\packages\\pythonsoftwarefoundation.python.3.12_qbz5n2kfra8p0\\localcache\\local-packages\\python312\\site-packages (from astunparse>=1.6.0->tensorflow) (0.45.1)\n",
            "Requirement already satisfied: rich in c:\\users\\fe_de\\appdata\\local\\packages\\pythonsoftwarefoundation.python.3.12_qbz5n2kfra8p0\\localcache\\local-packages\\python312\\site-packages (from keras>=3.10.0->tensorflow) (14.2.0)\n",
            "Requirement already satisfied: namex in c:\\users\\fe_de\\appdata\\local\\packages\\pythonsoftwarefoundation.python.3.12_qbz5n2kfra8p0\\localcache\\local-packages\\python312\\site-packages (from keras>=3.10.0->tensorflow) (0.1.0)\n",
            "Requirement already satisfied: optree in c:\\users\\fe_de\\appdata\\local\\packages\\pythonsoftwarefoundation.python.3.12_qbz5n2kfra8p0\\localcache\\local-packages\\python312\\site-packages (from keras>=3.10.0->tensorflow) (0.17.0)\n",
            "Requirement already satisfied: llvmlite<0.46,>=0.45.0dev0 in c:\\users\\fe_de\\appdata\\local\\packages\\pythonsoftwarefoundation.python.3.12_qbz5n2kfra8p0\\localcache\\local-packages\\python312\\site-packages (from numba>=0.51.0->librosa) (0.45.1)\n",
            "Requirement already satisfied: platformdirs>=2.5.0 in c:\\users\\fe_de\\appdata\\local\\packages\\pythonsoftwarefoundation.python.3.12_qbz5n2kfra8p0\\localcache\\local-packages\\python312\\site-packages (from pooch>=1.1->librosa) (4.5.0)\n",
            "Requirement already satisfied: charset-normalizer<4,>=2 in c:\\users\\fe_de\\appdata\\local\\packages\\pythonsoftwarefoundation.python.3.12_qbz5n2kfra8p0\\localcache\\local-packages\\python312\\site-packages (from requests<3,>=2.21.0->tensorflow) (3.4.2)\n",
            "Requirement already satisfied: idna<4,>=2.5 in c:\\users\\fe_de\\appdata\\local\\packages\\pythonsoftwarefoundation.python.3.12_qbz5n2kfra8p0\\localcache\\local-packages\\python312\\site-packages (from requests<3,>=2.21.0->tensorflow) (3.10)\n",
            "Requirement already satisfied: urllib3<3,>=1.21.1 in c:\\users\\fe_de\\appdata\\local\\packages\\pythonsoftwarefoundation.python.3.12_qbz5n2kfra8p0\\localcache\\local-packages\\python312\\site-packages (from requests<3,>=2.21.0->tensorflow) (2.5.0)\n",
            "Requirement already satisfied: certifi>=2017.4.17 in c:\\users\\fe_de\\appdata\\local\\packages\\pythonsoftwarefoundation.python.3.12_qbz5n2kfra8p0\\localcache\\local-packages\\python312\\site-packages (from requests<3,>=2.21.0->tensorflow) (2025.7.14)\n",
            "Requirement already satisfied: cffi>=1.0 in c:\\users\\fe_de\\appdata\\local\\packages\\pythonsoftwarefoundation.python.3.12_qbz5n2kfra8p0\\localcache\\local-packages\\python312\\site-packages (from soundfile>=0.12.1->librosa) (1.17.1)\n",
            "Requirement already satisfied: markdown>=2.6.8 in c:\\users\\fe_de\\appdata\\local\\packages\\pythonsoftwarefoundation.python.3.12_qbz5n2kfra8p0\\localcache\\local-packages\\python312\\site-packages (from tensorboard~=2.20.0->tensorflow) (3.9)\n",
            "Requirement already satisfied: tensorboard-data-server<0.8.0,>=0.7.0 in c:\\users\\fe_de\\appdata\\local\\packages\\pythonsoftwarefoundation.python.3.12_qbz5n2kfra8p0\\localcache\\local-packages\\python312\\site-packages (from tensorboard~=2.20.0->tensorflow) (0.7.2)\n",
            "Requirement already satisfied: werkzeug>=1.0.1 in c:\\users\\fe_de\\appdata\\local\\packages\\pythonsoftwarefoundation.python.3.12_qbz5n2kfra8p0\\localcache\\local-packages\\python312\\site-packages (from tensorboard~=2.20.0->tensorflow) (3.1.3)\n",
            "Requirement already satisfied: pycparser in c:\\users\\fe_de\\appdata\\local\\packages\\pythonsoftwarefoundation.python.3.12_qbz5n2kfra8p0\\localcache\\local-packages\\python312\\site-packages (from cffi>=1.0->soundfile>=0.12.1->librosa) (2.22)\n",
            "Requirement already satisfied: MarkupSafe>=2.1.1 in c:\\users\\fe_de\\appdata\\local\\packages\\pythonsoftwarefoundation.python.3.12_qbz5n2kfra8p0\\localcache\\local-packages\\python312\\site-packages (from werkzeug>=1.0.1->tensorboard~=2.20.0->tensorflow) (3.0.3)\n",
            "Requirement already satisfied: markdown-it-py>=2.2.0 in c:\\users\\fe_de\\appdata\\local\\packages\\pythonsoftwarefoundation.python.3.12_qbz5n2kfra8p0\\localcache\\local-packages\\python312\\site-packages (from rich->keras>=3.10.0->tensorflow) (4.0.0)\n",
            "Requirement already satisfied: pygments<3.0.0,>=2.13.0 in c:\\users\\fe_de\\appdata\\local\\packages\\pythonsoftwarefoundation.python.3.12_qbz5n2kfra8p0\\localcache\\local-packages\\python312\\site-packages (from rich->keras>=3.10.0->tensorflow) (2.19.2)\n",
            "Requirement already satisfied: mdurl~=0.1 in c:\\users\\fe_de\\appdata\\local\\packages\\pythonsoftwarefoundation.python.3.12_qbz5n2kfra8p0\\localcache\\local-packages\\python312\\site-packages (from markdown-it-py>=2.2.0->rich->keras>=3.10.0->tensorflow) (0.1.2)\n",
            "Note: you may need to restart the kernel to use updated packages.\n"
          ]
        },
        {
          "name": "stderr",
          "output_type": "stream",
          "text": [
            "\n",
            "[notice] A new release of pip is available: 25.0.1 -> 25.3\n",
            "[notice] To update, run: C:\\Users\\fe_de\\AppData\\Local\\Microsoft\\WindowsApps\\PythonSoftwareFoundation.Python.3.12_qbz5n2kfra8p0\\python.exe -m pip install --upgrade pip\n"
          ]
        }
      ],
      "source": [
        "%pip install tensorflow scikit-learn librosa numpy pandas matplotlib seaborn tqdm\n"
      ]
    },
    {
      "cell_type": "code",
      "execution_count": 55,
      "metadata": {},
      "outputs": [],
      "source": [
        "import os\n",
        "import numpy as np\n",
        "import pandas as pd\n",
        "import librosa\n",
        "import librosa.display\n",
        "import matplotlib.pyplot as plt\n",
        "import seaborn as sns\n",
        "from tqdm import tqdm\n",
        "import random\n",
        "\n",
        "from sklearn.model_selection import train_test_split\n",
        "from sklearn.preprocessing import LabelEncoder\n",
        "from sklearn.metrics import classification_report, confusion_matrix\n",
        "\n",
        "import tensorflow as tf\n",
        "from tensorflow.keras.models import Sequential\n",
        "from tensorflow.keras.layers import Conv2D, MaxPooling2D, Flatten, Dense, Dropout, GlobalAveragePooling2D\n",
        "from tensorflow.keras.callbacks import EarlyStopping\n",
        "\n",
        "sns.set_theme(style=\"whitegrid\")\n"
      ]
    },
    {
      "cell_type": "markdown",
      "metadata": {},
      "source": [
        "## 2. Load Data and Convert to Spectrograms\n",
        "\n",
        "This process is now much simpler. We don't need any augmentation functions. We just need to:\n",
        "1.  Get a list of all file paths from our new `Audios-Augmented` directory.\n",
        "2.  Split these file paths into training and validation sets.\n",
        "3.  Process each set by loading the audio and converting it to a Mel spectrogram.\n"
      ]
    },
    {
      "cell_type": "code",
      "execution_count": 56,
      "metadata": {},
      "outputs": [
        {
          "name": "stdout",
          "output_type": "stream",
          "text": [
            "Found 60 original audio files to define groups.\n",
            "Split into 48 original files for training and 12 for validation.\n",
            "\n",
            "Total files in augmented dataset: 300\n",
            "Training files (augmented): 240\n",
            "Validation files (augmented): 60\n"
          ]
        }
      ],
      "source": [
        "# --- Parameters ---\n",
        "AUGMENTED_DATASET_DIR = 'Audios-Augmented/'\n",
        "ORIGINAL_DATASET_DIR = 'Audios para Treinamento/'\n",
        "FIXED_DURATION_S = 10\n",
        "SAMPLE_RATE = 22050\n",
        "FIXED_LENGTH = SAMPLE_RATE * FIXED_DURATION_S\n",
        "\n",
        "# --- Group-based splitting to prevent data leakage ---\n",
        "# 1. Get original files to define the groups\n",
        "original_files_meta = []\n",
        "for label_group, subdirs in [('Leak', ['Leak-Metal', 'Leak-NonMetal']), ('NoLeak', ['NoLeak-Metal', 'NoLeak-NonMetal'])]:\n",
        "    for subdir in subdirs:\n",
        "        class_path = os.path.join(ORIGINAL_DATASET_DIR, subdir)\n",
        "        if os.path.isdir(class_path):\n",
        "            files = [f for f in os.listdir(class_path) if f.endswith('.wav')]\n",
        "            for f in files:\n",
        "                original_files_meta.append({'stem': os.path.splitext(f)[0], 'label': label_group})\n",
        "\n",
        "original_df = pd.DataFrame(original_files_meta)\n",
        "print(f\"Found {len(original_df)} original audio files to define groups.\")\n",
        "\n",
        "# 2. Split the ORIGINAL files into training and validation groups (stratified)\n",
        "train_stems, val_stems, _, _ = train_test_split(\n",
        "    original_df['stem'],\n",
        "    original_df['label'],\n",
        "    test_size=0.2,\n",
        "    random_state=42,\n",
        "    stratify=original_df['label']\n",
        ")\n",
        "train_stems = set(train_stems)\n",
        "val_stems = set(val_stems)\n",
        "print(f\"Split into {len(train_stems)} original files for training and {len(val_stems)} for validation.\")\n",
        "\n",
        "# 3. Assign each augmented file to its corresponding train or validation set\n",
        "train_files, train_labels = [], []\n",
        "val_files, val_labels = [], []\n",
        "\n",
        "for label in ['Leak', 'NoLeak']:\n",
        "    class_path = os.path.join(AUGMENTED_DATASET_DIR, label)\n",
        "    if os.path.isdir(class_path):\n",
        "        augmented_files = [os.path.join(class_path, f) for f in os.listdir(class_path) if f.endswith('.wav')]\n",
        "        for aug_file_path in augmented_files:\n",
        "            augmented_stem = os.path.splitext(os.path.basename(aug_file_path))[0]\n",
        "            \n",
        "            # Find which original stem this augmented file came from\n",
        "            original_stem = None\n",
        "            for s in original_df.stem:\n",
        "                if augmented_stem.startswith(s):\n",
        "                    original_stem = s\n",
        "                    break\n",
        "            \n",
        "            if original_stem in train_stems:\n",
        "                train_files.append(aug_file_path)\n",
        "                train_labels.append(label)\n",
        "            elif original_stem in val_stems:\n",
        "                val_files.append(aug_file_path)\n",
        "                val_labels.append(label)\n",
        "\n",
        "print(f\"\\nTotal files in augmented dataset: {len(train_files) + len(val_files)}\")\n",
        "print(f\"Training files (augmented): {len(train_files)}\")\n",
        "print(f\"Validation files (augmented): {len(val_files)}\")\n",
        "\n",
        "# Check if the split was successful\n",
        "if len(train_files) == 0 or len(val_files) == 0:\n",
        "    print(\"\\nWARNING: One of the data splits is empty. Please check the file naming convention and paths.\")\n",
        "    print(\"This can happen if the augmented filenames do not start with the original filenames.\")\n",
        "\n",
        "# --- Function to process audio to Mel Spectrogram ---\n",
        "def audio_to_melspectrogram(file_path):\n",
        "    try:\n",
        "        audio, sample_rate = librosa.load(file_path, sr=SAMPLE_RATE)\n",
        "        if len(audio) < FIXED_LENGTH:\n",
        "            audio = np.pad(audio, (0, FIXED_LENGTH - len(audio)), 'constant')\n",
        "        else:\n",
        "            audio = audio[:FIXED_LENGTH]\n",
        "        \n",
        "        spectrogram = librosa.feature.melspectrogram(y=audio, sr=sample_rate, n_mels=128)\n",
        "        return librosa.power_to_db(spectrogram, ref=np.max)\n",
        "    except Exception as e:\n",
        "        print(f\"Error processing {file_path}: {e}\")\n",
        "        return None\n"
      ]
    },
    {
      "cell_type": "code",
      "execution_count": 57,
      "metadata": {},
      "outputs": [],
      "source": [
        "# This cell was intentionally left blank. The model saving logic has been moved to after the training and evaluation steps.\n"
      ]
    },
    {
      "cell_type": "code",
      "execution_count": 58,
      "metadata": {},
      "outputs": [
        {
          "name": "stdout",
          "output_type": "stream",
          "text": [
            "Processing training data...\n"
          ]
        },
        {
          "name": "stderr",
          "output_type": "stream",
          "text": [
            "100%|██████████| 240/240 [00:01<00:00, 161.58it/s]\n"
          ]
        },
        {
          "name": "stdout",
          "output_type": "stream",
          "text": [
            "\n",
            "Processing validation data...\n"
          ]
        },
        {
          "name": "stderr",
          "output_type": "stream",
          "text": [
            "100%|██████████| 60/60 [00:00<00:00, 166.14it/s]"
          ]
        },
        {
          "name": "stdout",
          "output_type": "stream",
          "text": [
            "\n",
            "Training set shape: (240, 128, 431, 1)\n",
            "Validation set shape: (60, 128, 431, 1)\n"
          ]
        },
        {
          "name": "stderr",
          "output_type": "stream",
          "text": [
            "\n"
          ]
        }
      ],
      "source": [
        "print(\"Processing training data...\")\n",
        "X_train = np.array([audio_to_melspectrogram(file) for file in tqdm(train_files)])\n",
        "y_train = np.array(train_labels)\n",
        "\n",
        "print(\"\\nProcessing validation data...\")\n",
        "X_val = np.array([audio_to_melspectrogram(file) for file in tqdm(val_files)])\n",
        "y_val = np.array(val_labels)\n",
        "\n",
        "# --- Prepare data for the model ---\n",
        "X_train = X_train[..., np.newaxis]\n",
        "X_val = X_val[..., np.newaxis]\n",
        "\n",
        "# Encode labels\n",
        "label_encoder = LabelEncoder()\n",
        "y_train_enc = label_encoder.fit_transform(y_train)\n",
        "y_val_enc = label_encoder.transform(y_val)\n",
        "\n",
        "print(f\"\\nTraining set shape: {X_train.shape}\")\n",
        "print(f\"Validation set shape: {X_val.shape}\")\n"
      ]
    },
    {
      "cell_type": "markdown",
      "metadata": {},
      "source": [
        "## 3. Build, Train, and Evaluate the Model\n",
        "\n",
        "We will use the same successful binary CNN architecture from our previous experiments. We'll train it on our new, large dataset and use `EarlyStopping` to ensure we capture the best possible version of the model.\n"
      ]
    },
    {
      "cell_type": "code",
      "execution_count": 59,
      "metadata": {},
      "outputs": [
        {
          "name": "stderr",
          "output_type": "stream",
          "text": [
            "C:\\Users\\fe_de\\AppData\\Local\\Packages\\PythonSoftwareFoundation.Python.3.12_qbz5n2kfra8p0\\LocalCache\\local-packages\\Python312\\site-packages\\keras\\src\\layers\\convolutional\\base_conv.py:113: UserWarning: Do not pass an `input_shape`/`input_dim` argument to a layer. When using Sequential models, prefer using an `Input(shape)` object as the first layer in the model instead.\n",
            "  super().__init__(activity_regularizer=activity_regularizer, **kwargs)\n"
          ]
        },
        {
          "data": {
            "text/html": [
              "<pre style=\"white-space:pre;overflow-x:auto;line-height:normal;font-family:Menlo,'DejaVu Sans Mono',consolas,'Courier New',monospace\"><span style=\"font-weight: bold\">Model: \"sequential_1\"</span>\n",
              "</pre>\n"
            ],
            "text/plain": [
              "\u001b[1mModel: \"sequential_1\"\u001b[0m\n"
            ]
          },
          "metadata": {},
          "output_type": "display_data"
        },
        {
          "data": {
            "text/html": [
              "<pre style=\"white-space:pre;overflow-x:auto;line-height:normal;font-family:Menlo,'DejaVu Sans Mono',consolas,'Courier New',monospace\">┏━━━━━━━━━━━━━━━━━━━━━━━━━━━━━━━━━┳━━━━━━━━━━━━━━━━━━━━━━━━┳━━━━━━━━━━━━━━━┓\n",
              "┃<span style=\"font-weight: bold\"> Layer (type)                    </span>┃<span style=\"font-weight: bold\"> Output Shape           </span>┃<span style=\"font-weight: bold\">       Param # </span>┃\n",
              "┡━━━━━━━━━━━━━━━━━━━━━━━━━━━━━━━━━╇━━━━━━━━━━━━━━━━━━━━━━━━╇━━━━━━━━━━━━━━━┩\n",
              "│ conv2d_3 (<span style=\"color: #0087ff; text-decoration-color: #0087ff\">Conv2D</span>)               │ (<span style=\"color: #00d7ff; text-decoration-color: #00d7ff\">None</span>, <span style=\"color: #00af00; text-decoration-color: #00af00\">126</span>, <span style=\"color: #00af00; text-decoration-color: #00af00\">429</span>, <span style=\"color: #00af00; text-decoration-color: #00af00\">32</span>)   │           <span style=\"color: #00af00; text-decoration-color: #00af00\">320</span> │\n",
              "├─────────────────────────────────┼────────────────────────┼───────────────┤\n",
              "│ max_pooling2d_3 (<span style=\"color: #0087ff; text-decoration-color: #0087ff\">MaxPooling2D</span>)  │ (<span style=\"color: #00d7ff; text-decoration-color: #00d7ff\">None</span>, <span style=\"color: #00af00; text-decoration-color: #00af00\">63</span>, <span style=\"color: #00af00; text-decoration-color: #00af00\">214</span>, <span style=\"color: #00af00; text-decoration-color: #00af00\">32</span>)    │             <span style=\"color: #00af00; text-decoration-color: #00af00\">0</span> │\n",
              "├─────────────────────────────────┼────────────────────────┼───────────────┤\n",
              "│ conv2d_4 (<span style=\"color: #0087ff; text-decoration-color: #0087ff\">Conv2D</span>)               │ (<span style=\"color: #00d7ff; text-decoration-color: #00d7ff\">None</span>, <span style=\"color: #00af00; text-decoration-color: #00af00\">61</span>, <span style=\"color: #00af00; text-decoration-color: #00af00\">212</span>, <span style=\"color: #00af00; text-decoration-color: #00af00\">64</span>)    │        <span style=\"color: #00af00; text-decoration-color: #00af00\">18,496</span> │\n",
              "├─────────────────────────────────┼────────────────────────┼───────────────┤\n",
              "│ max_pooling2d_4 (<span style=\"color: #0087ff; text-decoration-color: #0087ff\">MaxPooling2D</span>)  │ (<span style=\"color: #00d7ff; text-decoration-color: #00d7ff\">None</span>, <span style=\"color: #00af00; text-decoration-color: #00af00\">30</span>, <span style=\"color: #00af00; text-decoration-color: #00af00\">106</span>, <span style=\"color: #00af00; text-decoration-color: #00af00\">64</span>)    │             <span style=\"color: #00af00; text-decoration-color: #00af00\">0</span> │\n",
              "├─────────────────────────────────┼────────────────────────┼───────────────┤\n",
              "│ conv2d_5 (<span style=\"color: #0087ff; text-decoration-color: #0087ff\">Conv2D</span>)               │ (<span style=\"color: #00d7ff; text-decoration-color: #00d7ff\">None</span>, <span style=\"color: #00af00; text-decoration-color: #00af00\">28</span>, <span style=\"color: #00af00; text-decoration-color: #00af00\">104</span>, <span style=\"color: #00af00; text-decoration-color: #00af00\">128</span>)   │        <span style=\"color: #00af00; text-decoration-color: #00af00\">73,856</span> │\n",
              "├─────────────────────────────────┼────────────────────────┼───────────────┤\n",
              "│ max_pooling2d_5 (<span style=\"color: #0087ff; text-decoration-color: #0087ff\">MaxPooling2D</span>)  │ (<span style=\"color: #00d7ff; text-decoration-color: #00d7ff\">None</span>, <span style=\"color: #00af00; text-decoration-color: #00af00\">14</span>, <span style=\"color: #00af00; text-decoration-color: #00af00\">52</span>, <span style=\"color: #00af00; text-decoration-color: #00af00\">128</span>)    │             <span style=\"color: #00af00; text-decoration-color: #00af00\">0</span> │\n",
              "├─────────────────────────────────┼────────────────────────┼───────────────┤\n",
              "│ global_average_pooling2d_1      │ (<span style=\"color: #00d7ff; text-decoration-color: #00d7ff\">None</span>, <span style=\"color: #00af00; text-decoration-color: #00af00\">128</span>)            │             <span style=\"color: #00af00; text-decoration-color: #00af00\">0</span> │\n",
              "│ (<span style=\"color: #0087ff; text-decoration-color: #0087ff\">GlobalAveragePooling2D</span>)        │                        │               │\n",
              "├─────────────────────────────────┼────────────────────────┼───────────────┤\n",
              "│ dense_2 (<span style=\"color: #0087ff; text-decoration-color: #0087ff\">Dense</span>)                 │ (<span style=\"color: #00d7ff; text-decoration-color: #00d7ff\">None</span>, <span style=\"color: #00af00; text-decoration-color: #00af00\">128</span>)            │        <span style=\"color: #00af00; text-decoration-color: #00af00\">16,512</span> │\n",
              "├─────────────────────────────────┼────────────────────────┼───────────────┤\n",
              "│ dropout_1 (<span style=\"color: #0087ff; text-decoration-color: #0087ff\">Dropout</span>)             │ (<span style=\"color: #00d7ff; text-decoration-color: #00d7ff\">None</span>, <span style=\"color: #00af00; text-decoration-color: #00af00\">128</span>)            │             <span style=\"color: #00af00; text-decoration-color: #00af00\">0</span> │\n",
              "├─────────────────────────────────┼────────────────────────┼───────────────┤\n",
              "│ dense_3 (<span style=\"color: #0087ff; text-decoration-color: #0087ff\">Dense</span>)                 │ (<span style=\"color: #00d7ff; text-decoration-color: #00d7ff\">None</span>, <span style=\"color: #00af00; text-decoration-color: #00af00\">1</span>)              │           <span style=\"color: #00af00; text-decoration-color: #00af00\">129</span> │\n",
              "└─────────────────────────────────┴────────────────────────┴───────────────┘\n",
              "</pre>\n"
            ],
            "text/plain": [
              "┏━━━━━━━━━━━━━━━━━━━━━━━━━━━━━━━━━┳━━━━━━━━━━━━━━━━━━━━━━━━┳━━━━━━━━━━━━━━━┓\n",
              "┃\u001b[1m \u001b[0m\u001b[1mLayer (type)                   \u001b[0m\u001b[1m \u001b[0m┃\u001b[1m \u001b[0m\u001b[1mOutput Shape          \u001b[0m\u001b[1m \u001b[0m┃\u001b[1m \u001b[0m\u001b[1m      Param #\u001b[0m\u001b[1m \u001b[0m┃\n",
              "┡━━━━━━━━━━━━━━━━━━━━━━━━━━━━━━━━━╇━━━━━━━━━━━━━━━━━━━━━━━━╇━━━━━━━━━━━━━━━┩\n",
              "│ conv2d_3 (\u001b[38;5;33mConv2D\u001b[0m)               │ (\u001b[38;5;45mNone\u001b[0m, \u001b[38;5;34m126\u001b[0m, \u001b[38;5;34m429\u001b[0m, \u001b[38;5;34m32\u001b[0m)   │           \u001b[38;5;34m320\u001b[0m │\n",
              "├─────────────────────────────────┼────────────────────────┼───────────────┤\n",
              "│ max_pooling2d_3 (\u001b[38;5;33mMaxPooling2D\u001b[0m)  │ (\u001b[38;5;45mNone\u001b[0m, \u001b[38;5;34m63\u001b[0m, \u001b[38;5;34m214\u001b[0m, \u001b[38;5;34m32\u001b[0m)    │             \u001b[38;5;34m0\u001b[0m │\n",
              "├─────────────────────────────────┼────────────────────────┼───────────────┤\n",
              "│ conv2d_4 (\u001b[38;5;33mConv2D\u001b[0m)               │ (\u001b[38;5;45mNone\u001b[0m, \u001b[38;5;34m61\u001b[0m, \u001b[38;5;34m212\u001b[0m, \u001b[38;5;34m64\u001b[0m)    │        \u001b[38;5;34m18,496\u001b[0m │\n",
              "├─────────────────────────────────┼────────────────────────┼───────────────┤\n",
              "│ max_pooling2d_4 (\u001b[38;5;33mMaxPooling2D\u001b[0m)  │ (\u001b[38;5;45mNone\u001b[0m, \u001b[38;5;34m30\u001b[0m, \u001b[38;5;34m106\u001b[0m, \u001b[38;5;34m64\u001b[0m)    │             \u001b[38;5;34m0\u001b[0m │\n",
              "├─────────────────────────────────┼────────────────────────┼───────────────┤\n",
              "│ conv2d_5 (\u001b[38;5;33mConv2D\u001b[0m)               │ (\u001b[38;5;45mNone\u001b[0m, \u001b[38;5;34m28\u001b[0m, \u001b[38;5;34m104\u001b[0m, \u001b[38;5;34m128\u001b[0m)   │        \u001b[38;5;34m73,856\u001b[0m │\n",
              "├─────────────────────────────────┼────────────────────────┼───────────────┤\n",
              "│ max_pooling2d_5 (\u001b[38;5;33mMaxPooling2D\u001b[0m)  │ (\u001b[38;5;45mNone\u001b[0m, \u001b[38;5;34m14\u001b[0m, \u001b[38;5;34m52\u001b[0m, \u001b[38;5;34m128\u001b[0m)    │             \u001b[38;5;34m0\u001b[0m │\n",
              "├─────────────────────────────────┼────────────────────────┼───────────────┤\n",
              "│ global_average_pooling2d_1      │ (\u001b[38;5;45mNone\u001b[0m, \u001b[38;5;34m128\u001b[0m)            │             \u001b[38;5;34m0\u001b[0m │\n",
              "│ (\u001b[38;5;33mGlobalAveragePooling2D\u001b[0m)        │                        │               │\n",
              "├─────────────────────────────────┼────────────────────────┼───────────────┤\n",
              "│ dense_2 (\u001b[38;5;33mDense\u001b[0m)                 │ (\u001b[38;5;45mNone\u001b[0m, \u001b[38;5;34m128\u001b[0m)            │        \u001b[38;5;34m16,512\u001b[0m │\n",
              "├─────────────────────────────────┼────────────────────────┼───────────────┤\n",
              "│ dropout_1 (\u001b[38;5;33mDropout\u001b[0m)             │ (\u001b[38;5;45mNone\u001b[0m, \u001b[38;5;34m128\u001b[0m)            │             \u001b[38;5;34m0\u001b[0m │\n",
              "├─────────────────────────────────┼────────────────────────┼───────────────┤\n",
              "│ dense_3 (\u001b[38;5;33mDense\u001b[0m)                 │ (\u001b[38;5;45mNone\u001b[0m, \u001b[38;5;34m1\u001b[0m)              │           \u001b[38;5;34m129\u001b[0m │\n",
              "└─────────────────────────────────┴────────────────────────┴───────────────┘\n"
            ]
          },
          "metadata": {},
          "output_type": "display_data"
        },
        {
          "data": {
            "text/html": [
              "<pre style=\"white-space:pre;overflow-x:auto;line-height:normal;font-family:Menlo,'DejaVu Sans Mono',consolas,'Courier New',monospace\"><span style=\"font-weight: bold\"> Total params: </span><span style=\"color: #00af00; text-decoration-color: #00af00\">109,313</span> (427.00 KB)\n",
              "</pre>\n"
            ],
            "text/plain": [
              "\u001b[1m Total params: \u001b[0m\u001b[38;5;34m109,313\u001b[0m (427.00 KB)\n"
            ]
          },
          "metadata": {},
          "output_type": "display_data"
        },
        {
          "data": {
            "text/html": [
              "<pre style=\"white-space:pre;overflow-x:auto;line-height:normal;font-family:Menlo,'DejaVu Sans Mono',consolas,'Courier New',monospace\"><span style=\"font-weight: bold\"> Trainable params: </span><span style=\"color: #00af00; text-decoration-color: #00af00\">109,313</span> (427.00 KB)\n",
              "</pre>\n"
            ],
            "text/plain": [
              "\u001b[1m Trainable params: \u001b[0m\u001b[38;5;34m109,313\u001b[0m (427.00 KB)\n"
            ]
          },
          "metadata": {},
          "output_type": "display_data"
        },
        {
          "data": {
            "text/html": [
              "<pre style=\"white-space:pre;overflow-x:auto;line-height:normal;font-family:Menlo,'DejaVu Sans Mono',consolas,'Courier New',monospace\"><span style=\"font-weight: bold\"> Non-trainable params: </span><span style=\"color: #00af00; text-decoration-color: #00af00\">0</span> (0.00 B)\n",
              "</pre>\n"
            ],
            "text/plain": [
              "\u001b[1m Non-trainable params: \u001b[0m\u001b[38;5;34m0\u001b[0m (0.00 B)\n"
            ]
          },
          "metadata": {},
          "output_type": "display_data"
        },
        {
          "name": "stdout",
          "output_type": "stream",
          "text": [
            "Epoch 1/75\n",
            "\u001b[1m8/8\u001b[0m \u001b[32m━━━━━━━━━━━━━━━━━━━━\u001b[0m\u001b[37m\u001b[0m \u001b[1m2s\u001b[0m 146ms/step - accuracy: 0.5042 - loss: 2.0896 - val_accuracy: 0.5000 - val_loss: 0.6931\n",
            "Epoch 2/75\n",
            "\u001b[1m8/8\u001b[0m \u001b[32m━━━━━━━━━━━━━━━━━━━━\u001b[0m\u001b[37m\u001b[0m \u001b[1m1s\u001b[0m 133ms/step - accuracy: 0.4458 - loss: 1.0441 - val_accuracy: 0.5000 - val_loss: 0.6897\n",
            "Epoch 3/75\n",
            "\u001b[1m8/8\u001b[0m \u001b[32m━━━━━━━━━━━━━━━━━━━━\u001b[0m\u001b[37m\u001b[0m \u001b[1m1s\u001b[0m 133ms/step - accuracy: 0.5375 - loss: 0.7419 - val_accuracy: 0.5000 - val_loss: 0.6878\n",
            "Epoch 4/75\n",
            "\u001b[1m8/8\u001b[0m \u001b[32m━━━━━━━━━━━━━━━━━━━━\u001b[0m\u001b[37m\u001b[0m \u001b[1m1s\u001b[0m 144ms/step - accuracy: 0.5042 - loss: 0.7300 - val_accuracy: 0.5000 - val_loss: 0.6864\n",
            "Epoch 5/75\n",
            "\u001b[1m8/8\u001b[0m \u001b[32m━━━━━━━━━━━━━━━━━━━━\u001b[0m\u001b[37m\u001b[0m \u001b[1m1s\u001b[0m 133ms/step - accuracy: 0.6208 - loss: 0.6684 - val_accuracy: 0.5000 - val_loss: 0.6803\n",
            "Epoch 6/75\n",
            "\u001b[1m8/8\u001b[0m \u001b[32m━━━━━━━━━━━━━━━━━━━━\u001b[0m\u001b[37m\u001b[0m \u001b[1m1s\u001b[0m 135ms/step - accuracy: 0.4750 - loss: 0.7003 - val_accuracy: 0.5000 - val_loss: 0.6842\n",
            "Epoch 7/75\n",
            "\u001b[1m8/8\u001b[0m \u001b[32m━━━━━━━━━━━━━━━━━━━━\u001b[0m\u001b[37m\u001b[0m \u001b[1m1s\u001b[0m 134ms/step - accuracy: 0.5542 - loss: 0.6809 - val_accuracy: 0.5000 - val_loss: 0.6819\n",
            "Epoch 8/75\n",
            "\u001b[1m8/8\u001b[0m \u001b[32m━━━━━━━━━━━━━━━━━━━━\u001b[0m\u001b[37m\u001b[0m \u001b[1m1s\u001b[0m 133ms/step - accuracy: 0.5583 - loss: 0.6876 - val_accuracy: 0.5500 - val_loss: 0.6719\n",
            "Epoch 9/75\n",
            "\u001b[1m8/8\u001b[0m \u001b[32m━━━━━━━━━━━━━━━━━━━━\u001b[0m\u001b[37m\u001b[0m \u001b[1m1s\u001b[0m 133ms/step - accuracy: 0.5542 - loss: 0.6876 - val_accuracy: 0.6833 - val_loss: 0.6593\n",
            "Epoch 10/75\n",
            "\u001b[1m8/8\u001b[0m \u001b[32m━━━━━━━━━━━━━━━━━━━━\u001b[0m\u001b[37m\u001b[0m \u001b[1m1s\u001b[0m 133ms/step - accuracy: 0.5958 - loss: 0.6692 - val_accuracy: 0.6667 - val_loss: 0.6584\n",
            "Epoch 11/75\n",
            "\u001b[1m8/8\u001b[0m \u001b[32m━━━━━━━━━━━━━━━━━━━━\u001b[0m\u001b[37m\u001b[0m \u001b[1m1s\u001b[0m 132ms/step - accuracy: 0.6167 - loss: 0.6570 - val_accuracy: 0.5167 - val_loss: 0.6944\n",
            "Epoch 12/75\n",
            "\u001b[1m8/8\u001b[0m \u001b[32m━━━━━━━━━━━━━━━━━━━━\u001b[0m\u001b[37m\u001b[0m \u001b[1m1s\u001b[0m 133ms/step - accuracy: 0.6167 - loss: 0.6463 - val_accuracy: 0.6333 - val_loss: 0.6677\n",
            "Epoch 13/75\n",
            "\u001b[1m8/8\u001b[0m \u001b[32m━━━━━━━━━━━━━━━━━━━━\u001b[0m\u001b[37m\u001b[0m \u001b[1m1s\u001b[0m 132ms/step - accuracy: 0.6458 - loss: 0.6214 - val_accuracy: 0.5167 - val_loss: 0.7110\n",
            "Epoch 14/75\n",
            "\u001b[1m8/8\u001b[0m \u001b[32m━━━━━━━━━━━━━━━━━━━━\u001b[0m\u001b[37m\u001b[0m \u001b[1m1s\u001b[0m 132ms/step - accuracy: 0.6708 - loss: 0.6253 - val_accuracy: 0.6167 - val_loss: 0.6870\n",
            "Epoch 15/75\n",
            "\u001b[1m8/8\u001b[0m \u001b[32m━━━━━━━━━━━━━━━━━━━━\u001b[0m\u001b[37m\u001b[0m \u001b[1m1s\u001b[0m 132ms/step - accuracy: 0.6792 - loss: 0.5821 - val_accuracy: 0.6500 - val_loss: 0.7202\n",
            "Epoch 16/75\n",
            "\u001b[1m8/8\u001b[0m \u001b[32m━━━━━━━━━━━━━━━━━━━━\u001b[0m\u001b[37m\u001b[0m \u001b[1m1s\u001b[0m 132ms/step - accuracy: 0.6625 - loss: 0.5973 - val_accuracy: 0.7333 - val_loss: 0.6975\n",
            "Epoch 17/75\n",
            "\u001b[1m8/8\u001b[0m \u001b[32m━━━━━━━━━━━━━━━━━━━━\u001b[0m\u001b[37m\u001b[0m \u001b[1m1s\u001b[0m 132ms/step - accuracy: 0.7125 - loss: 0.5690 - val_accuracy: 0.6833 - val_loss: 0.7046\n",
            "Epoch 18/75\n",
            "\u001b[1m8/8\u001b[0m \u001b[32m━━━━━━━━━━━━━━━━━━━━\u001b[0m\u001b[37m\u001b[0m \u001b[1m1s\u001b[0m 133ms/step - accuracy: 0.7125 - loss: 0.5504 - val_accuracy: 0.6167 - val_loss: 0.7008\n",
            "Epoch 19/75\n",
            "\u001b[1m8/8\u001b[0m \u001b[32m━━━━━━━━━━━━━━━━━━━━\u001b[0m\u001b[37m\u001b[0m \u001b[1m1s\u001b[0m 132ms/step - accuracy: 0.7250 - loss: 0.5347 - val_accuracy: 0.6833 - val_loss: 0.7066\n",
            "Epoch 20/75\n",
            "\u001b[1m8/8\u001b[0m \u001b[32m━━━━━━━━━━━━━━━━━━━━\u001b[0m\u001b[37m\u001b[0m \u001b[1m1s\u001b[0m 132ms/step - accuracy: 0.7625 - loss: 0.5194 - val_accuracy: 0.7167 - val_loss: 0.7911\n",
            "Epoch 20: early stopping\n",
            "Restoring model weights from the end of the best epoch: 10.\n"
          ]
        }
      ],
      "source": [
        "# --- Define the EarlyStopping callback ---\n",
        "early_stopping = EarlyStopping(\n",
        "    monitor='val_loss',\n",
        "    patience=10,\n",
        "    restore_best_weights=True,\n",
        "    verbose=1\n",
        ")\n",
        "\n",
        "model = Sequential([\n",
        "    Conv2D(32, (3, 3), activation='relu', input_shape=X_train.shape[1:]),\n",
        "    MaxPooling2D((2, 2)),\n",
        "    Conv2D(64, (3, 3), activation='relu'),\n",
        "    MaxPooling2D((2, 2)),\n",
        "    Conv2D(128, (3, 3), activation='relu'),\n",
        "    MaxPooling2D((2, 2)),\n",
        "    GlobalAveragePooling2D(),\n",
        "    Dense(128, activation='relu'),\n",
        "    Dropout(0.5),\n",
        "    Dense(1, activation='sigmoid')\n",
        "])\n",
        "\n",
        "model.compile(optimizer='adam',\n",
        "              loss='binary_crossentropy',\n",
        "              metrics=['accuracy'])\n",
        "\n",
        "model.summary()\n",
        "\n",
        "EPOCHS = 75\n",
        "BATCH_SIZE = 32\n",
        "\n",
        "history = model.fit(X_train, y_train_enc,\n",
        "                    epochs=EPOCHS,\n",
        "                    batch_size=BATCH_SIZE,\n",
        "                    validation_data=(X_val, y_val_enc),\n",
        "                    verbose=1,\n",
        "                    callbacks=[early_stopping])\n"
      ]
    },
    {
      "cell_type": "markdown",
      "metadata": {},
      "source": [
        "## 4. Final Evaluation\n"
      ]
    },
    {
      "cell_type": "markdown",
      "metadata": {},
      "source": [
        "## 4.5 Save Model and Encoder\n",
        "\n",
        "After training and evaluating, we save the model and the label encoder to disk. This allows us to load them later for inference or conversion without needing to retrain.\n"
      ]
    },
    {
      "cell_type": "code",
      "execution_count": 60,
      "metadata": {},
      "outputs": [
        {
          "name": "stderr",
          "output_type": "stream",
          "text": [
            "WARNING:absl:You are saving your model as an HDF5 file via `model.save()` or `keras.saving.save_model(model)`. This file format is considered legacy. We recommend using instead the native Keras format, e.g. `model.save('my_model.keras')` or `keras.saving.save_model(model, 'my_model.keras')`. \n"
          ]
        },
        {
          "name": "stdout",
          "output_type": "stream",
          "text": [
            "Model saved successfully to: water_leak_model.h5\n",
            "Label encoder saved successfully to: label_encoder.joblib\n"
          ]
        }
      ],
      "source": [
        "import joblib\n",
        "\n",
        "# --- Define file paths ---\n",
        "model_save_path = \"water_leak_model.h5\"\n",
        "label_encoder_path = \"label_encoder.joblib\"\n",
        "\n",
        "# --- Save the trained model ---\n",
        "# We use .h5 format for broader compatibility, especially with older TensorFlow versions.\n",
        "model.save(model_save_path)\n",
        "print(f\"Model saved successfully to: {model_save_path}\")\n",
        "\n",
        "# --- Save the label encoder ---\n",
        "joblib.dump(label_encoder, label_encoder_path)\n",
        "print(f\"Label encoder saved successfully to: {label_encoder_path}\")\n"
      ]
    },
    {
      "cell_type": "code",
      "execution_count": 67,
      "metadata": {},
      "outputs": [
        {
          "name": "stdout",
          "output_type": "stream",
          "text": [
            "\u001b[1m2/2\u001b[0m \u001b[32m━━━━━━━━━━━━━━━━━━━━\u001b[0m\u001b[37m\u001b[0m \u001b[1m0s\u001b[0m 47ms/step\n",
            "--- VALIDATION SET PERFORMANCE ---\n",
            "Classification Report:\n",
            "              precision    recall  f1-score   support\n",
            "\n",
            "        Leak       0.62      0.87      0.72        30\n",
            "      NoLeak       0.78      0.47      0.58        30\n",
            "\n",
            "    accuracy                           0.67        60\n",
            "   macro avg       0.70      0.67      0.65        60\n",
            "weighted avg       0.70      0.67      0.65        60\n",
            "\n"
          ]
        },
        {
          "data": {
            "image/png": "[encoded data removed]",
            "text/plain": [
              "<Figure size 800x600 with 2 Axes>"
            ]
          },
          "metadata": {},
          "output_type": "display_data"
        }
      ],
      "source": [
        "# --- Make predictions on the validation set ---\n",
        "y_pred_probs = model.predict(X_val)\n",
        "y_pred = (y_pred_probs > 0.5).astype(\"int32\")\n",
        "\n",
        "# --- Print classification report ---\n",
        "print(\"--- VALIDATION SET PERFORMANCE ---\")\n",
        "print(\"Classification Report:\")\n",
        "print(classification_report(y_val_enc, y_pred, target_names=label_encoder.classes_))\n",
        "\n",
        "# --- Plot confusion matrix ---\n",
        "conf_matrix = confusion_matrix(y_val_enc, y_pred)\n",
        "plt.figure(figsize=(8, 6))\n",
        "sns.heatmap(conf_matrix, annot=True, fmt='d', cmap='Blues',\n",
        "            xticklabels=label_encoder.classes_,\n",
        "            yticklabels=label_encoder.classes_)\n",
        "plt.title('Confusion Matrix for Validation Set')\n",
        "plt.ylabel('Actual')\n",
        "plt.xlabel('Predicted')\n",
        "plt.show()"
      ]
    },
    {
      "cell_type": "markdown",
      "metadata": {},
      "source": [
        "## 5. Predict on New Audio Files\n",
        "\n",
        "Now that we have a trained and evaluated model, let's use it to make predictions on the new audio files you provided in the `Our own/` directory.\n",
        "\n",
        "This process will involve:\n",
        "1.  Loading each new `.mp3` file.\n",
        "2.  Processing it into the same Mel spectrogram format the model was trained on.\n",
        "3.  Using the `model.predict()` method.\n",
        "4.  Displaying the predicted label (\"Leak\" or \"NoLeak\") for each file.\n",
        "\n",
        "**Note:** `librosa` requires `ffmpeg` to be installed on your system to load `.mp3` files. If you encounter errors in the next cell, please ensure `ffmpeg` is installed and accessible in your system's PATH.\n"
      ]
    },
    {
      "cell_type": "code",
      "execution_count": 68,
      "metadata": {},
      "outputs": [
        {
          "name": "stdout",
          "output_type": "stream",
          "text": [
            "Searching for audio files in: c:\\Users\\fe_de\\OneDrive\\Documentos\\GitHub\\Audios-ECO5000\\ECO5000 - Modelos IA\\Our own\n",
            "Found 7 files to predict on.\n"
          ]
        },
        {
          "name": "stderr",
          "output_type": "stream",
          "text": [
            "Processing new files: 100%|██████████| 7/7 [00:00<00:00, 56.61it/s]"
          ]
        },
        {
          "name": "stdout",
          "output_type": "stream",
          "text": [
            "\n",
            "Successfully processed 7 files. Shape for prediction: (7, 128, 431, 1)\n",
            "\u001b[1m1/1\u001b[0m \u001b[32m━━━━━━━━━━━━━━━━━━━━\u001b[0m\u001b[37m\u001b[0m \u001b[1m0s\u001b[0m 32ms/step\n",
            "\n",
            "--- PREDICTION RESULTS ---"
          ]
        },
        {
          "name": "stderr",
          "output_type": "stream",
          "text": [
            "\n"
          ]
        },
        {
          "name": "stdout",
          "output_type": "stream",
          "text": [
            "\n",
            "File: 01 No Leak-Water Flowing In Steel Pipe.mp3              -> Predicted Label: NoLeak\n",
            "File: 04 Cast Iron Leak Distant Listening On A Valve.mp3      -> Predicted Label: Leak\n",
            "File: 06 Copper Service Leak Heard On Main Line Hydrant.mp3   -> Predicted Label: Leak\n",
            "File: 07 Copper Service Leak With Meter Turning.mp3           -> Predicted Label: Leak\n",
            "File: 09 PVC Leak Close Listening On Valve.mp3                -> Predicted Label: NoLeak\n",
            "File: 13 Ductile Iron Pipe Leak 650 Feet 6 Inch Diameter (Stereo).mp3 -> Predicted Label: Leak\n",
            "File: Pos Filtros.wav                                         -> Predicted Label: Leak\n"
          ]
        }
      ],
      "source": [
        "import glob\n",
        "\n",
        "# --- Directory containing your new audio files ---\n",
        "NEW_AUDIO_DIR = 'Our own/'\n",
        "# Note: Librosa can handle various audio formats, including .mp3 and .wav\n",
        "print(f\"Searching for audio files in: {os.path.abspath(NEW_AUDIO_DIR)}\")\n",
        "new_audio_files_mp3 = glob.glob(os.path.join(NEW_AUDIO_DIR, '*.mp3'))\n",
        "new_audio_files_wav = glob.glob(os.path.join(NEW_AUDIO_DIR, '*.wav'))\n",
        "new_audio_files = new_audio_files_mp3 + new_audio_files_wav\n",
        "\n",
        "if not new_audio_files:\n",
        "    print(f\"Could not find any .mp3 or .wav files in the directory.\")\n",
        "else:\n",
        "    print(f\"Found {len(new_audio_files)} files to predict on.\")\n",
        "    \n",
        "    # --- Process audio files into Mel spectrograms ---\n",
        "    # We use the same function as before to ensure consistency\n",
        "    X_new = np.array([audio_to_melspectrogram(file) for file in tqdm(new_audio_files, desc=\"Processing new files\")])\n",
        "    \n",
        "    # Filter out any files that failed to process\n",
        "    valid_indices = [i for i, spec in enumerate(X_new) if spec is not None]\n",
        "    X_new_valid = np.array([X_new[i] for i in valid_indices])\n",
        "    new_audio_files_valid = [new_audio_files[i] for i in valid_indices]\n",
        "\n",
        "    if X_new_valid.shape[0] > 0:\n",
        "        # Add the channel dimension for the CNN\n",
        "        X_new_valid = X_new_valid[..., np.newaxis]\n",
        "\n",
        "        print(f\"\\nSuccessfully processed {len(X_new_valid)} files. Shape for prediction: {X_new_valid.shape}\")\n",
        "\n",
        "        # --- Make predictions ---\n",
        "        new_pred_probs = model.predict(X_new_valid)\n",
        "        new_predictions = (new_pred_probs > 0.5).astype(\"int32\")\n",
        "\n",
        "        # --- Decode predictions back to string labels ---\n",
        "        predicted_labels = label_encoder.inverse_transform(new_predictions.flatten())\n",
        "\n",
        "        # --- Display results ---\n",
        "        print(\"\\n--- PREDICTION RESULTS ---\")\n",
        "        for filename, label in zip(new_audio_files_valid, predicted_labels):\n",
        "            print(f\"File: {os.path.basename(filename):<55} -> Predicted Label: {label}\")\n",
        "    else:\n",
        "        print(\"\\nCould not process any of the new audio files. Please check the error messages above.\")\n",
        "\n"
      ]
    },
    {
      "cell_type": "markdown",
      "metadata": {},
      "source": [
        "## 6. Visualize Predictions on New Audio Files\n",
        "\n",
        "A simple list of predictions is good, but a visualization can give us a clearer sense of the model's confidence. The bar chart below shows the raw probability the model assigned to the \"Leak\" class for each of your audio files.\n",
        "\n",
        "-   A high bar (close to 1.0) means the model is very confident it's a **Leak**.\n",
        "-   A low bar (close to 0.0) means the model is very confident it's a **NoLeak**.\n",
        "-   Bars in the middle (around 0.5) indicate the model was uncertain.\n",
        "\n",
        "The color of the bar shows the final prediction after applying the 0.5 threshold.\n"
      ]
    },
    {
      "cell_type": "code",
      "execution_count": 69,
      "metadata": {},
      "outputs": [
        {
          "name": "stderr",
          "output_type": "stream",
          "text": [
            "C:\\Users\\fe_de\\AppData\\Local\\Temp\\ipykernel_34880\\3636772499.py:41: UserWarning: Glyph 10007 (\\N{BALLOT X}) missing from font(s) Arial.\n",
            "  plt.tight_layout()\n",
            "C:\\Users\\fe_de\\AppData\\Local\\Temp\\ipykernel_34880\\3636772499.py:41: UserWarning: Glyph 10003 (\\N{CHECK MARK}) missing from font(s) Arial.\n",
            "  plt.tight_layout()\n",
            "C:\\Users\\fe_de\\AppData\\Local\\Packages\\PythonSoftwareFoundation.Python.3.12_qbz5n2kfra8p0\\LocalCache\\local-packages\\Python312\\site-packages\\IPython\\core\\pylabtools.py:170: UserWarning: Glyph 10007 (\\N{BALLOT X}) missing from font(s) Arial.\n",
            "  fig.canvas.print_figure(bytes_io, **kw)\n",
            "C:\\Users\\fe_de\\AppData\\Local\\Packages\\PythonSoftwareFoundation.Python.3.12_qbz5n2kfra8p0\\LocalCache\\local-packages\\Python312\\site-packages\\IPython\\core\\pylabtools.py:170: UserWarning: Glyph 10003 (\\N{CHECK MARK}) missing from font(s) Arial.\n",
            "  fig.canvas.print_figure(bytes_io, **kw)\n"
          ]
        },
        {
          "data": {
            "image/png": "[encoded data removed]",
            "text/plain": [
              "<Figure size 1200x800 with 1 Axes>"
            ]
          },
          "metadata": {},
          "output_type": "display_data"
        }
      ],
      "source": [
        "# --- Create a DataFrame for visualization ---\n",
        "# Assumption: Filename contains 'leak' for true leaks. You may need to adjust this logic.\n",
        "true_labels = ['Leak' if 'leak' in os.path.basename(f).lower() else 'NoLeak' for f in new_audio_files_valid]\n",
        "\n",
        "# For the 'Pos Filtros.wav' file, let's assume it's a leak for visualization purposes\n",
        "# as its name doesn't contain the label.\n",
        "for i, f in enumerate(new_audio_files_valid):\n",
        "    if 'Pos Filtros' in f:\n",
        "        true_labels[i] = 'Leak'\n",
        "\n",
        "results_df = pd.DataFrame({\n",
        "    'filename': [os.path.basename(f) for f in new_audio_files_valid],\n",
        "    'true_label': true_labels,\n",
        "    'predicted_label': predicted_labels,\n",
        "    'leak_probability': new_pred_probs.flatten()\n",
        "})\n",
        "\n",
        "# Determine if the prediction was correct\n",
        "results_df['correct'] = results_df['true_label'] == results_df['predicted_label']\n",
        "\n",
        "# --- Plot the results ---\n",
        "plt.figure(figsize=(12, 8))\n",
        "barplot = sns.barplot(x='leak_probability', y='filename', data=results_df, \n",
        "                        hue='predicted_label', dodge=False, palette={'Leak': 'skyblue', 'NoLeak': 'lightcoral'})\n",
        "\n",
        "plt.title('Model Prediction Confidence on \"Our Own\" Audio Files', fontsize=16)\n",
        "plt.xlabel('Predicted Probability of \"Leak\"', fontsize=12)\n",
        "plt.ylabel('Audio File', fontsize=12)\n",
        "plt.xlim(0, 1)\n",
        "plt.axvline(x=0.5, color='r', linestyle='--', label='Decision Boundary (0.5)')\n",
        "plt.legend(title='Predicted Label')\n",
        "\n",
        "# Annotate bars with probability values\n",
        "for index, row in results_df.iterrows():\n",
        "    color = 'green' if row['correct'] else 'red'\n",
        "    plt.text(row.leak_probability + 0.02, index, f\"{row.leak_probability:.2f}\", \n",
        "             color='black', va='center')\n",
        "    plt.text(0.9, index, f\"✓ Correct\" if row['correct'] else \"✗ Incorrect\",\n",
        "             color=color, va='center', ha='right', weight='bold')\n",
        "\n",
        "plt.tight_layout()\n",
        "plt.show()\n"
      ]
    },
    {
      "cell_type": "markdown",
      "metadata": {},
      "source": [
        "## 7. Test Generalization on UrbanSound8K Dataset\n",
        "\n",
        "This is an important final step to test how well our model generalizes to completely unrelated sounds. The **UrbanSound8K** dataset contains a wide variety of common urban sounds (e.g., car horns, dogs barking, sirens).\n",
        "\n",
        "Our model, which was only trained to distinguish \"Leak\" from \"NoLeak\" sounds, should ideally classify all of these new sounds as **\"NoLeak.\"** If it predicts \"Leak\" for any of them, it might indicate that some acoustic features of that urban sound are confusingly similar to what the model has learned to identify as a leak.\n",
        "\n",
        "The process will be:\n",
        "1.  Load the metadata for the UrbanSound8K dataset.\n",
        "2.  Randomly select 10 audio files from across its different classes.\n",
        "3.  Process each file into a Mel spectrogram.\n",
        "4.  Use our trained model to predict the class.\n",
        "5.  Display the results, comparing the model's prediction to the actual sound type.\n"
      ]
    },
    {
      "cell_type": "code",
      "execution_count": 70,
      "metadata": {},
      "outputs": [
        {
          "name": "stdout",
          "output_type": "stream",
          "text": [
            "Randomly selected 10 files for testing generalization.\n"
          ]
        },
        {
          "name": "stderr",
          "output_type": "stream",
          "text": [
            "Processing UrbanSound files: 100%|██████████| 10/10 [00:00<00:00, 114.28it/s]"
          ]
        },
        {
          "name": "stdout",
          "output_type": "stream",
          "text": [
            "\u001b[1m1/1\u001b[0m \u001b[32m━━━━━━━━━━━━━━━━━━━━\u001b[0m\u001b[37m\u001b[0m \u001b[1m0s\u001b[0m 37ms/step\n",
            "\n",
            "--- GENERALIZATION TEST RESULTS (UrbanSound8K) ---\n",
            " Original Class          Filename Model Prediction\n",
            "       drilling 180937-4-1-12.wav           NoLeak\n",
            "     jackhammer  188813-7-3-0.wav           NoLeak\n",
            "       drilling   99192-4-0-0.wav           NoLeak\n",
            "          siren  24347-8-0-14.wav           NoLeak\n",
            "air_conditioner  63724-0-0-14.wav           NoLeak\n",
            "       gun_shot  135526-6-9-0.wav           NoLeak\n",
            "       drilling   84699-4-6-0.wav           NoLeak\n",
            "air_conditioner   83502-0-0-0.wav           NoLeak\n",
            "   street_music  157940-9-0-4.wav           NoLeak\n",
            "   street_music  185373-9-0-6.wav           NoLeak\n",
            "\n",
            "Analysis: The model incorrectly identified 0 out of 10 urban sounds as 'Leak'.\n"
          ]
        },
        {
          "name": "stderr",
          "output_type": "stream",
          "text": [
            "\n"
          ]
        }
      ],
      "source": [
        "# --- Parameters for UrbanSound8K ---\n",
        "# Using os.path.join for platform compatibility\n",
        "URBANSOUND_METADATA_PATH = os.path.join('..', 'UrbanSound8K', 'UrbanSound8K', 'metadata', 'UrbanSound8K.csv')\n",
        "URBANSOUND_AUDIO_DIR = os.path.join('..', 'UrbanSound8K', 'UrbanSound8K', 'audio')\n",
        "NUM_RANDOM_SAMPLES = 10\n",
        "\n",
        "# Initialize dataframe outside the try block to ensure it's accessible later\n",
        "urban_results_df = pd.DataFrame()\n",
        "\n",
        "try:\n",
        "    # --- Load metadata ---\n",
        "    urban_df = pd.read_csv(URBANSOUND_METADATA_PATH)\n",
        "    \n",
        "    # --- Select 10 random samples ---\n",
        "    if len(urban_df) >= NUM_RANDOM_SAMPLES:\n",
        "        random_samples = urban_df.sample(n=NUM_RANDOM_SAMPLES)\n",
        "        \n",
        "        # --- Get full file paths ---\n",
        "        urban_sound_files = []\n",
        "        for index, row in random_samples.iterrows():\n",
        "            # Correctly join path components\n",
        "            file_path = os.path.join(URBANSOUND_AUDIO_DIR, f\"fold{row['fold']}\", row['slice_file_name'])\n",
        "            urban_sound_files.append(file_path)\n",
        "\n",
        "        print(f\"Randomly selected {len(urban_sound_files)} files for testing generalization.\")\n",
        "\n",
        "        # --- Process and predict ---\n",
        "        X_urban = np.array([audio_to_melspectrogram(file) for file in tqdm(urban_sound_files, desc=\"Processing UrbanSound files\")])\n",
        "        \n",
        "        valid_indices_urban = [i for i, spec in enumerate(X_urban) if spec is not None]\n",
        "        X_urban_valid = np.array([X_urban[i] for i in valid_indices_urban])\n",
        "        urban_sound_files_valid = [urban_sound_files[i] for i in valid_indices_urban]\n",
        "        random_samples_valid = random_samples.iloc[valid_indices_urban]\n",
        "\n",
        "        if X_urban_valid.shape[0] > 0:\n",
        "            X_urban_valid = X_urban_valid[..., np.newaxis]\n",
        "\n",
        "            urban_pred_probs = model.predict(X_urban_valid)\n",
        "            urban_predictions = (urban_pred_probs > 0.5).astype(\"int32\")\n",
        "            urban_predicted_labels = label_encoder.inverse_transform(urban_predictions.flatten())\n",
        "\n",
        "            # --- Store results in a structured table for later use ---\n",
        "            urban_results_df = pd.DataFrame({\n",
        "                'Original Class': random_samples_valid['class'].values,\n",
        "                'Filename': random_samples_valid['slice_file_name'].values,\n",
        "                'Model Prediction': urban_predicted_labels,\n",
        "                'full_path': urban_sound_files_valid\n",
        "            })\n",
        "            \n",
        "            # Displaying a cleaner version without the full path\n",
        "            display_df = urban_results_df[['Original Class', 'Filename', 'Model Prediction']]\n",
        "            print(\"\\n--- GENERALIZATION TEST RESULTS (UrbanSound8K) ---\")\n",
        "            print(display_df.to_string(index=False))\n",
        "\n",
        "            # --- Final analysis ---\n",
        "            leaks_predicted = urban_results_df[urban_results_df['Model Prediction'] == 'Leak'].shape[0]\n",
        "            print(f\"\\nAnalysis: The model incorrectly identified {leaks_predicted} out of {len(urban_results_df)} urban sounds as 'Leak'.\")\n",
        "\n",
        "        else:\n",
        "            print(\"Could not process any of the selected UrbanSound8K files.\")\n",
        "    else:\n",
        "        print(f\"Not enough samples in the metadata file to select {NUM_RANDOM_SAMPLES} files.\")\n",
        "\n",
        "except FileNotFoundError:\n",
        "    print(f\"Error: Could not find the UrbanSound8K metadata file at '{URBANSOUND_METADATA_PATH}'\")\n",
        "    print(\"Please ensure the dataset is correctly placed in your project directory.\")\n",
        "\n"
      ]
    },
    {
      "cell_type": "code",
      "execution_count": 71,
      "metadata": {},
      "outputs": [
        {
          "name": "stdout",
          "output_type": "stream",
          "text": [
            "Randomly selected 10 files for testing generalization.\n"
          ]
        },
        {
          "name": "stderr",
          "output_type": "stream",
          "text": [
            "Processing UrbanSound files: 100%|██████████| 10/10 [00:00<00:00, 124.71it/s]"
          ]
        },
        {
          "name": "stdout",
          "output_type": "stream",
          "text": [
            "\u001b[1m1/1\u001b[0m \u001b[32m━━━━━━━━━━━━━━━━━━━━\u001b[0m\u001b[37m\u001b[0m \u001b[1m0s\u001b[0m 35ms/step\n",
            "\n",
            "--- GENERALIZATION TEST RESULTS (UrbanSound8K) ---\n",
            "  Original Class           Filename Model Prediction\n",
            "children_playing   13579-2-0-53.wav           NoLeak\n",
            "children_playing    52882-2-0-7.wav           NoLeak\n",
            "           siren   164782-8-0-2.wav           NoLeak\n",
            "      jackhammer    54697-7-0-0.wav           NoLeak\n",
            "        dog_bark    38231-3-0-0.wav           NoLeak\n",
            "   engine_idling  144007-5-0-10.wav           NoLeak\n",
            "        drilling   29721-4-0-10.wav           NoLeak\n",
            " air_conditioner  147926-0-0-52.wav           NoLeak\n",
            " air_conditioner 177621-0-0-126.wav           NoLeak\n",
            "        car_horn    72567-1-0-1.wav           NoLeak\n",
            "\n",
            "Analysis: The model incorrectly identified 0 out of 10 urban sounds as 'Leak'.\n"
          ]
        },
        {
          "name": "stderr",
          "output_type": "stream",
          "text": [
            "\n"
          ]
        }
      ],
      "source": [
        "# --- Parameters for UrbanSound8K ---\n",
        "# Correcting the path to account for the nested folder and notebook location\n",
        "URBANSOUND_METADATA_PATH = '../UrbanSound8K/UrbanSound8K/metadata/UrbanSound8K.csv'\n",
        "URBANSOUND_AUDIO_DIR = '../UrbanSound8K/UrbanSound8K/audio/'\n",
        "NUM_RANDOM_SAMPLES = 10\n",
        "\n",
        "try:\n",
        "    # --- Load metadata ---\n",
        "    urban_df = pd.read_csv(URBANSOUND_METADATA_PATH)\n",
        "    \n",
        "    # --- Select 10 random samples ---\n",
        "    if len(urban_df) >= NUM_RANDOM_SAMPLES:\n",
        "        random_samples = urban_df.sample(n=NUM_RANDOM_SAMPLES)\n",
        "        \n",
        "        # --- Get full file paths ---\n",
        "        urban_sound_files = []\n",
        "        for index, row in random_samples.iterrows():\n",
        "            file_path = os.path.join(URBANSOUND_AUDIO_DIR, f\"fold{row['fold']}\", row['slice_file_name'])\n",
        "            urban_sound_files.append(file_path)\n",
        "\n",
        "        print(f\"Randomly selected {len(urban_sound_files)} files for testing generalization.\")\n",
        "\n",
        "        # --- Process and predict ---\n",
        "        X_urban = np.array([audio_to_melspectrogram(file) for file in tqdm(urban_sound_files, desc=\"Processing UrbanSound files\")])\n",
        "        \n",
        "        valid_indices_urban = [i for i, spec in enumerate(X_urban) if spec is not None]\n",
        "        X_urban_valid = np.array([X_urban[i] for i in valid_indices_urban])\n",
        "        urban_sound_files_valid = [urban_sound_files[i] for i in valid_indices_urban]\n",
        "        random_samples_valid = random_samples.iloc[valid_indices_urban]\n",
        "\n",
        "        if X_urban_valid.shape[0] > 0:\n",
        "            X_urban_valid = X_urban_valid[..., np.newaxis]\n",
        "\n",
        "            urban_pred_probs = model.predict(X_urban_valid)\n",
        "            urban_predictions = (urban_pred_probs > 0.5).astype(\"int32\")\n",
        "            urban_predicted_labels = label_encoder.inverse_transform(urban_predictions.flatten())\n",
        "\n",
        "            # --- Display results in a structured table ---\n",
        "            urban_results_df = pd.DataFrame({\n",
        "                'Original Class': random_samples_valid['class'].values,\n",
        "                'Filename': random_samples_valid['slice_file_name'].values,\n",
        "                'Model Prediction': urban_predicted_labels\n",
        "            })\n",
        "            \n",
        "            print(\"\\n--- GENERALIZATION TEST RESULTS (UrbanSound8K) ---\")\n",
        "            print(urban_results_df.to_string(index=False))\n",
        "\n",
        "            # --- Final analysis ---\n",
        "            leaks_predicted = urban_results_df[urban_results_df['Model Prediction'] == 'Leak'].shape[0]\n",
        "            print(f\"\\nAnalysis: The model incorrectly identified {leaks_predicted} out of {len(urban_results_df)} urban sounds as 'Leak'.\")\n",
        "\n",
        "        else:\n",
        "            print(\"Could not process any of the selected UrbanSound8K files.\")\n",
        "    else:\n",
        "        print(f\"Not enough samples in the metadata file to select {NUM_RANDOM_SAMPLES} files.\")\n",
        "\n",
        "except FileNotFoundError:\n",
        "    print(f\"Error: Could not find the UrbanSound8K metadata file at '{URBANSOUND_METADATA_PATH}'\")\n",
        "    print(\"Please ensure the dataset is correctly placed in your project directory.\")\n",
        "\n"
      ]
    },
    {
      "cell_type": "code",
      "execution_count": 75,
      "metadata": {},
      "outputs": [
        {
          "name": "stdout",
          "output_type": "stream",
          "text": [
            "Randomly selected 200 files for testing generalization.\n"
          ]
        },
        {
          "name": "stderr",
          "output_type": "stream",
          "text": [
            "Processing UrbanSound files:   0%|          | 0/200 [00:00<?, ?it/s]"
          ]
        },
        {
          "name": "stderr",
          "output_type": "stream",
          "text": [
            "Processing UrbanSound files: 100%|██████████| 200/200 [00:01<00:00, 125.00it/s]\n"
          ]
        },
        {
          "name": "stdout",
          "output_type": "stream",
          "text": [
            "\u001b[1m7/7\u001b[0m \u001b[32m━━━━━━━━━━━━━━━━━━━━\u001b[0m\u001b[37m\u001b[0m \u001b[1m0s\u001b[0m 37ms/step\n",
            "\n",
            "--- GENERALIZATION TEST RESULTS (UrbanSound8K) ---\n"
          ]
        },
        {
          "data": {
            "image/png": "[encoded data removed]",
            "text/plain": [
              "<Figure size 800x600 with 1 Axes>"
            ]
          },
          "metadata": {},
          "output_type": "display_data"
        },
        {
          "name": "stdout",
          "output_type": "stream",
          "text": [
            "\n",
            "Analysis: The model incorrectly identified 23 files as 'Leak' (Fail).\n",
            "It correctly identified 177 files as 'NoLeak' (Success).\n"
          ]
        }
      ],
      "source": [
        "# --- Parameters for UrbanSound8K ---\n",
        "# Using os.path.join for platform compatibility\n",
        "URBANSOUND_METADATA_PATH = os.path.join('..', 'UrbanSound8K', 'UrbanSound8K', 'metadata', 'UrbanSound8K.csv')\n",
        "URBANSOUND_AUDIO_DIR = os.path.join('..', 'UrbanSound8K', 'UrbanSound8K', 'audio')\n",
        "NUM_RANDOM_SAMPLES = 200 # Increased to 100\n",
        "\n",
        "# Initialize dataframe outside the try block to ensure it's accessible later\n",
        "urban_results_df = pd.DataFrame()\n",
        "\n",
        "try:\n",
        "    # --- Load metadata ---\n",
        "    urban_df = pd.read_csv(URBANSOUND_METADATA_PATH)\n",
        "    \n",
        "    # --- Select 100 random samples ---\n",
        "    if len(urban_df) >= NUM_RANDOM_SAMPLES:\n",
        "        random_samples = urban_df.sample(n=NUM_RANDOM_SAMPLES, random_state=42) # Added random_state for reproducibility\n",
        "        \n",
        "        # --- Get full file paths ---\n",
        "        urban_sound_files = []\n",
        "        for index, row in random_samples.iterrows():\n",
        "            # Correctly join path components\n",
        "            file_path = os.path.join(URBANSOUND_AUDIO_DIR, f\"fold{row['fold']}\", row['slice_file_name'])\n",
        "            urban_sound_files.append(file_path)\n",
        "\n",
        "        print(f\"Randomly selected {len(urban_sound_files)} files for testing generalization.\")\n",
        "\n",
        "        # --- Process and predict ---\n",
        "        X_urban = np.array([audio_to_melspectrogram(file) for file in tqdm(urban_sound_files, desc=\"Processing UrbanSound files\")])\n",
        "        \n",
        "        valid_indices_urban = [i for i, spec in enumerate(X_urban) if spec is not None]\n",
        "        X_urban_valid = np.array([X_urban[i] for i in valid_indices_urban])\n",
        "\n",
        "        if X_urban_valid.shape[0] > 0:\n",
        "            X_urban_valid = X_urban_valid[..., np.newaxis]\n",
        "\n",
        "            urban_pred_probs = model.predict(X_urban_valid)\n",
        "            urban_predictions = (urban_pred_probs > 0.5).astype(\"int32\")\n",
        "            urban_predicted_labels = label_encoder.inverse_transform(urban_predictions.flatten())\n",
        "\n",
        "            # --- Store results ---\n",
        "            urban_results_df = pd.DataFrame({'Model Prediction': urban_predicted_labels})\n",
        "            \n",
        "            # --- Analysis ---\n",
        "            leaks_predicted = (urban_results_df['Model Prediction'] == 'Leak').sum()\n",
        "            noleaks_predicted = len(urban_results_df) - leaks_predicted\n",
        "            \n",
        "            print(\"\\n--- GENERALIZATION TEST RESULTS (UrbanSound8K) ---\")\n",
        "            \n",
        "            # --- Visualization of predictions ---\n",
        "            plt.figure(figsize=(8, 6))\n",
        "            # Updated to address FutureWarning: assign 'x' to 'hue' and set legend=False.\n",
        "            ax = sns.countplot(x='Model Prediction', data=urban_results_df, palette={\"Leak\": \"#e74c3c\", \"NoLeak\": \"#2ecc71\"}, order=['NoLeak', 'Leak'], hue='Model Prediction', legend=False)\n",
        "            # To fix the UserWarning, we explicitly set the ticks before setting the labels.\n",
        "            ax.set_xticks(ax.get_xticks())\n",
        "            ax.set_xticklabels(['Success (Predicted NoLeak)', 'Fail (Predicted Leak)'])\n",
        "            plt.title(f'Model Generalization on {NUM_RANDOM_SAMPLES} Random Urban Sounds')\n",
        "            plt.xlabel('Prediction Outcome')\n",
        "            plt.ylabel('Number of Files')\n",
        "            \n",
        "            # Adding text annotations to the bars\n",
        "            for p in ax.patches:\n",
        "                ax.annotate(f'{int(p.get_height())}', (p.get_x() + p.get_width() / 2., p.get_height()),\n",
        "                            ha='center', va='center', xytext=(0, 9), textcoords='offset points', fontsize=12)\n",
        "            plt.show()\n",
        "\n",
        "            print(f\"\\nAnalysis: The model incorrectly identified {leaks_predicted} files as 'Leak' (Fail).\")\n",
        "            print(f\"It correctly identified {noleaks_predicted} files as 'NoLeak' (Success).\")\n",
        "\n",
        "        else:\n",
        "            print(\"Could not process any of the selected UrbanSound8K files.\")\n",
        "    else:\n",
        "        print(f\"Not enough samples in the metadata file to select {NUM_RANDOM_SAMPLES} files.\")\n",
        "\n",
        "except FileNotFoundError:\n",
        "    print(f\"Error: Could not find the UrbanSound8K metadata file at '{URBANSOUND_METADATA_PATH}'\")\n",
        "    print(\"Please ensure the dataset is correctly placed in your project directory.\")"
      ]
    },
    {
      "cell_type": "code",
      "execution_count": 76,
      "metadata": {},
      "outputs": [
        {
          "name": "stdout",
          "output_type": "stream",
          "text": [
            "Randomly selected 200 files for testing generalization.\n"
          ]
        },
        {
          "name": "stderr",
          "output_type": "stream",
          "text": [
            "Processing UrbanSound files: 100%|██████████| 200/200 [00:01<00:00, 123.46it/s]\n"
          ]
        },
        {
          "name": "stdout",
          "output_type": "stream",
          "text": [
            "\u001b[1m7/7\u001b[0m \u001b[32m━━━━━━━━━━━━━━━━━━━━\u001b[0m\u001b[37m\u001b[0m \u001b[1m0s\u001b[0m 37ms/step\n",
            "\n",
            "--- GENERALIZATION TEST RESULTS (UrbanSound8K) ---\n"
          ]
        },
        {
          "data": {
            "image/png": "[encoded data removed]",
            "text/plain": [
              "<Figure size 800x600 with 1 Axes>"
            ]
          },
          "metadata": {},
          "output_type": "display_data"
        },
        {
          "name": "stdout",
          "output_type": "stream",
          "text": [
            "\n",
            "Analysis: The model incorrectly identified 26 files as 'Leak' (Fail).\n",
            "It correctly identified 174 files as 'NoLeak' (Success).\n"
          ]
        }
      ],
      "source": [
        "# --- Parameters for UrbanSound8K ---\n",
        "# Using os.path.join for platform compatibility\n",
        "URBANSOUND_METADATA_PATH = os.path.join('..', 'UrbanSound8K', 'UrbanSound8K', 'metadata', 'UrbanSound8K.csv')\n",
        "URBANSOUND_AUDIO_DIR = os.path.join('..', 'UrbanSound8K', 'UrbanSound8K', 'audio')\n",
        "NUM_RANDOM_SAMPLES = 200 # Increased to 100\n",
        "\n",
        "# Initialize dataframe outside the try block to ensure it's accessible later\n",
        "urban_results_df = pd.DataFrame()\n",
        "\n",
        "try:\n",
        "    # --- Load metadata ---\n",
        "    urban_df = pd.read_csv(URBANSOUND_METADATA_PATH)\n",
        "    \n",
        "    # --- Select 100 random samples ---\n",
        "    if len(urban_df) >= NUM_RANDOM_SAMPLES:\n",
        "        random_samples = urban_df.sample(n=NUM_RANDOM_SAMPLES, random_state=77) # Added random_state for reproducibility\n",
        "        \n",
        "        # --- Get full file paths ---\n",
        "        urban_sound_files = []\n",
        "        for index, row in random_samples.iterrows():\n",
        "            # Correctly join path components\n",
        "            file_path = os.path.join(URBANSOUND_AUDIO_DIR, f\"fold{row['fold']}\", row['slice_file_name'])\n",
        "            urban_sound_files.append(file_path)\n",
        "\n",
        "        print(f\"Randomly selected {len(urban_sound_files)} files for testing generalization.\")\n",
        "\n",
        "        # --- Process and predict ---\n",
        "        X_urban = np.array([audio_to_melspectrogram(file) for file in tqdm(urban_sound_files, desc=\"Processing UrbanSound files\")])\n",
        "        \n",
        "        valid_indices_urban = [i for i, spec in enumerate(X_urban) if spec is not None]\n",
        "        X_urban_valid = np.array([X_urban[i] for i in valid_indices_urban])\n",
        "\n",
        "        if X_urban_valid.shape[0] > 0:\n",
        "            X_urban_valid = X_urban_valid[..., np.newaxis]\n",
        "\n",
        "            urban_pred_probs = model.predict(X_urban_valid)\n",
        "            urban_predictions = (urban_pred_probs > 0.5).astype(\"int32\")\n",
        "            urban_predicted_labels = label_encoder.inverse_transform(urban_predictions.flatten())\n",
        "\n",
        "            # --- Store results ---\n",
        "            urban_results_df = pd.DataFrame({'Model Prediction': urban_predicted_labels})\n",
        "            \n",
        "            # --- Analysis ---\n",
        "            leaks_predicted = (urban_results_df['Model Prediction'] == 'Leak').sum()\n",
        "            noleaks_predicted = len(urban_results_df) - leaks_predicted\n",
        "            \n",
        "            print(\"\\n--- GENERALIZATION TEST RESULTS (UrbanSound8K) ---\")\n",
        "            \n",
        "            # --- Visualization of predictions ---\n",
        "            plt.figure(figsize=(8, 6))\n",
        "            # Updated to address FutureWarning: assign 'x' to 'hue' and set legend=False.\n",
        "            ax = sns.countplot(x='Model Prediction', data=urban_results_df, palette={\"Leak\": \"#e74c3c\", \"NoLeak\": \"#2ecc71\"}, order=['NoLeak', 'Leak'], hue='Model Prediction', legend=False)\n",
        "            # To fix the UserWarning, we explicitly set the ticks before setting the labels.\n",
        "            ax.set_xticks(ax.get_xticks())\n",
        "            ax.set_xticklabels(['Success (Predicted NoLeak)', 'Fail (Predicted Leak)'])\n",
        "            plt.title(f'Model Generalization on {NUM_RANDOM_SAMPLES} Random Urban Sounds')\n",
        "            plt.xlabel('Prediction Outcome')\n",
        "            plt.ylabel('Number of Files')\n",
        "            \n",
        "            # Adding text annotations to the bars\n",
        "            for p in ax.patches:\n",
        "                ax.annotate(f'{int(p.get_height())}', (p.get_x() + p.get_width() / 2., p.get_height()),\n",
        "                            ha='center', va='center', xytext=(0, 9), textcoords='offset points', fontsize=12)\n",
        "            plt.show()\n",
        "\n",
        "            print(f\"\\nAnalysis: The model incorrectly identified {leaks_predicted} files as 'Leak' (Fail).\")\n",
        "            print(f\"It correctly identified {noleaks_predicted} files as 'NoLeak' (Success).\")\n",
        "\n",
        "        else:\n",
        "            print(\"Could not process any of the selected UrbanSound8K files.\")\n",
        "    else:\n",
        "        print(f\"Not enough samples in the metadata file to select {NUM_RANDOM_SAMPLES} files.\")\n",
        "\n",
        "except FileNotFoundError:\n",
        "    print(f\"Error: Could not find the UrbanSound8K metadata file at '{URBANSOUND_METADATA_PATH}'\")\n",
        "    print(\"Please ensure the dataset is correctly placed in your project directory.\")"
      ]
    },
    {
      "cell_type": "markdown",
      "metadata": {},
      "source": [
        "## 8. Edge AI Deployment Considerations\n",
        "\n",
        "Yes, this model is a strong candidate for deployment on Edge AI devices, but there are important considerations, especially regarding the pre-processing pipeline.\n",
        "\n",
        "### Model Suitability\n",
        "\n",
        "-   **Size and Complexity:** The model is relatively small. With **109,313 parameters**, the resulting file size is under 500 KB. This is well within the capacity of many edge devices, including more powerful microcontrollers.\n",
        "-   **Standard Layers:** The model uses standard Keras layers (`Conv2D`, `MaxPooling2D`, `Dense`, etc.), which are broadly supported by edge inference engines.\n",
        "\n",
        "### Deployment Path: TensorFlow Lite\n",
        "\n",
        "The most common path for deploying a Keras model to an edge device is to convert it to the **TensorFlow Lite (TFLite)** format.\n",
        "\n",
        "1.  **Conversion:** You can save your trained Keras model and then use the `tf.lite.TFLiteConverter` to create a `.tflite` file.\n",
        "2.  **Quantization (Optional but Recommended):** To further reduce the model's size and speed up inference (especially on supported hardware), you can apply quantization during the conversion process. This converts the model's weights from 32-bit floats to 16-bit floats or even 8-bit integers.\n",
        "\n",
        "Here's a brief code example of what that conversion looks like:\n",
        "```python\n",
        "# Assuming 'model' is your trained Keras model\n",
        "import tensorflow as tf\n",
        "\n",
        "# Convert to TensorFlow Lite format\n",
        "converter = tf.lite.TFLiteConverter.from_keras_model(model)\n",
        "tflite_model = converter.convert()\n",
        "\n",
        "# Save the model to a file\n",
        "with open('model.tflite', 'wb') as f:\n",
        "  f.write(tflite_model)\n",
        "\n",
        "# Example with quantization (e.g., float16)\n",
        "converter.optimizations = [tf.lite.Optimize.DEFAULT]\n",
        "converter.target_spec.supported_types = [tf.lite.float16]\n",
        "tflite_fp16_model = converter.convert()\n",
        "\n",
        "with open('model_fp16.tflite', 'wb') as f:\n",
        "  f.write(tflite_fp16_model)\n",
        "```\n",
        "\n",
        "### The Main Challenge: Feature Extraction on the Edge\n",
        "\n",
        "The most significant challenge is not the model itself, but replicating the **audio pre-processing pipeline** on the target device. The inference must run on a Mel spectrogram with the exact same parameters used in training:\n",
        "\n",
        "-   Audio clipped/padded to 10 seconds at 22050 Hz.\n",
        "-   Mel spectrogram with 128 Mel bands.\n",
        "-   Power-to-DB conversion.\n",
        "\n",
        "The `librosa` library is excellent for training but is generally too large and slow for resource-constrained edge devices.\n",
        "\n",
        "-   **For higher-power edge devices (e.g., Raspberry Pi, NVIDIA Jetson):** You might be able to install `librosa`, but performance could be a bottleneck. It would be better to find or implement the spectrogram logic using a lighter-weight library in Python (like `scipy`'s FFT functions) or a C++ library for better performance.\n",
        "-   **For microcontrollers (e.g., ESP32, ARM Cortex-M):** `librosa` is not an option. You would need to re-implement the entire feature extraction process in C/C++. Libraries like **CMSIS-DSP** (for ARM cores) provide highly optimized functions for FFTs and other DSP operations that are the building blocks for creating a Mel spectrogram. This is a non-trivial engineering task.\n",
        "\n",
        "### Conclusion\n",
        "\n",
        "The CNN model's architecture is perfectly suited for Edge AI. The primary development effort will be to create an efficient and equivalent feature extraction pipeline that can run on your specific target hardware to generate the Mel spectrogram that the model expects as input.\n"
      ]
    }
  ],
  "metadata": {
    "kernelspec": {
      "display_name": "Python 3",
      "language": "python",
      "name": "python3"
    },
    "language_info": {
      "codemirror_mode": {
        "name": "ipython",
        "version": 3
      },
      "file_extension": ".py",
      "mimetype": "text/x-python",
      "name": "python",
      "nbconvert_exporter": "python",
      "pygments_lexer": "ipython3",
      "version": "3.12.10"
    }
  },
  "nbformat": 4,
  "nbformat_minor": 2
}
