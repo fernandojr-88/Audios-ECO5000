{
  "cells": [
    {
      "cell_type": "markdown",
      "metadata": {},
      "source": [
        "# Notebook 2: Train on the Pre-Generated Augmented Dataset\n",
        "\n",
        "This notebook represents the final stage of our experimentation.\n",
        "\n",
        "1.  **Dataset:** We will use the large, static dataset we created in the `generate_augmented_dataset.ipynb` notebook. This dataset includes our most advanced augmentation techniques, including **chunk shuffling**.\n",
        "2.  **Feature Extraction:** We will use the feature representation that has proven to be the most effective: **Mel spectrograms**.\n",
        "3.  **Model:** We will use our best-performing model architecture: the binary CNN with `EarlyStopping`.\n",
        "\n",
        "The goal is to see if training our best model on our best, most diverse dataset can achieve a new level of performance. Because the data is already generated, this notebook will be much simpler and faster to execute for repeated training runs.\n"
      ]
    },
    {
      "cell_type": "markdown",
      "metadata": {},
      "source": [
        "## 1. Setup and Imports\n"
      ]
    },
    {
      "cell_type": "code",
      "execution_count": 1,
      "metadata": {},
      "outputs": [
        {
          "name": "stdout",
          "output_type": "stream",
          "text": [
            "Defaulting to user installation because normal site-packages is not writeable\n",
            "Requirement already satisfied: tensorflow in c:\\users\\fe_de\\appdata\\local\\packages\\pythonsoftwarefoundation.python.3.12_qbz5n2kfra8p0\\localcache\\local-packages\\python312\\site-packages (2.20.0)\n",
            "Requirement already satisfied: scikit-learn in c:\\users\\fe_de\\appdata\\local\\packages\\pythonsoftwarefoundation.python.3.12_qbz5n2kfra8p0\\localcache\\local-packages\\python312\\site-packages (1.7.2)\n",
            "Requirement already satisfied: librosa in c:\\users\\fe_de\\appdata\\local\\packages\\pythonsoftwarefoundation.python.3.12_qbz5n2kfra8p0\\localcache\\local-packages\\python312\\site-packages (0.11.0)\n",
            "Requirement already satisfied: numpy in c:\\users\\fe_de\\appdata\\local\\packages\\pythonsoftwarefoundation.python.3.12_qbz5n2kfra8p0\\localcache\\local-packages\\python312\\site-packages (2.3.1)\n",
            "Requirement already satisfied: pandas in c:\\users\\fe_de\\appdata\\local\\packages\\pythonsoftwarefoundation.python.3.12_qbz5n2kfra8p0\\localcache\\local-packages\\python312\\site-packages (2.3.1)\n",
            "Requirement already satisfied: matplotlib in c:\\users\\fe_de\\appdata\\local\\packages\\pythonsoftwarefoundation.python.3.12_qbz5n2kfra8p0\\localcache\\local-packages\\python312\\site-packages (3.10.3)\n",
            "Requirement already satisfied: seaborn in c:\\users\\fe_de\\appdata\\local\\packages\\pythonsoftwarefoundation.python.3.12_qbz5n2kfra8p0\\localcache\\local-packages\\python312\\site-packages (0.13.2)\n",
            "Requirement already satisfied: tqdm in c:\\users\\fe_de\\appdata\\local\\packages\\pythonsoftwarefoundation.python.3.12_qbz5n2kfra8p0\\localcache\\local-packages\\python312\\site-packages (4.67.1)\n",
            "Requirement already satisfied: absl-py>=1.0.0 in c:\\users\\fe_de\\appdata\\local\\packages\\pythonsoftwarefoundation.python.3.12_qbz5n2kfra8p0\\localcache\\local-packages\\python312\\site-packages (from tensorflow) (2.3.1)\n",
            "Requirement already satisfied: astunparse>=1.6.0 in c:\\users\\fe_de\\appdata\\local\\packages\\pythonsoftwarefoundation.python.3.12_qbz5n2kfra8p0\\localcache\\local-packages\\python312\\site-packages (from tensorflow) (1.6.3)\n",
            "Requirement already satisfied: flatbuffers>=24.3.25 in c:\\users\\fe_de\\appdata\\local\\packages\\pythonsoftwarefoundation.python.3.12_qbz5n2kfra8p0\\localcache\\local-packages\\python312\\site-packages (from tensorflow) (25.2.10)\n",
            "Requirement already satisfied: gast!=0.5.0,!=0.5.1,!=0.5.2,>=0.2.1 in c:\\users\\fe_de\\appdata\\local\\packages\\pythonsoftwarefoundation.python.3.12_qbz5n2kfra8p0\\localcache\\local-packages\\python312\\site-packages (from tensorflow) (0.6.0)\n",
            "Requirement already satisfied: google_pasta>=0.1.1 in c:\\users\\fe_de\\appdata\\local\\packages\\pythonsoftwarefoundation.python.3.12_qbz5n2kfra8p0\\localcache\\local-packages\\python312\\site-packages (from tensorflow) (0.2.0)\n",
            "Requirement already satisfied: libclang>=13.0.0 in c:\\users\\fe_de\\appdata\\local\\packages\\pythonsoftwarefoundation.python.3.12_qbz5n2kfra8p0\\localcache\\local-packages\\python312\\site-packages (from tensorflow) (18.1.1)\n",
            "Requirement already satisfied: opt_einsum>=2.3.2 in c:\\users\\fe_de\\appdata\\local\\packages\\pythonsoftwarefoundation.python.3.12_qbz5n2kfra8p0\\localcache\\local-packages\\python312\\site-packages (from tensorflow) (3.4.0)\n",
            "Requirement already satisfied: packaging in c:\\users\\fe_de\\appdata\\local\\packages\\pythonsoftwarefoundation.python.3.12_qbz5n2kfra8p0\\localcache\\local-packages\\python312\\site-packages (from tensorflow) (25.0)\n",
            "Requirement already satisfied: protobuf>=5.28.0 in c:\\users\\fe_de\\appdata\\local\\packages\\pythonsoftwarefoundation.python.3.12_qbz5n2kfra8p0\\localcache\\local-packages\\python312\\site-packages (from tensorflow) (6.31.1)\n",
            "Requirement already satisfied: requests<3,>=2.21.0 in c:\\users\\fe_de\\appdata\\local\\packages\\pythonsoftwarefoundation.python.3.12_qbz5n2kfra8p0\\localcache\\local-packages\\python312\\site-packages (from tensorflow) (2.31.0)\n",
            "Requirement already satisfied: setuptools in c:\\users\\fe_de\\appdata\\local\\packages\\pythonsoftwarefoundation.python.3.12_qbz5n2kfra8p0\\localcache\\local-packages\\python312\\site-packages (from tensorflow) (80.9.0)\n",
            "Requirement already satisfied: six>=1.12.0 in c:\\users\\fe_de\\appdata\\local\\packages\\pythonsoftwarefoundation.python.3.12_qbz5n2kfra8p0\\localcache\\local-packages\\python312\\site-packages (from tensorflow) (1.17.0)\n",
            "Requirement already satisfied: termcolor>=1.1.0 in c:\\users\\fe_de\\appdata\\local\\packages\\pythonsoftwarefoundation.python.3.12_qbz5n2kfra8p0\\localcache\\local-packages\\python312\\site-packages (from tensorflow) (3.2.0)\n",
            "Requirement already satisfied: typing_extensions>=3.6.6 in c:\\users\\fe_de\\appdata\\local\\packages\\pythonsoftwarefoundation.python.3.12_qbz5n2kfra8p0\\localcache\\local-packages\\python312\\site-packages (from tensorflow) (4.14.1)\n",
            "Requirement already satisfied: wrapt>=1.11.0 in c:\\users\\fe_de\\appdata\\local\\packages\\pythonsoftwarefoundation.python.3.12_qbz5n2kfra8p0\\localcache\\local-packages\\python312\\site-packages (from tensorflow) (2.0.0)\n",
            "Requirement already satisfied: grpcio<2.0,>=1.24.3 in c:\\users\\fe_de\\appdata\\local\\packages\\pythonsoftwarefoundation.python.3.12_qbz5n2kfra8p0\\localcache\\local-packages\\python312\\site-packages (from tensorflow) (1.76.0)\n",
            "Requirement already satisfied: tensorboard~=2.20.0 in c:\\users\\fe_de\\appdata\\local\\packages\\pythonsoftwarefoundation.python.3.12_qbz5n2kfra8p0\\localcache\\local-packages\\python312\\site-packages (from tensorflow) (2.20.0)\n",
            "Requirement already satisfied: keras>=3.10.0 in c:\\users\\fe_de\\appdata\\local\\packages\\pythonsoftwarefoundation.python.3.12_qbz5n2kfra8p0\\localcache\\local-packages\\python312\\site-packages (from tensorflow) (3.12.0)\n",
            "Requirement already satisfied: h5py>=3.11.0 in c:\\users\\fe_de\\appdata\\local\\packages\\pythonsoftwarefoundation.python.3.12_qbz5n2kfra8p0\\localcache\\local-packages\\python312\\site-packages (from tensorflow) (3.15.1)\n",
            "Requirement already satisfied: ml_dtypes<1.0.0,>=0.5.1 in c:\\users\\fe_de\\appdata\\local\\packages\\pythonsoftwarefoundation.python.3.12_qbz5n2kfra8p0\\localcache\\local-packages\\python312\\site-packages (from tensorflow) (0.5.3)\n",
            "Requirement already satisfied: scipy>=1.8.0 in c:\\users\\fe_de\\appdata\\local\\packages\\pythonsoftwarefoundation.python.3.12_qbz5n2kfra8p0\\localcache\\local-packages\\python312\\site-packages (from scikit-learn) (1.16.0)\n",
            "Requirement already satisfied: joblib>=1.2.0 in c:\\users\\fe_de\\appdata\\local\\packages\\pythonsoftwarefoundation.python.3.12_qbz5n2kfra8p0\\localcache\\local-packages\\python312\\site-packages (from scikit-learn) (1.5.2)\n",
            "Requirement already satisfied: threadpoolctl>=3.1.0 in c:\\users\\fe_de\\appdata\\local\\packages\\pythonsoftwarefoundation.python.3.12_qbz5n2kfra8p0\\localcache\\local-packages\\python312\\site-packages (from scikit-learn) (3.6.0)\n",
            "Requirement already satisfied: audioread>=2.1.9 in c:\\users\\fe_de\\appdata\\local\\packages\\pythonsoftwarefoundation.python.3.12_qbz5n2kfra8p0\\localcache\\local-packages\\python312\\site-packages (from librosa) (3.1.0)\n",
            "Requirement already satisfied: numba>=0.51.0 in c:\\users\\fe_de\\appdata\\local\\packages\\pythonsoftwarefoundation.python.3.12_qbz5n2kfra8p0\\localcache\\local-packages\\python312\\site-packages (from librosa) (0.62.1)\n",
            "Requirement already satisfied: decorator>=4.3.0 in c:\\users\\fe_de\\appdata\\local\\packages\\pythonsoftwarefoundation.python.3.12_qbz5n2kfra8p0\\localcache\\local-packages\\python312\\site-packages (from librosa) (5.2.1)\n",
            "Requirement already satisfied: soundfile>=0.12.1 in c:\\users\\fe_de\\appdata\\local\\packages\\pythonsoftwarefoundation.python.3.12_qbz5n2kfra8p0\\localcache\\local-packages\\python312\\site-packages (from librosa) (0.13.1)\n",
            "Requirement already satisfied: pooch>=1.1 in c:\\users\\fe_de\\appdata\\local\\packages\\pythonsoftwarefoundation.python.3.12_qbz5n2kfra8p0\\localcache\\local-packages\\python312\\site-packages (from librosa) (1.8.2)\n",
            "Requirement already satisfied: soxr>=0.3.2 in c:\\users\\fe_de\\appdata\\local\\packages\\pythonsoftwarefoundation.python.3.12_qbz5n2kfra8p0\\localcache\\local-packages\\python312\\site-packages (from librosa) (1.0.0)\n",
            "Requirement already satisfied: lazy_loader>=0.1 in c:\\users\\fe_de\\appdata\\local\\packages\\pythonsoftwarefoundation.python.3.12_qbz5n2kfra8p0\\localcache\\local-packages\\python312\\site-packages (from librosa) (0.4)\n",
            "Requirement already satisfied: msgpack>=1.0 in c:\\users\\fe_de\\appdata\\local\\packages\\pythonsoftwarefoundation.python.3.12_qbz5n2kfra8p0\\localcache\\local-packages\\python312\\site-packages (from librosa) (1.1.2)\n",
            "Requirement already satisfied: python-dateutil>=2.8.2 in c:\\users\\fe_de\\appdata\\local\\packages\\pythonsoftwarefoundation.python.3.12_qbz5n2kfra8p0\\localcache\\local-packages\\python312\\site-packages (from pandas) (2.9.0.post0)\n",
            "Requirement already satisfied: pytz>=2020.1 in c:\\users\\fe_de\\appdata\\local\\packages\\pythonsoftwarefoundation.python.3.12_qbz5n2kfra8p0\\localcache\\local-packages\\python312\\site-packages (from pandas) (2025.2)\n",
            "Requirement already satisfied: tzdata>=2022.7 in c:\\users\\fe_de\\appdata\\local\\packages\\pythonsoftwarefoundation.python.3.12_qbz5n2kfra8p0\\localcache\\local-packages\\python312\\site-packages (from pandas) (2025.2)\n",
            "Requirement already satisfied: contourpy>=1.0.1 in c:\\users\\fe_de\\appdata\\local\\packages\\pythonsoftwarefoundation.python.3.12_qbz5n2kfra8p0\\localcache\\local-packages\\python312\\site-packages (from matplotlib) (1.3.2)\n",
            "Requirement already satisfied: cycler>=0.10 in c:\\users\\fe_de\\appdata\\local\\packages\\pythonsoftwarefoundation.python.3.12_qbz5n2kfra8p0\\localcache\\local-packages\\python312\\site-packages (from matplotlib) (0.12.1)\n",
            "Requirement already satisfied: fonttools>=4.22.0 in c:\\users\\fe_de\\appdata\\local\\packages\\pythonsoftwarefoundation.python.3.12_qbz5n2kfra8p0\\localcache\\local-packages\\python312\\site-packages (from matplotlib) (4.59.0)\n",
            "Requirement already satisfied: kiwisolver>=1.3.1 in c:\\users\\fe_de\\appdata\\local\\packages\\pythonsoftwarefoundation.python.3.12_qbz5n2kfra8p0\\localcache\\local-packages\\python312\\site-packages (from matplotlib) (1.4.8)\n",
            "Requirement already satisfied: pillow>=8 in c:\\users\\fe_de\\appdata\\local\\packages\\pythonsoftwarefoundation.python.3.12_qbz5n2kfra8p0\\localcache\\local-packages\\python312\\site-packages (from matplotlib) (11.3.0)\n",
            "Requirement already satisfied: pyparsing>=2.3.1 in c:\\users\\fe_de\\appdata\\local\\packages\\pythonsoftwarefoundation.python.3.12_qbz5n2kfra8p0\\localcache\\local-packages\\python312\\site-packages (from matplotlib) (3.2.3)\n",
            "Requirement already satisfied: colorama in c:\\users\\fe_de\\appdata\\local\\packages\\pythonsoftwarefoundation.python.3.12_qbz5n2kfra8p0\\localcache\\local-packages\\python312\\site-packages (from tqdm) (0.4.6)\n",
            "Requirement already satisfied: wheel<1.0,>=0.23.0 in c:\\users\\fe_de\\appdata\\local\\packages\\pythonsoftwarefoundation.python.3.12_qbz5n2kfra8p0\\localcache\\local-packages\\python312\\site-packages (from astunparse>=1.6.0->tensorflow) (0.45.1)\n",
            "Requirement already satisfied: rich in c:\\users\\fe_de\\appdata\\local\\packages\\pythonsoftwarefoundation.python.3.12_qbz5n2kfra8p0\\localcache\\local-packages\\python312\\site-packages (from keras>=3.10.0->tensorflow) (14.2.0)\n",
            "Requirement already satisfied: namex in c:\\users\\fe_de\\appdata\\local\\packages\\pythonsoftwarefoundation.python.3.12_qbz5n2kfra8p0\\localcache\\local-packages\\python312\\site-packages (from keras>=3.10.0->tensorflow) (0.1.0)\n",
            "Requirement already satisfied: optree in c:\\users\\fe_de\\appdata\\local\\packages\\pythonsoftwarefoundation.python.3.12_qbz5n2kfra8p0\\localcache\\local-packages\\python312\\site-packages (from keras>=3.10.0->tensorflow) (0.17.0)\n",
            "Requirement already satisfied: llvmlite<0.46,>=0.45.0dev0 in c:\\users\\fe_de\\appdata\\local\\packages\\pythonsoftwarefoundation.python.3.12_qbz5n2kfra8p0\\localcache\\local-packages\\python312\\site-packages (from numba>=0.51.0->librosa) (0.45.1)\n",
            "Requirement already satisfied: platformdirs>=2.5.0 in c:\\users\\fe_de\\appdata\\local\\packages\\pythonsoftwarefoundation.python.3.12_qbz5n2kfra8p0\\localcache\\local-packages\\python312\\site-packages (from pooch>=1.1->librosa) (4.5.0)\n",
            "Requirement already satisfied: charset-normalizer<4,>=2 in c:\\users\\fe_de\\appdata\\local\\packages\\pythonsoftwarefoundation.python.3.12_qbz5n2kfra8p0\\localcache\\local-packages\\python312\\site-packages (from requests<3,>=2.21.0->tensorflow) (3.4.2)\n",
            "Requirement already satisfied: idna<4,>=2.5 in c:\\users\\fe_de\\appdata\\local\\packages\\pythonsoftwarefoundation.python.3.12_qbz5n2kfra8p0\\localcache\\local-packages\\python312\\site-packages (from requests<3,>=2.21.0->tensorflow) (3.10)\n",
            "Requirement already satisfied: urllib3<3,>=1.21.1 in c:\\users\\fe_de\\appdata\\local\\packages\\pythonsoftwarefoundation.python.3.12_qbz5n2kfra8p0\\localcache\\local-packages\\python312\\site-packages (from requests<3,>=2.21.0->tensorflow) (2.5.0)\n",
            "Requirement already satisfied: certifi>=2017.4.17 in c:\\users\\fe_de\\appdata\\local\\packages\\pythonsoftwarefoundation.python.3.12_qbz5n2kfra8p0\\localcache\\local-packages\\python312\\site-packages (from requests<3,>=2.21.0->tensorflow) (2025.7.14)\n",
            "Requirement already satisfied: cffi>=1.0 in c:\\users\\fe_de\\appdata\\local\\packages\\pythonsoftwarefoundation.python.3.12_qbz5n2kfra8p0\\localcache\\local-packages\\python312\\site-packages (from soundfile>=0.12.1->librosa) (1.17.1)\n",
            "Requirement already satisfied: markdown>=2.6.8 in c:\\users\\fe_de\\appdata\\local\\packages\\pythonsoftwarefoundation.python.3.12_qbz5n2kfra8p0\\localcache\\local-packages\\python312\\site-packages (from tensorboard~=2.20.0->tensorflow) (3.9)\n",
            "Requirement already satisfied: tensorboard-data-server<0.8.0,>=0.7.0 in c:\\users\\fe_de\\appdata\\local\\packages\\pythonsoftwarefoundation.python.3.12_qbz5n2kfra8p0\\localcache\\local-packages\\python312\\site-packages (from tensorboard~=2.20.0->tensorflow) (0.7.2)\n",
            "Requirement already satisfied: werkzeug>=1.0.1 in c:\\users\\fe_de\\appdata\\local\\packages\\pythonsoftwarefoundation.python.3.12_qbz5n2kfra8p0\\localcache\\local-packages\\python312\\site-packages (from tensorboard~=2.20.0->tensorflow) (3.1.3)\n",
            "Requirement already satisfied: pycparser in c:\\users\\fe_de\\appdata\\local\\packages\\pythonsoftwarefoundation.python.3.12_qbz5n2kfra8p0\\localcache\\local-packages\\python312\\site-packages (from cffi>=1.0->soundfile>=0.12.1->librosa) (2.22)\n",
            "Requirement already satisfied: MarkupSafe>=2.1.1 in c:\\users\\fe_de\\appdata\\local\\packages\\pythonsoftwarefoundation.python.3.12_qbz5n2kfra8p0\\localcache\\local-packages\\python312\\site-packages (from werkzeug>=1.0.1->tensorboard~=2.20.0->tensorflow) (3.0.3)\n",
            "Requirement already satisfied: markdown-it-py>=2.2.0 in c:\\users\\fe_de\\appdata\\local\\packages\\pythonsoftwarefoundation.python.3.12_qbz5n2kfra8p0\\localcache\\local-packages\\python312\\site-packages (from rich->keras>=3.10.0->tensorflow) (4.0.0)\n",
            "Requirement already satisfied: pygments<3.0.0,>=2.13.0 in c:\\users\\fe_de\\appdata\\local\\packages\\pythonsoftwarefoundation.python.3.12_qbz5n2kfra8p0\\localcache\\local-packages\\python312\\site-packages (from rich->keras>=3.10.0->tensorflow) (2.19.2)\n",
            "Requirement already satisfied: mdurl~=0.1 in c:\\users\\fe_de\\appdata\\local\\packages\\pythonsoftwarefoundation.python.3.12_qbz5n2kfra8p0\\localcache\\local-packages\\python312\\site-packages (from markdown-it-py>=2.2.0->rich->keras>=3.10.0->tensorflow) (0.1.2)\n",
            "Note: you may need to restart the kernel to use updated packages.\n"
          ]
        },
        {
          "name": "stderr",
          "output_type": "stream",
          "text": [
            "\n",
            "[notice] A new release of pip is available: 25.0.1 -> 25.3\n",
            "[notice] To update, run: C:\\Users\\fe_de\\AppData\\Local\\Microsoft\\WindowsApps\\PythonSoftwareFoundation.Python.3.12_qbz5n2kfra8p0\\python.exe -m pip install --upgrade pip\n"
          ]
        }
      ],
      "source": [
        "%pip install tensorflow scikit-learn librosa numpy pandas matplotlib seaborn tqdm\n"
      ]
    },
    {
      "cell_type": "code",
      "execution_count": 2,
      "metadata": {},
      "outputs": [
        {
          "name": "stderr",
          "output_type": "stream",
          "text": [
            "C:\\Users\\fe_de\\AppData\\Local\\Packages\\PythonSoftwareFoundation.Python.3.12_qbz5n2kfra8p0\\LocalCache\\local-packages\\Python312\\site-packages\\google\\protobuf\\runtime_version.py:98: UserWarning: Protobuf gencode version 5.28.3 is exactly one major version older than the runtime version 6.31.1 at tensorflow/core/framework/attr_value.proto. Please update the gencode to avoid compatibility violations in the next runtime release.\n",
            "  warnings.warn(\n",
            "C:\\Users\\fe_de\\AppData\\Local\\Packages\\PythonSoftwareFoundation.Python.3.12_qbz5n2kfra8p0\\LocalCache\\local-packages\\Python312\\site-packages\\google\\protobuf\\runtime_version.py:98: UserWarning: Protobuf gencode version 5.28.3 is exactly one major version older than the runtime version 6.31.1 at tensorflow/core/framework/tensor.proto. Please update the gencode to avoid compatibility violations in the next runtime release.\n",
            "  warnings.warn(\n",
            "C:\\Users\\fe_de\\AppData\\Local\\Packages\\PythonSoftwareFoundation.Python.3.12_qbz5n2kfra8p0\\LocalCache\\local-packages\\Python312\\site-packages\\google\\protobuf\\runtime_version.py:98: UserWarning: Protobuf gencode version 5.28.3 is exactly one major version older than the runtime version 6.31.1 at tensorflow/core/framework/resource_handle.proto. Please update the gencode to avoid compatibility violations in the next runtime release.\n",
            "  warnings.warn(\n",
            "C:\\Users\\fe_de\\AppData\\Local\\Packages\\PythonSoftwareFoundation.Python.3.12_qbz5n2kfra8p0\\LocalCache\\local-packages\\Python312\\site-packages\\google\\protobuf\\runtime_version.py:98: UserWarning: Protobuf gencode version 5.28.3 is exactly one major version older than the runtime version 6.31.1 at tensorflow/core/framework/tensor_shape.proto. Please update the gencode to avoid compatibility violations in the next runtime release.\n",
            "  warnings.warn(\n",
            "C:\\Users\\fe_de\\AppData\\Local\\Packages\\PythonSoftwareFoundation.Python.3.12_qbz5n2kfra8p0\\LocalCache\\local-packages\\Python312\\site-packages\\google\\protobuf\\runtime_version.py:98: UserWarning: Protobuf gencode version 5.28.3 is exactly one major version older than the runtime version 6.31.1 at tensorflow/core/framework/types.proto. Please update the gencode to avoid compatibility violations in the next runtime release.\n",
            "  warnings.warn(\n",
            "C:\\Users\\fe_de\\AppData\\Local\\Packages\\PythonSoftwareFoundation.Python.3.12_qbz5n2kfra8p0\\LocalCache\\local-packages\\Python312\\site-packages\\google\\protobuf\\runtime_version.py:98: UserWarning: Protobuf gencode version 5.28.3 is exactly one major version older than the runtime version 6.31.1 at tensorflow/core/framework/full_type.proto. Please update the gencode to avoid compatibility violations in the next runtime release.\n",
            "  warnings.warn(\n",
            "C:\\Users\\fe_de\\AppData\\Local\\Packages\\PythonSoftwareFoundation.Python.3.12_qbz5n2kfra8p0\\LocalCache\\local-packages\\Python312\\site-packages\\google\\protobuf\\runtime_version.py:98: UserWarning: Protobuf gencode version 5.28.3 is exactly one major version older than the runtime version 6.31.1 at tensorflow/core/framework/function.proto. Please update the gencode to avoid compatibility violations in the next runtime release.\n",
            "  warnings.warn(\n",
            "C:\\Users\\fe_de\\AppData\\Local\\Packages\\PythonSoftwareFoundation.Python.3.12_qbz5n2kfra8p0\\LocalCache\\local-packages\\Python312\\site-packages\\google\\protobuf\\runtime_version.py:98: UserWarning: Protobuf gencode version 5.28.3 is exactly one major version older than the runtime version 6.31.1 at tensorflow/core/framework/node_def.proto. Please update the gencode to avoid compatibility violations in the next runtime release.\n",
            "  warnings.warn(\n",
            "C:\\Users\\fe_de\\AppData\\Local\\Packages\\PythonSoftwareFoundation.Python.3.12_qbz5n2kfra8p0\\LocalCache\\local-packages\\Python312\\site-packages\\google\\protobuf\\runtime_version.py:98: UserWarning: Protobuf gencode version 5.28.3 is exactly one major version older than the runtime version 6.31.1 at tensorflow/core/framework/op_def.proto. Please update the gencode to avoid compatibility violations in the next runtime release.\n",
            "  warnings.warn(\n",
            "C:\\Users\\fe_de\\AppData\\Local\\Packages\\PythonSoftwareFoundation.Python.3.12_qbz5n2kfra8p0\\LocalCache\\local-packages\\Python312\\site-packages\\google\\protobuf\\runtime_version.py:98: UserWarning: Protobuf gencode version 5.28.3 is exactly one major version older than the runtime version 6.31.1 at tensorflow/core/framework/graph.proto. Please update the gencode to avoid compatibility violations in the next runtime release.\n",
            "  warnings.warn(\n",
            "C:\\Users\\fe_de\\AppData\\Local\\Packages\\PythonSoftwareFoundation.Python.3.12_qbz5n2kfra8p0\\LocalCache\\local-packages\\Python312\\site-packages\\google\\protobuf\\runtime_version.py:98: UserWarning: Protobuf gencode version 5.28.3 is exactly one major version older than the runtime version 6.31.1 at tensorflow/core/framework/graph_debug_info.proto. Please update the gencode to avoid compatibility violations in the next runtime release.\n",
            "  warnings.warn(\n",
            "C:\\Users\\fe_de\\AppData\\Local\\Packages\\PythonSoftwareFoundation.Python.3.12_qbz5n2kfra8p0\\LocalCache\\local-packages\\Python312\\site-packages\\google\\protobuf\\runtime_version.py:98: UserWarning: Protobuf gencode version 5.28.3 is exactly one major version older than the runtime version 6.31.1 at tensorflow/core/framework/versions.proto. Please update the gencode to avoid compatibility violations in the next runtime release.\n",
            "  warnings.warn(\n",
            "C:\\Users\\fe_de\\AppData\\Local\\Packages\\PythonSoftwareFoundation.Python.3.12_qbz5n2kfra8p0\\LocalCache\\local-packages\\Python312\\site-packages\\google\\protobuf\\runtime_version.py:98: UserWarning: Protobuf gencode version 5.28.3 is exactly one major version older than the runtime version 6.31.1 at tensorflow/core/protobuf/config.proto. Please update the gencode to avoid compatibility violations in the next runtime release.\n",
            "  warnings.warn(\n",
            "C:\\Users\\fe_de\\AppData\\Local\\Packages\\PythonSoftwareFoundation.Python.3.12_qbz5n2kfra8p0\\LocalCache\\local-packages\\Python312\\site-packages\\google\\protobuf\\runtime_version.py:98: UserWarning: Protobuf gencode version 5.28.3 is exactly one major version older than the runtime version 6.31.1 at xla/tsl/protobuf/coordination_config.proto. Please update the gencode to avoid compatibility violations in the next runtime release.\n",
            "  warnings.warn(\n",
            "C:\\Users\\fe_de\\AppData\\Local\\Packages\\PythonSoftwareFoundation.Python.3.12_qbz5n2kfra8p0\\LocalCache\\local-packages\\Python312\\site-packages\\google\\protobuf\\runtime_version.py:98: UserWarning: Protobuf gencode version 5.28.3 is exactly one major version older than the runtime version 6.31.1 at tensorflow/core/framework/cost_graph.proto. Please update the gencode to avoid compatibility violations in the next runtime release.\n",
            "  warnings.warn(\n",
            "C:\\Users\\fe_de\\AppData\\Local\\Packages\\PythonSoftwareFoundation.Python.3.12_qbz5n2kfra8p0\\LocalCache\\local-packages\\Python312\\site-packages\\google\\protobuf\\runtime_version.py:98: UserWarning: Protobuf gencode version 5.28.3 is exactly one major version older than the runtime version 6.31.1 at tensorflow/core/framework/step_stats.proto. Please update the gencode to avoid compatibility violations in the next runtime release.\n",
            "  warnings.warn(\n",
            "C:\\Users\\fe_de\\AppData\\Local\\Packages\\PythonSoftwareFoundation.Python.3.12_qbz5n2kfra8p0\\LocalCache\\local-packages\\Python312\\site-packages\\google\\protobuf\\runtime_version.py:98: UserWarning: Protobuf gencode version 5.28.3 is exactly one major version older than the runtime version 6.31.1 at tensorflow/core/framework/allocation_description.proto. Please update the gencode to avoid compatibility violations in the next runtime release.\n",
            "  warnings.warn(\n",
            "C:\\Users\\fe_de\\AppData\\Local\\Packages\\PythonSoftwareFoundation.Python.3.12_qbz5n2kfra8p0\\LocalCache\\local-packages\\Python312\\site-packages\\google\\protobuf\\runtime_version.py:98: UserWarning: Protobuf gencode version 5.28.3 is exactly one major version older than the runtime version 6.31.1 at tensorflow/core/framework/tensor_description.proto. Please update the gencode to avoid compatibility violations in the next runtime release.\n",
            "  warnings.warn(\n",
            "C:\\Users\\fe_de\\AppData\\Local\\Packages\\PythonSoftwareFoundation.Python.3.12_qbz5n2kfra8p0\\LocalCache\\local-packages\\Python312\\site-packages\\google\\protobuf\\runtime_version.py:98: UserWarning: Protobuf gencode version 5.28.3 is exactly one major version older than the runtime version 6.31.1 at tensorflow/core/protobuf/cluster.proto. Please update the gencode to avoid compatibility violations in the next runtime release.\n",
            "  warnings.warn(\n",
            "C:\\Users\\fe_de\\AppData\\Local\\Packages\\PythonSoftwareFoundation.Python.3.12_qbz5n2kfra8p0\\LocalCache\\local-packages\\Python312\\site-packages\\google\\protobuf\\runtime_version.py:98: UserWarning: Protobuf gencode version 5.28.3 is exactly one major version older than the runtime version 6.31.1 at tensorflow/core/protobuf/debug.proto. Please update the gencode to avoid compatibility violations in the next runtime release.\n",
            "  warnings.warn(\n"
          ]
        }
      ],
      "source": [
        "import os\n",
        "import numpy as np\n",
        "import pandas as pd\n",
        "import librosa\n",
        "import librosa.display\n",
        "import matplotlib.pyplot as plt\n",
        "import seaborn as sns\n",
        "from tqdm import tqdm\n",
        "import random\n",
        "\n",
        "from sklearn.model_selection import train_test_split\n",
        "from sklearn.preprocessing import LabelEncoder\n",
        "from sklearn.metrics import classification_report, confusion_matrix\n",
        "\n",
        "import tensorflow as tf\n",
        "from tensorflow.keras.models import Sequential\n",
        "from tensorflow.keras.layers import Conv2D, MaxPooling2D, Flatten, Dense, Dropout, GlobalAveragePooling2D\n",
        "from tensorflow.keras.callbacks import EarlyStopping\n",
        "\n",
        "sns.set_theme(style=\"whitegrid\")\n"
      ]
    },
    {
      "cell_type": "markdown",
      "metadata": {},
      "source": [
        "## 2. Load Data and Convert to Spectrograms\n",
        "\n",
        "This process is now much simpler. We don't need any augmentation functions. We just need to:\n",
        "1.  Get a list of all file paths from our new `Audios-Augmented` directory.\n",
        "2.  Split these file paths into training and validation sets.\n",
        "3.  Process each set by loading the audio and converting it to a Mel spectrogram.\n"
      ]
    },
    {
      "cell_type": "code",
      "execution_count": 3,
      "metadata": {},
      "outputs": [
        {
          "name": "stdout",
          "output_type": "stream",
          "text": [
            "Found 60 original audio files to define groups.\n",
            "Split into 48 original files for training and 12 for validation.\n",
            "\n",
            "Total files in augmented dataset: 300\n",
            "Training files (augmented): 240\n",
            "Validation files (augmented): 60\n"
          ]
        }
      ],
      "source": [
        "# --- Parameters ---\n",
        "AUGMENTED_DATASET_DIR = 'Audios-Augmented/'\n",
        "ORIGINAL_DATASET_DIR = 'Audios para Treinamento/'\n",
        "FIXED_DURATION_S = 10\n",
        "SAMPLE_RATE = 22050\n",
        "FIXED_LENGTH = SAMPLE_RATE * FIXED_DURATION_S\n",
        "\n",
        "# --- Group-based splitting to prevent data leakage ---\n",
        "# 1. Get original files to define the groups\n",
        "original_files_meta = []\n",
        "for label_group, subdirs in [('Leak', ['Leak-Metal', 'Leak-NonMetal']), ('NoLeak', ['NoLeak-Metal', 'NoLeak-NonMetal'])]:\n",
        "    for subdir in subdirs:\n",
        "        class_path = os.path.join(ORIGINAL_DATASET_DIR, subdir)\n",
        "        if os.path.isdir(class_path):\n",
        "            files = [f for f in os.listdir(class_path) if f.endswith('.wav')]\n",
        "            for f in files:\n",
        "                original_files_meta.append({'stem': os.path.splitext(f)[0], 'label': label_group})\n",
        "\n",
        "original_df = pd.DataFrame(original_files_meta)\n",
        "print(f\"Found {len(original_df)} original audio files to define groups.\")\n",
        "\n",
        "# 2. Split the ORIGINAL files into training and validation groups (stratified)\n",
        "train_stems, val_stems, _, _ = train_test_split(\n",
        "    original_df['stem'],\n",
        "    original_df['label'],\n",
        "    test_size=0.2,\n",
        "    random_state=42,\n",
        "    stratify=original_df['label']\n",
        ")\n",
        "train_stems = set(train_stems)\n",
        "val_stems = set(val_stems)\n",
        "print(f\"Split into {len(train_stems)} original files for training and {len(val_stems)} for validation.\")\n",
        "\n",
        "# 3. Assign each augmented file to its corresponding train or validation set\n",
        "train_files, train_labels = [], []\n",
        "val_files, val_labels = [], []\n",
        "\n",
        "for label in ['Leak', 'NoLeak']:\n",
        "    class_path = os.path.join(AUGMENTED_DATASET_DIR, label)\n",
        "    if os.path.isdir(class_path):\n",
        "        augmented_files = [os.path.join(class_path, f) for f in os.listdir(class_path) if f.endswith('.wav')]\n",
        "        for aug_file_path in augmented_files:\n",
        "            augmented_stem = os.path.splitext(os.path.basename(aug_file_path))[0]\n",
        "            \n",
        "            # Find which original stem this augmented file came from\n",
        "            original_stem = None\n",
        "            for s in original_df.stem:\n",
        "                if augmented_stem.startswith(s):\n",
        "                    original_stem = s\n",
        "                    break\n",
        "            \n",
        "            if original_stem in train_stems:\n",
        "                train_files.append(aug_file_path)\n",
        "                train_labels.append(label)\n",
        "            elif original_stem in val_stems:\n",
        "                val_files.append(aug_file_path)\n",
        "                val_labels.append(label)\n",
        "\n",
        "print(f\"\\nTotal files in augmented dataset: {len(train_files) + len(val_files)}\")\n",
        "print(f\"Training files (augmented): {len(train_files)}\")\n",
        "print(f\"Validation files (augmented): {len(val_files)}\")\n",
        "\n",
        "# Check if the split was successful\n",
        "if len(train_files) == 0 or len(val_files) == 0:\n",
        "    print(\"\\nWARNING: One of the data splits is empty. Please check the file naming convention and paths.\")\n",
        "    print(\"This can happen if the augmented filenames do not start with the original filenames.\")\n",
        "\n",
        "# --- Function to process audio to Mel Spectrogram ---\n",
        "def audio_to_melspectrogram(file_path):\n",
        "    try:\n",
        "        audio, sample_rate = librosa.load(file_path, sr=SAMPLE_RATE)\n",
        "        if len(audio) < FIXED_LENGTH:\n",
        "            audio = np.pad(audio, (0, FIXED_LENGTH - len(audio)), 'constant')\n",
        "        else:\n",
        "            audio = audio[:FIXED_LENGTH]\n",
        "        \n",
        "        spectrogram = librosa.feature.melspectrogram(y=audio, sr=sample_rate, n_mels=128)\n",
        "        return librosa.power_to_db(spectrogram, ref=np.max)\n",
        "    except Exception as e:\n",
        "        print(f\"Error processing {file_path}: {e}\")\n",
        "        return None\n"
      ]
    },
    {
      "cell_type": "code",
      "execution_count": 4,
      "metadata": {},
      "outputs": [
        {
          "name": "stdout",
          "output_type": "stream",
          "text": [
            "Processing training data...\n"
          ]
        },
        {
          "name": "stderr",
          "output_type": "stream",
          "text": [
            "100%|██████████| 240/240 [00:02<00:00, 89.12it/s] \n"
          ]
        },
        {
          "name": "stdout",
          "output_type": "stream",
          "text": [
            "\n",
            "Processing validation data...\n"
          ]
        },
        {
          "name": "stderr",
          "output_type": "stream",
          "text": [
            "100%|██████████| 60/60 [00:00<00:00, 167.73it/s]"
          ]
        },
        {
          "name": "stdout",
          "output_type": "stream",
          "text": [
            "\n",
            "Training set shape: (240, 128, 431, 1)\n",
            "Validation set shape: (60, 128, 431, 1)\n"
          ]
        },
        {
          "name": "stderr",
          "output_type": "stream",
          "text": [
            "\n"
          ]
        }
      ],
      "source": [
        "print(\"Processing training data...\")\n",
        "X_train = np.array([audio_to_melspectrogram(file) for file in tqdm(train_files)])\n",
        "y_train = np.array(train_labels)\n",
        "\n",
        "print(\"\\nProcessing validation data...\")\n",
        "X_val = np.array([audio_to_melspectrogram(file) for file in tqdm(val_files)])\n",
        "y_val = np.array(val_labels)\n",
        "\n",
        "# --- Prepare data for the model ---\n",
        "X_train = X_train[..., np.newaxis]\n",
        "X_val = X_val[..., np.newaxis]\n",
        "\n",
        "# Encode labels\n",
        "label_encoder = LabelEncoder()\n",
        "y_train_enc = label_encoder.fit_transform(y_train)\n",
        "y_val_enc = label_encoder.transform(y_val)\n",
        "\n",
        "print(f\"\\nTraining set shape: {X_train.shape}\")\n",
        "print(f\"Validation set shape: {X_val.shape}\")\n"
      ]
    },
    {
      "cell_type": "markdown",
      "metadata": {},
      "source": [
        "## 3. Build, Train, and Evaluate the Model\n",
        "\n",
        "We will use the same successful binary CNN architecture from our previous experiments. We'll train it on our new, large dataset and use `EarlyStopping` to ensure we capture the best possible version of the model.\n"
      ]
    },
    {
      "cell_type": "code",
      "execution_count": 5,
      "metadata": {},
      "outputs": [
        {
          "name": "stderr",
          "output_type": "stream",
          "text": [
            "C:\\Users\\fe_de\\AppData\\Local\\Packages\\PythonSoftwareFoundation.Python.3.12_qbz5n2kfra8p0\\LocalCache\\local-packages\\Python312\\site-packages\\keras\\src\\layers\\convolutional\\base_conv.py:113: UserWarning: Do not pass an `input_shape`/`input_dim` argument to a layer. When using Sequential models, prefer using an `Input(shape)` object as the first layer in the model instead.\n",
            "  super().__init__(activity_regularizer=activity_regularizer, **kwargs)\n"
          ]
        },
        {
          "data": {
            "text/html": [
              "<pre style=\"white-space:pre;overflow-x:auto;line-height:normal;font-family:Menlo,'DejaVu Sans Mono',consolas,'Courier New',monospace\"><span style=\"font-weight: bold\">Model: \"sequential\"</span>\n",
              "</pre>\n"
            ],
            "text/plain": [
              "\u001b[1mModel: \"sequential\"\u001b[0m\n"
            ]
          },
          "metadata": {},
          "output_type": "display_data"
        },
        {
          "data": {
            "text/html": [
              "<pre style=\"white-space:pre;overflow-x:auto;line-height:normal;font-family:Menlo,'DejaVu Sans Mono',consolas,'Courier New',monospace\">┏━━━━━━━━━━━━━━━━━━━━━━━━━━━━━━━━━┳━━━━━━━━━━━━━━━━━━━━━━━━┳━━━━━━━━━━━━━━━┓\n",
              "┃<span style=\"font-weight: bold\"> Layer (type)                    </span>┃<span style=\"font-weight: bold\"> Output Shape           </span>┃<span style=\"font-weight: bold\">       Param # </span>┃\n",
              "┡━━━━━━━━━━━━━━━━━━━━━━━━━━━━━━━━━╇━━━━━━━━━━━━━━━━━━━━━━━━╇━━━━━━━━━━━━━━━┩\n",
              "│ conv2d (<span style=\"color: #0087ff; text-decoration-color: #0087ff\">Conv2D</span>)                 │ (<span style=\"color: #00d7ff; text-decoration-color: #00d7ff\">None</span>, <span style=\"color: #00af00; text-decoration-color: #00af00\">126</span>, <span style=\"color: #00af00; text-decoration-color: #00af00\">429</span>, <span style=\"color: #00af00; text-decoration-color: #00af00\">32</span>)   │           <span style=\"color: #00af00; text-decoration-color: #00af00\">320</span> │\n",
              "├─────────────────────────────────┼────────────────────────┼───────────────┤\n",
              "│ max_pooling2d (<span style=\"color: #0087ff; text-decoration-color: #0087ff\">MaxPooling2D</span>)    │ (<span style=\"color: #00d7ff; text-decoration-color: #00d7ff\">None</span>, <span style=\"color: #00af00; text-decoration-color: #00af00\">63</span>, <span style=\"color: #00af00; text-decoration-color: #00af00\">214</span>, <span style=\"color: #00af00; text-decoration-color: #00af00\">32</span>)    │             <span style=\"color: #00af00; text-decoration-color: #00af00\">0</span> │\n",
              "├─────────────────────────────────┼────────────────────────┼───────────────┤\n",
              "│ conv2d_1 (<span style=\"color: #0087ff; text-decoration-color: #0087ff\">Conv2D</span>)               │ (<span style=\"color: #00d7ff; text-decoration-color: #00d7ff\">None</span>, <span style=\"color: #00af00; text-decoration-color: #00af00\">61</span>, <span style=\"color: #00af00; text-decoration-color: #00af00\">212</span>, <span style=\"color: #00af00; text-decoration-color: #00af00\">64</span>)    │        <span style=\"color: #00af00; text-decoration-color: #00af00\">18,496</span> │\n",
              "├─────────────────────────────────┼────────────────────────┼───────────────┤\n",
              "│ max_pooling2d_1 (<span style=\"color: #0087ff; text-decoration-color: #0087ff\">MaxPooling2D</span>)  │ (<span style=\"color: #00d7ff; text-decoration-color: #00d7ff\">None</span>, <span style=\"color: #00af00; text-decoration-color: #00af00\">30</span>, <span style=\"color: #00af00; text-decoration-color: #00af00\">106</span>, <span style=\"color: #00af00; text-decoration-color: #00af00\">64</span>)    │             <span style=\"color: #00af00; text-decoration-color: #00af00\">0</span> │\n",
              "├─────────────────────────────────┼────────────────────────┼───────────────┤\n",
              "│ conv2d_2 (<span style=\"color: #0087ff; text-decoration-color: #0087ff\">Conv2D</span>)               │ (<span style=\"color: #00d7ff; text-decoration-color: #00d7ff\">None</span>, <span style=\"color: #00af00; text-decoration-color: #00af00\">28</span>, <span style=\"color: #00af00; text-decoration-color: #00af00\">104</span>, <span style=\"color: #00af00; text-decoration-color: #00af00\">128</span>)   │        <span style=\"color: #00af00; text-decoration-color: #00af00\">73,856</span> │\n",
              "├─────────────────────────────────┼────────────────────────┼───────────────┤\n",
              "│ max_pooling2d_2 (<span style=\"color: #0087ff; text-decoration-color: #0087ff\">MaxPooling2D</span>)  │ (<span style=\"color: #00d7ff; text-decoration-color: #00d7ff\">None</span>, <span style=\"color: #00af00; text-decoration-color: #00af00\">14</span>, <span style=\"color: #00af00; text-decoration-color: #00af00\">52</span>, <span style=\"color: #00af00; text-decoration-color: #00af00\">128</span>)    │             <span style=\"color: #00af00; text-decoration-color: #00af00\">0</span> │\n",
              "├─────────────────────────────────┼────────────────────────┼───────────────┤\n",
              "│ global_average_pooling2d        │ (<span style=\"color: #00d7ff; text-decoration-color: #00d7ff\">None</span>, <span style=\"color: #00af00; text-decoration-color: #00af00\">128</span>)            │             <span style=\"color: #00af00; text-decoration-color: #00af00\">0</span> │\n",
              "│ (<span style=\"color: #0087ff; text-decoration-color: #0087ff\">GlobalAveragePooling2D</span>)        │                        │               │\n",
              "├─────────────────────────────────┼────────────────────────┼───────────────┤\n",
              "│ dense (<span style=\"color: #0087ff; text-decoration-color: #0087ff\">Dense</span>)                   │ (<span style=\"color: #00d7ff; text-decoration-color: #00d7ff\">None</span>, <span style=\"color: #00af00; text-decoration-color: #00af00\">128</span>)            │        <span style=\"color: #00af00; text-decoration-color: #00af00\">16,512</span> │\n",
              "├─────────────────────────────────┼────────────────────────┼───────────────┤\n",
              "│ dropout (<span style=\"color: #0087ff; text-decoration-color: #0087ff\">Dropout</span>)               │ (<span style=\"color: #00d7ff; text-decoration-color: #00d7ff\">None</span>, <span style=\"color: #00af00; text-decoration-color: #00af00\">128</span>)            │             <span style=\"color: #00af00; text-decoration-color: #00af00\">0</span> │\n",
              "├─────────────────────────────────┼────────────────────────┼───────────────┤\n",
              "│ dense_1 (<span style=\"color: #0087ff; text-decoration-color: #0087ff\">Dense</span>)                 │ (<span style=\"color: #00d7ff; text-decoration-color: #00d7ff\">None</span>, <span style=\"color: #00af00; text-decoration-color: #00af00\">1</span>)              │           <span style=\"color: #00af00; text-decoration-color: #00af00\">129</span> │\n",
              "└─────────────────────────────────┴────────────────────────┴───────────────┘\n",
              "</pre>\n"
            ],
            "text/plain": [
              "┏━━━━━━━━━━━━━━━━━━━━━━━━━━━━━━━━━┳━━━━━━━━━━━━━━━━━━━━━━━━┳━━━━━━━━━━━━━━━┓\n",
              "┃\u001b[1m \u001b[0m\u001b[1mLayer (type)                   \u001b[0m\u001b[1m \u001b[0m┃\u001b[1m \u001b[0m\u001b[1mOutput Shape          \u001b[0m\u001b[1m \u001b[0m┃\u001b[1m \u001b[0m\u001b[1m      Param #\u001b[0m\u001b[1m \u001b[0m┃\n",
              "┡━━━━━━━━━━━━━━━━━━━━━━━━━━━━━━━━━╇━━━━━━━━━━━━━━━━━━━━━━━━╇━━━━━━━━━━━━━━━┩\n",
              "│ conv2d (\u001b[38;5;33mConv2D\u001b[0m)                 │ (\u001b[38;5;45mNone\u001b[0m, \u001b[38;5;34m126\u001b[0m, \u001b[38;5;34m429\u001b[0m, \u001b[38;5;34m32\u001b[0m)   │           \u001b[38;5;34m320\u001b[0m │\n",
              "├─────────────────────────────────┼────────────────────────┼───────────────┤\n",
              "│ max_pooling2d (\u001b[38;5;33mMaxPooling2D\u001b[0m)    │ (\u001b[38;5;45mNone\u001b[0m, \u001b[38;5;34m63\u001b[0m, \u001b[38;5;34m214\u001b[0m, \u001b[38;5;34m32\u001b[0m)    │             \u001b[38;5;34m0\u001b[0m │\n",
              "├─────────────────────────────────┼────────────────────────┼───────────────┤\n",
              "│ conv2d_1 (\u001b[38;5;33mConv2D\u001b[0m)               │ (\u001b[38;5;45mNone\u001b[0m, \u001b[38;5;34m61\u001b[0m, \u001b[38;5;34m212\u001b[0m, \u001b[38;5;34m64\u001b[0m)    │        \u001b[38;5;34m18,496\u001b[0m │\n",
              "├─────────────────────────────────┼────────────────────────┼───────────────┤\n",
              "│ max_pooling2d_1 (\u001b[38;5;33mMaxPooling2D\u001b[0m)  │ (\u001b[38;5;45mNone\u001b[0m, \u001b[38;5;34m30\u001b[0m, \u001b[38;5;34m106\u001b[0m, \u001b[38;5;34m64\u001b[0m)    │             \u001b[38;5;34m0\u001b[0m │\n",
              "├─────────────────────────────────┼────────────────────────┼───────────────┤\n",
              "│ conv2d_2 (\u001b[38;5;33mConv2D\u001b[0m)               │ (\u001b[38;5;45mNone\u001b[0m, \u001b[38;5;34m28\u001b[0m, \u001b[38;5;34m104\u001b[0m, \u001b[38;5;34m128\u001b[0m)   │        \u001b[38;5;34m73,856\u001b[0m │\n",
              "├─────────────────────────────────┼────────────────────────┼───────────────┤\n",
              "│ max_pooling2d_2 (\u001b[38;5;33mMaxPooling2D\u001b[0m)  │ (\u001b[38;5;45mNone\u001b[0m, \u001b[38;5;34m14\u001b[0m, \u001b[38;5;34m52\u001b[0m, \u001b[38;5;34m128\u001b[0m)    │             \u001b[38;5;34m0\u001b[0m │\n",
              "├─────────────────────────────────┼────────────────────────┼───────────────┤\n",
              "│ global_average_pooling2d        │ (\u001b[38;5;45mNone\u001b[0m, \u001b[38;5;34m128\u001b[0m)            │             \u001b[38;5;34m0\u001b[0m │\n",
              "│ (\u001b[38;5;33mGlobalAveragePooling2D\u001b[0m)        │                        │               │\n",
              "├─────────────────────────────────┼────────────────────────┼───────────────┤\n",
              "│ dense (\u001b[38;5;33mDense\u001b[0m)                   │ (\u001b[38;5;45mNone\u001b[0m, \u001b[38;5;34m128\u001b[0m)            │        \u001b[38;5;34m16,512\u001b[0m │\n",
              "├─────────────────────────────────┼────────────────────────┼───────────────┤\n",
              "│ dropout (\u001b[38;5;33mDropout\u001b[0m)               │ (\u001b[38;5;45mNone\u001b[0m, \u001b[38;5;34m128\u001b[0m)            │             \u001b[38;5;34m0\u001b[0m │\n",
              "├─────────────────────────────────┼────────────────────────┼───────────────┤\n",
              "│ dense_1 (\u001b[38;5;33mDense\u001b[0m)                 │ (\u001b[38;5;45mNone\u001b[0m, \u001b[38;5;34m1\u001b[0m)              │           \u001b[38;5;34m129\u001b[0m │\n",
              "└─────────────────────────────────┴────────────────────────┴───────────────┘\n"
            ]
          },
          "metadata": {},
          "output_type": "display_data"
        },
        {
          "data": {
            "text/html": [
              "<pre style=\"white-space:pre;overflow-x:auto;line-height:normal;font-family:Menlo,'DejaVu Sans Mono',consolas,'Courier New',monospace\"><span style=\"font-weight: bold\"> Total params: </span><span style=\"color: #00af00; text-decoration-color: #00af00\">109,313</span> (427.00 KB)\n",
              "</pre>\n"
            ],
            "text/plain": [
              "\u001b[1m Total params: \u001b[0m\u001b[38;5;34m109,313\u001b[0m (427.00 KB)\n"
            ]
          },
          "metadata": {},
          "output_type": "display_data"
        },
        {
          "data": {
            "text/html": [
              "<pre style=\"white-space:pre;overflow-x:auto;line-height:normal;font-family:Menlo,'DejaVu Sans Mono',consolas,'Courier New',monospace\"><span style=\"font-weight: bold\"> Trainable params: </span><span style=\"color: #00af00; text-decoration-color: #00af00\">109,313</span> (427.00 KB)\n",
              "</pre>\n"
            ],
            "text/plain": [
              "\u001b[1m Trainable params: \u001b[0m\u001b[38;5;34m109,313\u001b[0m (427.00 KB)\n"
            ]
          },
          "metadata": {},
          "output_type": "display_data"
        },
        {
          "data": {
            "text/html": [
              "<pre style=\"white-space:pre;overflow-x:auto;line-height:normal;font-family:Menlo,'DejaVu Sans Mono',consolas,'Courier New',monospace\"><span style=\"font-weight: bold\"> Non-trainable params: </span><span style=\"color: #00af00; text-decoration-color: #00af00\">0</span> (0.00 B)\n",
              "</pre>\n"
            ],
            "text/plain": [
              "\u001b[1m Non-trainable params: \u001b[0m\u001b[38;5;34m0\u001b[0m (0.00 B)\n"
            ]
          },
          "metadata": {},
          "output_type": "display_data"
        },
        {
          "name": "stdout",
          "output_type": "stream",
          "text": [
            "Epoch 1/75\n",
            "\u001b[1m8/8\u001b[0m \u001b[32m━━━━━━━━━━━━━━━━━━━━\u001b[0m\u001b[37m\u001b[0m \u001b[1m2s\u001b[0m 147ms/step - accuracy: 0.4917 - loss: 1.6990 - val_accuracy: 0.5000 - val_loss: 0.7747\n",
            "Epoch 2/75\n",
            "\u001b[1m8/8\u001b[0m \u001b[32m━━━━━━━━━━━━━━━━━━━━\u001b[0m\u001b[37m\u001b[0m \u001b[1m1s\u001b[0m 136ms/step - accuracy: 0.4750 - loss: 0.8233 - val_accuracy: 0.4833 - val_loss: 0.6890\n",
            "Epoch 3/75\n",
            "\u001b[1m8/8\u001b[0m \u001b[32m━━━━━━━━━━━━━━━━━━━━\u001b[0m\u001b[37m\u001b[0m \u001b[1m1s\u001b[0m 131ms/step - accuracy: 0.4708 - loss: 0.7298 - val_accuracy: 0.6500 - val_loss: 0.6774\n",
            "Epoch 4/75\n",
            "\u001b[1m8/8\u001b[0m \u001b[32m━━━━━━━━━━━━━━━━━━━━\u001b[0m\u001b[37m\u001b[0m \u001b[1m1s\u001b[0m 132ms/step - accuracy: 0.5500 - loss: 0.6781 - val_accuracy: 0.5500 - val_loss: 0.6716\n",
            "Epoch 5/75\n",
            "\u001b[1m8/8\u001b[0m \u001b[32m━━━━━━━━━━━━━━━━━━━━\u001b[0m\u001b[37m\u001b[0m \u001b[1m1s\u001b[0m 132ms/step - accuracy: 0.5875 - loss: 0.6519 - val_accuracy: 0.7500 - val_loss: 0.6505\n",
            "Epoch 6/75\n",
            "\u001b[1m8/8\u001b[0m \u001b[32m━━━━━━━━━━━━━━━━━━━━\u001b[0m\u001b[37m\u001b[0m \u001b[1m1s\u001b[0m 130ms/step - accuracy: 0.6917 - loss: 0.6365 - val_accuracy: 0.6667 - val_loss: 0.6578\n",
            "Epoch 7/75\n",
            "\u001b[1m8/8\u001b[0m \u001b[32m━━━━━━━━━━━━━━━━━━━━\u001b[0m\u001b[37m\u001b[0m \u001b[1m1s\u001b[0m 131ms/step - accuracy: 0.7208 - loss: 0.6062 - val_accuracy: 0.4667 - val_loss: 0.7521\n",
            "Epoch 8/75\n",
            "\u001b[1m8/8\u001b[0m \u001b[32m━━━━━━━━━━━━━━━━━━━━\u001b[0m\u001b[37m\u001b[0m \u001b[1m1s\u001b[0m 130ms/step - accuracy: 0.5667 - loss: 0.6585 - val_accuracy: 0.6333 - val_loss: 0.7197\n",
            "Epoch 9/75\n",
            "\u001b[1m8/8\u001b[0m \u001b[32m━━━━━━━━━━━━━━━━━━━━\u001b[0m\u001b[37m\u001b[0m \u001b[1m1s\u001b[0m 131ms/step - accuracy: 0.6833 - loss: 0.6038 - val_accuracy: 0.6833 - val_loss: 0.6497\n",
            "Epoch 10/75\n",
            "\u001b[1m8/8\u001b[0m \u001b[32m━━━━━━━━━━━━━━━━━━━━\u001b[0m\u001b[37m\u001b[0m \u001b[1m1s\u001b[0m 131ms/step - accuracy: 0.7542 - loss: 0.5642 - val_accuracy: 0.7000 - val_loss: 0.6530\n",
            "Epoch 11/75\n",
            "\u001b[1m8/8\u001b[0m \u001b[32m━━━━━━━━━━━━━━━━━━━━\u001b[0m\u001b[37m\u001b[0m \u001b[1m1s\u001b[0m 131ms/step - accuracy: 0.7167 - loss: 0.5475 - val_accuracy: 0.5333 - val_loss: 0.7438\n",
            "Epoch 12/75\n",
            "\u001b[1m8/8\u001b[0m \u001b[32m━━━━━━━━━━━━━━━━━━━━\u001b[0m\u001b[37m\u001b[0m \u001b[1m1s\u001b[0m 131ms/step - accuracy: 0.7083 - loss: 0.5922 - val_accuracy: 0.7500 - val_loss: 0.6509\n",
            "Epoch 13/75\n",
            "\u001b[1m8/8\u001b[0m \u001b[32m━━━━━━━━━━━━━━━━━━━━\u001b[0m\u001b[37m\u001b[0m \u001b[1m1s\u001b[0m 131ms/step - accuracy: 0.7792 - loss: 0.5168 - val_accuracy: 0.8000 - val_loss: 0.7086\n",
            "Epoch 14/75\n",
            "\u001b[1m8/8\u001b[0m \u001b[32m━━━━━━━━━━━━━━━━━━━━\u001b[0m\u001b[37m\u001b[0m \u001b[1m1s\u001b[0m 131ms/step - accuracy: 0.7750 - loss: 0.5095 - val_accuracy: 0.7500 - val_loss: 0.7489\n",
            "Epoch 15/75\n",
            "\u001b[1m8/8\u001b[0m \u001b[32m━━━━━━━━━━━━━━━━━━━━\u001b[0m\u001b[37m\u001b[0m \u001b[1m1s\u001b[0m 131ms/step - accuracy: 0.7750 - loss: 0.4984 - val_accuracy: 0.7333 - val_loss: 0.6766\n",
            "Epoch 16/75\n",
            "\u001b[1m8/8\u001b[0m \u001b[32m━━━━━━━━━━━━━━━━━━━━\u001b[0m\u001b[37m\u001b[0m \u001b[1m1s\u001b[0m 131ms/step - accuracy: 0.7958 - loss: 0.4850 - val_accuracy: 0.8000 - val_loss: 0.8002\n",
            "Epoch 17/75\n",
            "\u001b[1m8/8\u001b[0m \u001b[32m━━━━━━━━━━━━━━━━━━━━\u001b[0m\u001b[37m\u001b[0m \u001b[1m1s\u001b[0m 131ms/step - accuracy: 0.7583 - loss: 0.5255 - val_accuracy: 0.6833 - val_loss: 0.6680\n",
            "Epoch 18/75\n",
            "\u001b[1m8/8\u001b[0m \u001b[32m━━━━━━━━━━━━━━━━━━━━\u001b[0m\u001b[37m\u001b[0m \u001b[1m1s\u001b[0m 131ms/step - accuracy: 0.7667 - loss: 0.4941 - val_accuracy: 0.7000 - val_loss: 0.6690\n",
            "Epoch 19/75\n",
            "\u001b[1m8/8\u001b[0m \u001b[32m━━━━━━━━━━━━━━━━━━━━\u001b[0m\u001b[37m\u001b[0m \u001b[1m1s\u001b[0m 131ms/step - accuracy: 0.8208 - loss: 0.4577 - val_accuracy: 0.8000 - val_loss: 0.7560\n",
            "Epoch 19: early stopping\n",
            "Restoring model weights from the end of the best epoch: 9.\n"
          ]
        }
      ],
      "source": [
        "# --- Define the EarlyStopping callback ---\n",
        "early_stopping = EarlyStopping(\n",
        "    monitor='val_loss',\n",
        "    patience=10,\n",
        "    restore_best_weights=True,\n",
        "    verbose=1\n",
        ")\n",
        "\n",
        "model = Sequential([\n",
        "    Conv2D(32, (3, 3), activation='relu', input_shape=X_train.shape[1:]),\n",
        "    MaxPooling2D((2, 2)),\n",
        "    Conv2D(64, (3, 3), activation='relu'),\n",
        "    MaxPooling2D((2, 2)),\n",
        "    Conv2D(128, (3, 3), activation='relu'),\n",
        "    MaxPooling2D((2, 2)),\n",
        "    GlobalAveragePooling2D(),\n",
        "    Dense(128, activation='relu'),\n",
        "    Dropout(0.5),\n",
        "    Dense(1, activation='sigmoid')\n",
        "])\n",
        "\n",
        "model.compile(optimizer='adam',\n",
        "              loss='binary_crossentropy',\n",
        "              metrics=['accuracy'])\n",
        "\n",
        "model.summary()\n",
        "\n",
        "EPOCHS = 75\n",
        "BATCH_SIZE = 32\n",
        "\n",
        "history = model.fit(X_train, y_train_enc,\n",
        "                    epochs=EPOCHS,\n",
        "                    batch_size=BATCH_SIZE,\n",
        "                    validation_data=(X_val, y_val_enc),\n",
        "                    verbose=1,\n",
        "                    callbacks=[early_stopping])\n"
      ]
    },
    {
      "cell_type": "markdown",
      "metadata": {},
      "source": [
        "## 4. Final Evaluation\n"
      ]
    },
    {
      "cell_type": "code",
      "execution_count": 7,
      "metadata": {},
      "outputs": [
        {
          "name": "stdout",
          "output_type": "stream",
          "text": [
            "\u001b[1m2/2\u001b[0m \u001b[32m━━━━━━━━━━━━━━━━━━━━\u001b[0m\u001b[37m\u001b[0m \u001b[1m0s\u001b[0m 49ms/step\n",
            "--- VALIDATION SET PERFORMANCE ---\n",
            "Classification Report:\n",
            "              precision    recall  f1-score   support\n",
            "\n",
            "        Leak       0.74      0.57      0.64        30\n",
            "      NoLeak       0.65      0.80      0.72        30\n",
            "\n",
            "    accuracy                           0.68        60\n",
            "   macro avg       0.69      0.68      0.68        60\n",
            "weighted avg       0.69      0.68      0.68        60\n",
            "\n"
          ]
        },
        {
          "data": {
            "image/png": "[encoded data removed]",
            "text/plain": [
              "<Figure size 800x600 with 2 Axes>"
            ]
          },
          "metadata": {},
          "output_type": "display_data"
        }
      ],
      "source": [
        "# --- Make predictions on the validation set ---\n",
        "y_pred_probs = model.predict(X_val)\n",
        "y_pred = (y_pred_probs > 0.5).astype(\"int32\")\n",
        "\n",
        "# --- Print classification report ---\n",
        "print(\"--- VALIDATION SET PERFORMANCE ---\")\n",
        "print(\"Classification Report:\")\n",
        "print(classification_report(y_val_enc, y_pred, target_names=label_encoder.classes_))\n",
        "\n",
        "# --- Plot confusion matrix ---\n",
        "conf_matrix = confusion_matrix(y_val_enc, y_pred)\n",
        "plt.figure(figsize=(8, 6))\n",
        "sns.heatmap(conf_matrix, annot=True, fmt='d', cmap='Blues',\n",
        "            xticklabels=label_encoder.classes_,\n",
        "            yticklabels=label_encoder.classes_)\n",
        "plt.title('Confusion Matrix for Validation Set')\n",
        "plt.ylabel('Actual')\n",
        "plt.xlabel('Predicted')\n",
        "plt.show()"
      ]
    },
    {
      "cell_type": "markdown",
      "metadata": {},
      "source": [
        "## 5. Predict on New Audio Files\n",
        "\n",
        "Now that we have a trained and evaluated model, let's use it to make predictions on the new audio files you provided in the `Our own/` directory.\n",
        "\n",
        "This process will involve:\n",
        "1.  Loading each new `.mp3` file.\n",
        "2.  Processing it into the same Mel spectrogram format the model was trained on.\n",
        "3.  Using the `model.predict()` method.\n",
        "4.  Displaying the predicted label (\"Leak\" or \"NoLeak\") for each file.\n",
        "\n",
        "**Note:** `librosa` requires `ffmpeg` to be installed on your system to load `.mp3` files. If you encounter errors in the next cell, please ensure `ffmpeg` is installed and accessible in your system's PATH.\n"
      ]
    },
    {
      "cell_type": "code",
      "execution_count": 10,
      "metadata": {},
      "outputs": [
        {
          "name": "stdout",
          "output_type": "stream",
          "text": [
            "Searching for audio files in: c:\\Users\\fe_de\\OneDrive\\Documentos\\GitHub\\Audios-ECO5000\\ECO5000 - Modelos IA\\Our own\n",
            "Found 7 files to predict on.\n"
          ]
        },
        {
          "name": "stderr",
          "output_type": "stream",
          "text": [
            "Processing new files: 100%|██████████| 7/7 [00:00<00:00, 55.79it/s]"
          ]
        },
        {
          "name": "stdout",
          "output_type": "stream",
          "text": [
            "\n",
            "Successfully processed 7 files. Shape for prediction: (7, 128, 431, 1)\n",
            "\u001b[1m1/1\u001b[0m \u001b[32m━━━━━━━━━━━━━━━━━━━━\u001b[0m\u001b[37m\u001b[0m \u001b[1m0s\u001b[0m 32ms/step\n",
            "\n",
            "--- PREDICTION RESULTS ---"
          ]
        },
        {
          "name": "stderr",
          "output_type": "stream",
          "text": [
            "\n"
          ]
        },
        {
          "name": "stdout",
          "output_type": "stream",
          "text": [
            "\n",
            "File: 01 No Leak-Water Flowing In Steel Pipe.mp3              -> Predicted Label: NoLeak\n",
            "File: 04 Cast Iron Leak Distant Listening On A Valve.mp3      -> Predicted Label: Leak\n",
            "File: 06 Copper Service Leak Heard On Main Line Hydrant.mp3   -> Predicted Label: Leak\n",
            "File: 07 Copper Service Leak With Meter Turning.mp3           -> Predicted Label: Leak\n",
            "File: 09 PVC Leak Close Listening On Valve.mp3                -> Predicted Label: NoLeak\n",
            "File: 13 Ductile Iron Pipe Leak 650 Feet 6 Inch Diameter (Stereo).mp3 -> Predicted Label: Leak\n",
            "File: Pos Filtros.wav                                         -> Predicted Label: Leak\n"
          ]
        }
      ],
      "source": [
        "import glob\n",
        "\n",
        "# --- Directory containing your new audio files ---\n",
        "NEW_AUDIO_DIR = 'Our own/'\n",
        "# Note: Librosa can handle various audio formats, including .mp3 and .wav\n",
        "print(f\"Searching for audio files in: {os.path.abspath(NEW_AUDIO_DIR)}\")\n",
        "new_audio_files_mp3 = glob.glob(os.path.join(NEW_AUDIO_DIR, '*.mp3'))\n",
        "new_audio_files_wav = glob.glob(os.path.join(NEW_AUDIO_DIR, '*.wav'))\n",
        "new_audio_files = new_audio_files_mp3 + new_audio_files_wav\n",
        "\n",
        "if not new_audio_files:\n",
        "    print(f\"Could not find any .mp3 or .wav files in the directory.\")\n",
        "else:\n",
        "    print(f\"Found {len(new_audio_files)} files to predict on.\")\n",
        "    \n",
        "    # --- Process audio files into Mel spectrograms ---\n",
        "    # We use the same function as before to ensure consistency\n",
        "    X_new = np.array([audio_to_melspectrogram(file) for file in tqdm(new_audio_files, desc=\"Processing new files\")])\n",
        "    \n",
        "    # Filter out any files that failed to process\n",
        "    valid_indices = [i for i, spec in enumerate(X_new) if spec is not None]\n",
        "    X_new_valid = np.array([X_new[i] for i in valid_indices])\n",
        "    new_audio_files_valid = [new_audio_files[i] for i in valid_indices]\n",
        "\n",
        "    if X_new_valid.shape[0] > 0:\n",
        "        # Add the channel dimension for the CNN\n",
        "        X_new_valid = X_new_valid[..., np.newaxis]\n",
        "\n",
        "        print(f\"\\nSuccessfully processed {len(X_new_valid)} files. Shape for prediction: {X_new_valid.shape}\")\n",
        "\n",
        "        # --- Make predictions ---\n",
        "        new_pred_probs = model.predict(X_new_valid)\n",
        "        new_predictions = (new_pred_probs > 0.5).astype(\"int32\")\n",
        "\n",
        "        # --- Decode predictions back to string labels ---\n",
        "        predicted_labels = label_encoder.inverse_transform(new_predictions.flatten())\n",
        "\n",
        "        # --- Display results ---\n",
        "        print(\"\\n--- PREDICTION RESULTS ---\")\n",
        "        for filename, label in zip(new_audio_files_valid, predicted_labels):\n",
        "            print(f\"File: {os.path.basename(filename):<55} -> Predicted Label: {label}\")\n",
        "    else:\n",
        "        print(\"\\nCould not process any of the new audio files. Please check the error messages above.\")\n",
        "\n"
      ]
    },
    {
      "cell_type": "markdown",
      "metadata": {},
      "source": [
        "## 6. Visualize Predictions on New Audio Files\n",
        "\n",
        "A simple list of predictions is good, but a visualization can give us a clearer sense of the model's confidence. The bar chart below shows the raw probability the model assigned to the \"Leak\" class for each of your audio files.\n",
        "\n",
        "-   A high bar (close to 1.0) means the model is very confident it's a **Leak**.\n",
        "-   A low bar (close to 0.0) means the model is very confident it's a **NoLeak**.\n",
        "-   Bars in the middle (around 0.5) indicate the model was uncertain.\n",
        "\n",
        "The color of the bar shows the final prediction after applying the 0.5 threshold.\n"
      ]
    },
    {
      "cell_type": "code",
      "execution_count": 11,
      "metadata": {},
      "outputs": [
        {
          "name": "stderr",
          "output_type": "stream",
          "text": [
            "C:\\Users\\fe_de\\AppData\\Local\\Temp\\ipykernel_34880\\3636772499.py:41: UserWarning: Glyph 10007 (\\N{BALLOT X}) missing from font(s) Arial.\n",
            "  plt.tight_layout()\n",
            "C:\\Users\\fe_de\\AppData\\Local\\Temp\\ipykernel_34880\\3636772499.py:41: UserWarning: Glyph 10003 (\\N{CHECK MARK}) missing from font(s) Arial.\n",
            "  plt.tight_layout()\n",
            "C:\\Users\\fe_de\\AppData\\Local\\Packages\\PythonSoftwareFoundation.Python.3.12_qbz5n2kfra8p0\\LocalCache\\local-packages\\Python312\\site-packages\\IPython\\core\\pylabtools.py:170: UserWarning: Glyph 10007 (\\N{BALLOT X}) missing from font(s) Arial.\n",
            "  fig.canvas.print_figure(bytes_io, **kw)\n",
            "C:\\Users\\fe_de\\AppData\\Local\\Packages\\PythonSoftwareFoundation.Python.3.12_qbz5n2kfra8p0\\LocalCache\\local-packages\\Python312\\site-packages\\IPython\\core\\pylabtools.py:170: UserWarning: Glyph 10003 (\\N{CHECK MARK}) missing from font(s) Arial.\n",
            "  fig.canvas.print_figure(bytes_io, **kw)\n"
          ]
        },
        {
          "data": {
            "image/png": "[encoded data removed]",
            "text/plain": [
              "<Figure size 1200x800 with 1 Axes>"
            ]
          },
          "metadata": {},
          "output_type": "display_data"
        }
      ],
      "source": [
        "# --- Create a DataFrame for visualization ---\n",
        "# Assumption: Filename contains 'leak' for true leaks. You may need to adjust this logic.\n",
        "true_labels = ['Leak' if 'leak' in os.path.basename(f).lower() else 'NoLeak' for f in new_audio_files_valid]\n",
        "\n",
        "# For the 'Pos Filtros.wav' file, let's assume it's a leak for visualization purposes\n",
        "# as its name doesn't contain the label.\n",
        "for i, f in enumerate(new_audio_files_valid):\n",
        "    if 'Pos Filtros' in f:\n",
        "        true_labels[i] = 'Leak'\n",
        "\n",
        "results_df = pd.DataFrame({\n",
        "    'filename': [os.path.basename(f) for f in new_audio_files_valid],\n",
        "    'true_label': true_labels,\n",
        "    'predicted_label': predicted_labels,\n",
        "    'leak_probability': new_pred_probs.flatten()\n",
        "})\n",
        "\n",
        "# Determine if the prediction was correct\n",
        "results_df['correct'] = results_df['true_label'] == results_df['predicted_label']\n",
        "\n",
        "# --- Plot the results ---\n",
        "plt.figure(figsize=(12, 8))\n",
        "barplot = sns.barplot(x='leak_probability', y='filename', data=results_df, \n",
        "                        hue='predicted_label', dodge=False, palette={'Leak': 'skyblue', 'NoLeak': 'lightcoral'})\n",
        "\n",
        "plt.title('Model Prediction Confidence on \"Our Own\" Audio Files', fontsize=16)\n",
        "plt.xlabel('Predicted Probability of \"Leak\"', fontsize=12)\n",
        "plt.ylabel('Audio File', fontsize=12)\n",
        "plt.xlim(0, 1)\n",
        "plt.axvline(x=0.5, color='r', linestyle='--', label='Decision Boundary (0.5)')\n",
        "plt.legend(title='Predicted Label')\n",
        "\n",
        "# Annotate bars with probability values\n",
        "for index, row in results_df.iterrows():\n",
        "    color = 'green' if row['correct'] else 'red'\n",
        "    plt.text(row.leak_probability + 0.02, index, f\"{row.leak_probability:.2f}\", \n",
        "             color='black', va='center')\n",
        "    plt.text(0.9, index, f\"✓ Correct\" if row['correct'] else \"✗ Incorrect\",\n",
        "             color=color, va='center', ha='right', weight='bold')\n",
        "\n",
        "plt.tight_layout()\n",
        "plt.show()\n"
      ]
    },
    {
      "cell_type": "markdown",
      "metadata": {},
      "source": [
        "## 7. Test Generalization on UrbanSound8K Dataset\n",
        "\n",
        "This is an important final step to test how well our model generalizes to completely unrelated sounds. The **UrbanSound8K** dataset contains a wide variety of common urban sounds (e.g., car horns, dogs barking, sirens).\n",
        "\n",
        "Our model, which was only trained to distinguish \"Leak\" from \"NoLeak\" sounds, should ideally classify all of these new sounds as **\"NoLeak.\"** If it predicts \"Leak\" for any of them, it might indicate that some acoustic features of that urban sound are confusingly similar to what the model has learned to identify as a leak.\n",
        "\n",
        "The process will be:\n",
        "1.  Load the metadata for the UrbanSound8K dataset.\n",
        "2.  Randomly select 10 audio files from across its different classes.\n",
        "3.  Process each file into a Mel spectrogram.\n",
        "4.  Use our trained model to predict the class.\n",
        "5.  Display the results, comparing the model's prediction to the actual sound type.\n"
      ]
    },
    {
      "cell_type": "code",
      "execution_count": 41,
      "metadata": {},
      "outputs": [
        {
          "name": "stdout",
          "output_type": "stream",
          "text": [
            "Randomly selected 10 files for testing generalization.\n"
          ]
        },
        {
          "name": "stderr",
          "output_type": "stream",
          "text": [
            "Processing UrbanSound files: 100%|██████████| 10/10 [00:00<00:00, 117.88it/s]"
          ]
        },
        {
          "name": "stdout",
          "output_type": "stream",
          "text": [
            "\u001b[1m1/1\u001b[0m \u001b[32m━━━━━━━━━━━━━━━━━━━━\u001b[0m\u001b[37m\u001b[0m \u001b[1m0s\u001b[0m 37ms/step\n",
            "\n",
            "--- GENERALIZATION TEST RESULTS (UrbanSound8K) ---\n",
            " Original Class          Filename Model Prediction\n",
            "          siren  93567-8-0-10.wav           NoLeak\n",
            "          siren   71177-8-1-1.wav           NoLeak\n",
            "   street_music 185375-9-0-60.wav           NoLeak\n",
            "       dog_bark  176783-3-0-5.wav           NoLeak\n",
            "       drilling   74922-4-0-1.wav             Leak\n",
            "air_conditioner 121286-0-0-13.wav             Leak\n",
            "          siren  24347-8-0-48.wav             Leak\n",
            "       dog_bark  113785-3-0-0.wav           NoLeak\n",
            "       dog_bark  190680-3-6-0.wav           NoLeak\n",
            "   street_music  99179-9-0-38.wav           NoLeak\n",
            "\n",
            "Analysis: The model incorrectly identified 3 out of 10 urban sounds as 'Leak'.\n"
          ]
        },
        {
          "name": "stderr",
          "output_type": "stream",
          "text": [
            "\n"
          ]
        }
      ],
      "source": [
        "# --- Parameters for UrbanSound8K ---\n",
        "# Using os.path.join for platform compatibility\n",
        "URBANSOUND_METADATA_PATH = os.path.join('..', 'UrbanSound8K', 'UrbanSound8K', 'metadata', 'UrbanSound8K.csv')\n",
        "URBANSOUND_AUDIO_DIR = os.path.join('..', 'UrbanSound8K', 'UrbanSound8K', 'audio')\n",
        "NUM_RANDOM_SAMPLES = 10\n",
        "\n",
        "# Initialize dataframe outside the try block to ensure it's accessible later\n",
        "urban_results_df = pd.DataFrame()\n",
        "\n",
        "try:\n",
        "    # --- Load metadata ---\n",
        "    urban_df = pd.read_csv(URBANSOUND_METADATA_PATH)\n",
        "    \n",
        "    # --- Select 10 random samples ---\n",
        "    if len(urban_df) >= NUM_RANDOM_SAMPLES:\n",
        "        random_samples = urban_df.sample(n=NUM_RANDOM_SAMPLES)\n",
        "        \n",
        "        # --- Get full file paths ---\n",
        "        urban_sound_files = []\n",
        "        for index, row in random_samples.iterrows():\n",
        "            # Correctly join path components\n",
        "            file_path = os.path.join(URBANSOUND_AUDIO_DIR, f\"fold{row['fold']}\", row['slice_file_name'])\n",
        "            urban_sound_files.append(file_path)\n",
        "\n",
        "        print(f\"Randomly selected {len(urban_sound_files)} files for testing generalization.\")\n",
        "\n",
        "        # --- Process and predict ---\n",
        "        X_urban = np.array([audio_to_melspectrogram(file) for file in tqdm(urban_sound_files, desc=\"Processing UrbanSound files\")])\n",
        "        \n",
        "        valid_indices_urban = [i for i, spec in enumerate(X_urban) if spec is not None]\n",
        "        X_urban_valid = np.array([X_urban[i] for i in valid_indices_urban])\n",
        "        urban_sound_files_valid = [urban_sound_files[i] for i in valid_indices_urban]\n",
        "        random_samples_valid = random_samples.iloc[valid_indices_urban]\n",
        "\n",
        "        if X_urban_valid.shape[0] > 0:\n",
        "            X_urban_valid = X_urban_valid[..., np.newaxis]\n",
        "\n",
        "            urban_pred_probs = model.predict(X_urban_valid)\n",
        "            urban_predictions = (urban_pred_probs > 0.5).astype(\"int32\")\n",
        "            urban_predicted_labels = label_encoder.inverse_transform(urban_predictions.flatten())\n",
        "\n",
        "            # --- Store results in a structured table for later use ---\n",
        "            urban_results_df = pd.DataFrame({\n",
        "                'Original Class': random_samples_valid['class'].values,\n",
        "                'Filename': random_samples_valid['slice_file_name'].values,\n",
        "                'Model Prediction': urban_predicted_labels,\n",
        "                'full_path': urban_sound_files_valid\n",
        "            })\n",
        "            \n",
        "            # Displaying a cleaner version without the full path\n",
        "            display_df = urban_results_df[['Original Class', 'Filename', 'Model Prediction']]\n",
        "            print(\"\\n--- GENERALIZATION TEST RESULTS (UrbanSound8K) ---\")\n",
        "            print(display_df.to_string(index=False))\n",
        "\n",
        "            # --- Final analysis ---\n",
        "            leaks_predicted = urban_results_df[urban_results_df['Model Prediction'] == 'Leak'].shape[0]\n",
        "            print(f\"\\nAnalysis: The model incorrectly identified {leaks_predicted} out of {len(urban_results_df)} urban sounds as 'Leak'.\")\n",
        "\n",
        "        else:\n",
        "            print(\"Could not process any of the selected UrbanSound8K files.\")\n",
        "    else:\n",
        "        print(f\"Not enough samples in the metadata file to select {NUM_RANDOM_SAMPLES} files.\")\n",
        "\n",
        "except FileNotFoundError:\n",
        "    print(f\"Error: Could not find the UrbanSound8K metadata file at '{URBANSOUND_METADATA_PATH}'\")\n",
        "    print(\"Please ensure the dataset is correctly placed in your project directory.\")\n",
        "\n"
      ]
    },
    {
      "cell_type": "code",
      "execution_count": 42,
      "metadata": {},
      "outputs": [
        {
          "name": "stdout",
          "output_type": "stream",
          "text": [
            "Randomly selected 10 files for testing generalization.\n"
          ]
        },
        {
          "name": "stderr",
          "output_type": "stream",
          "text": [
            "Processing UrbanSound files: 100%|██████████| 10/10 [00:00<00:00, 124.66it/s]"
          ]
        },
        {
          "name": "stdout",
          "output_type": "stream",
          "text": [
            "\u001b[1m1/1\u001b[0m \u001b[32m━━━━━━━━━━━━━━━━━━━━\u001b[0m\u001b[37m\u001b[0m \u001b[1m0s\u001b[0m 34ms/step\n",
            "\n",
            "--- GENERALIZATION TEST RESULTS (UrbanSound8K) ---\n",
            "  Original Class          Filename Model Prediction\n",
            "        gun_shot 135544-6-11-0.wav           NoLeak\n",
            "        drilling   63095-4-0-8.wav             Leak\n",
            "        car_horn   72259-1-6-0.wav             Leak\n",
            "children_playing 204067-2-0-39.wav           NoLeak\n",
            "children_playing 109703-2-0-32.wav           NoLeak\n",
            "        drilling  180125-4-2-1.wav           NoLeak\n",
            "        gun_shot  157207-6-3-0.wav           NoLeak\n",
            "        dog_bark  101281-3-0-5.wav           NoLeak\n",
            "    street_music 132162-9-1-58.wav           NoLeak\n",
            "    street_music   52411-9-0-4.wav           NoLeak\n",
            "\n",
            "Analysis: The model incorrectly identified 2 out of 10 urban sounds as 'Leak'.\n"
          ]
        },
        {
          "name": "stderr",
          "output_type": "stream",
          "text": [
            "\n"
          ]
        }
      ],
      "source": [
        "# --- Parameters for UrbanSound8K ---\n",
        "# Correcting the path to account for the nested folder and notebook location\n",
        "URBANSOUND_METADATA_PATH = '../UrbanSound8K/UrbanSound8K/metadata/UrbanSound8K.csv'\n",
        "URBANSOUND_AUDIO_DIR = '../UrbanSound8K/UrbanSound8K/audio/'\n",
        "NUM_RANDOM_SAMPLES = 10\n",
        "\n",
        "try:\n",
        "    # --- Load metadata ---\n",
        "    urban_df = pd.read_csv(URBANSOUND_METADATA_PATH)\n",
        "    \n",
        "    # --- Select 10 random samples ---\n",
        "    if len(urban_df) >= NUM_RANDOM_SAMPLES:\n",
        "        random_samples = urban_df.sample(n=NUM_RANDOM_SAMPLES)\n",
        "        \n",
        "        # --- Get full file paths ---\n",
        "        urban_sound_files = []\n",
        "        for index, row in random_samples.iterrows():\n",
        "            file_path = os.path.join(URBANSOUND_AUDIO_DIR, f\"fold{row['fold']}\", row['slice_file_name'])\n",
        "            urban_sound_files.append(file_path)\n",
        "\n",
        "        print(f\"Randomly selected {len(urban_sound_files)} files for testing generalization.\")\n",
        "\n",
        "        # --- Process and predict ---\n",
        "        X_urban = np.array([audio_to_melspectrogram(file) for file in tqdm(urban_sound_files, desc=\"Processing UrbanSound files\")])\n",
        "        \n",
        "        valid_indices_urban = [i for i, spec in enumerate(X_urban) if spec is not None]\n",
        "        X_urban_valid = np.array([X_urban[i] for i in valid_indices_urban])\n",
        "        urban_sound_files_valid = [urban_sound_files[i] for i in valid_indices_urban]\n",
        "        random_samples_valid = random_samples.iloc[valid_indices_urban]\n",
        "\n",
        "        if X_urban_valid.shape[0] > 0:\n",
        "            X_urban_valid = X_urban_valid[..., np.newaxis]\n",
        "\n",
        "            urban_pred_probs = model.predict(X_urban_valid)\n",
        "            urban_predictions = (urban_pred_probs > 0.5).astype(\"int32\")\n",
        "            urban_predicted_labels = label_encoder.inverse_transform(urban_predictions.flatten())\n",
        "\n",
        "            # --- Display results in a structured table ---\n",
        "            urban_results_df = pd.DataFrame({\n",
        "                'Original Class': random_samples_valid['class'].values,\n",
        "                'Filename': random_samples_valid['slice_file_name'].values,\n",
        "                'Model Prediction': urban_predicted_labels\n",
        "            })\n",
        "            \n",
        "            print(\"\\n--- GENERALIZATION TEST RESULTS (UrbanSound8K) ---\")\n",
        "            print(urban_results_df.to_string(index=False))\n",
        "\n",
        "            # --- Final analysis ---\n",
        "            leaks_predicted = urban_results_df[urban_results_df['Model Prediction'] == 'Leak'].shape[0]\n",
        "            print(f\"\\nAnalysis: The model incorrectly identified {leaks_predicted} out of {len(urban_results_df)} urban sounds as 'Leak'.\")\n",
        "\n",
        "        else:\n",
        "            print(\"Could not process any of the selected UrbanSound8K files.\")\n",
        "    else:\n",
        "        print(f\"Not enough samples in the metadata file to select {NUM_RANDOM_SAMPLES} files.\")\n",
        "\n",
        "except FileNotFoundError:\n",
        "    print(f\"Error: Could not find the UrbanSound8K metadata file at '{URBANSOUND_METADATA_PATH}'\")\n",
        "    print(\"Please ensure the dataset is correctly placed in your project directory.\")\n",
        "\n"
      ]
    },
    {
      "cell_type": "code",
      "execution_count": 53,
      "metadata": {},
      "outputs": [
        {
          "name": "stdout",
          "output_type": "stream",
          "text": [
            "Randomly selected 100 files for testing generalization.\n"
          ]
        },
        {
          "name": "stderr",
          "output_type": "stream",
          "text": [
            "Processing UrbanSound files: 100%|██████████| 100/100 [00:00<00:00, 123.81it/s]\n"
          ]
        },
        {
          "name": "stdout",
          "output_type": "stream",
          "text": [
            "\u001b[1m4/4\u001b[0m \u001b[32m━━━━━━━━━━━━━━━━━━━━\u001b[0m\u001b[37m\u001b[0m \u001b[1m0s\u001b[0m 32ms/step\n",
            "\n",
            "--- GENERALIZATION TEST RESULTS (UrbanSound8K) ---\n",
            "  Original Class           Filename Model Prediction\n",
            "           siren    94636-8-0-0.wav             Leak\n",
            "        car_horn   151359-1-1-0.wav           NoLeak\n",
            "    street_music  191431-9-0-73.wav           NoLeak\n",
            "        car_horn   174841-1-0-0.wav           NoLeak\n",
            "        dog_bark    81799-3-0-1.wav           NoLeak\n",
            "children_playing    17973-2-0-9.wav           NoLeak\n",
            "      jackhammer  177537-7-0-30.wav           NoLeak\n",
            "      jackhammer  171305-7-27-0.wav           NoLeak\n",
            " air_conditioner  189981-0-0-17.wav           NoLeak\n",
            "      jackhammer   131918-7-0-2.wav           NoLeak\n",
            "        car_horn   179867-1-0-0.wav           NoLeak\n",
            "    street_music  132016-9-0-20.wav           NoLeak\n",
            "        dog_bark    76566-3-0-3.wav           NoLeak\n",
            "    street_music    74458-9-0-7.wav           NoLeak\n",
            "children_playing  187110-2-0-27.wav           NoLeak\n",
            "   engine_idling   15544-5-0-12.wav           NoLeak\n",
            "children_playing  207214-2-0-68.wav           NoLeak\n",
            "children_playing   14470-2-0-10.wav           NoLeak\n",
            "           siren   157866-8-0-3.wav             Leak\n",
            "    street_music  194732-9-0-95.wav           NoLeak\n",
            "           siren   24347-8-0-80.wav             Leak\n",
            "      jackhammer   125678-7-1-6.wav           NoLeak\n",
            "   engine_idling   111386-5-0-4.wav           NoLeak\n",
            "        drilling   137815-4-0-2.wav           NoLeak\n",
            "        dog_bark   176783-3-0-3.wav           NoLeak\n",
            "        drilling   34621-4-22-0.wav           NoLeak\n",
            "   engine_idling  201988-5-0-14.wav           NoLeak\n",
            "      jackhammer   165039-7-2-0.wav           NoLeak\n",
            "   engine_idling    17578-5-0-0.wav           NoLeak\n",
            "           siren   74364-8-1-15.wav           NoLeak\n",
            " air_conditioner  134717-0-0-21.wav           NoLeak\n",
            " air_conditioner   74677-0-0-58.wav           NoLeak\n",
            "        drilling    29722-4-0-5.wav           NoLeak\n",
            "           siren   74726-8-0-14.wav           NoLeak\n",
            "    street_music 194321-9-0-241.wav           NoLeak\n",
            " air_conditioner 177742-0-0-178.wav             Leak\n",
            "        gun_shot   174294-6-1-0.wav           NoLeak\n",
            "      jackhammer   180937-7-3-8.wav           NoLeak\n",
            "   engine_idling    18592-5-0-2.wav           NoLeak\n",
            "   engine_idling   194962-5-0-2.wav           NoLeak\n",
            "children_playing 155262-2-0-101.wav           NoLeak\n",
            "    street_music    99710-9-0-6.wav           NoLeak\n",
            " air_conditioner    56385-0-0-1.wav           NoLeak\n",
            "   engine_idling    39856-5-0-2.wav           NoLeak\n",
            "children_playing  108362-2-0-30.wav           NoLeak\n",
            " air_conditioner   146709-0-0-3.wav           NoLeak\n",
            " air_conditioner   177726-0-0-1.wav           NoLeak\n",
            "   engine_idling   156634-5-1-0.wav           NoLeak\n",
            " air_conditioner    47160-0-0-4.wav           NoLeak\n",
            " air_conditioner  100852-0-0-12.wav           NoLeak\n",
            "        car_horn    87275-1-3-0.wav           NoLeak\n",
            "      jackhammer   203929-7-7-2.wav           NoLeak\n",
            "           siren   24347-8-0-97.wav           NoLeak\n",
            "        dog_bark   190680-3-4-0.wav           NoLeak\n",
            "    street_music     7390-9-0-9.wav           NoLeak\n",
            "   engine_idling   17578-5-0-31.wav           NoLeak\n",
            "        dog_bark    81799-3-1-0.wav           NoLeak\n",
            "        dog_bark   171464-3-0-0.wav           NoLeak\n",
            "      jackhammer   62837-7-1-31.wav           NoLeak\n",
            "        drilling  180125-4-0-16.wav           NoLeak\n",
            "           siren   24347-8-0-46.wav             Leak\n",
            "           siren   159754-8-2-0.wav           NoLeak\n",
            "        drilling  104625-4-0-55.wav           NoLeak\n",
            "   engine_idling    39856-5-0-8.wav           NoLeak\n",
            "    street_music  172460-9-0-24.wav           NoLeak\n",
            "        car_horn    18594-1-5-0.wav           NoLeak\n",
            "    street_music  155241-9-0-69.wav           NoLeak\n",
            "        car_horn    72567-1-2-1.wav           NoLeak\n",
            "    street_music 168906-9-0-128.wav           NoLeak\n",
            " air_conditioner   178686-0-0-3.wav           NoLeak\n",
            "   engine_idling   106015-5-0-1.wav           NoLeak\n",
            "      jackhammer   125678-7-2-8.wav           NoLeak\n",
            "children_playing  143651-2-0-55.wav           NoLeak\n",
            " air_conditioner  74677-0-0-116.wav           NoLeak\n",
            "   engine_idling  152908-5-0-11.wav           NoLeak\n",
            "        drilling   104817-4-0-6.wav             Leak\n",
            "        drilling    96159-4-0-0.wav           NoLeak\n",
            "children_playing  164797-2-0-47.wav           NoLeak\n",
            " air_conditioner   30204-0-0-12.wav           NoLeak\n",
            " air_conditioner    13230-0-0-6.wav           NoLeak\n",
            " air_conditioner  177729-0-0-89.wav           NoLeak\n",
            "children_playing  192382-2-0-18.wav           NoLeak\n",
            "        dog_bark    82024-3-0-4.wav             Leak\n",
            "        car_horn    72567-1-2-4.wav             Leak\n",
            "        drilling   46669-4-0-30.wav           NoLeak\n",
            " air_conditioner  177729-0-0-27.wav           NoLeak\n",
            "        drilling    95562-4-0-0.wav           NoLeak\n",
            "    street_music   55728-9-0-30.wav           NoLeak\n",
            "children_playing    52882-2-0-6.wav           NoLeak\n",
            "        dog_bark   200161-3-6-0.wav           NoLeak\n",
            "children_playing  165067-2-0-56.wav           NoLeak\n",
            "        drilling   185801-4-0-1.wav           NoLeak\n",
            "children_playing   13579-2-0-62.wav           NoLeak\n",
            " air_conditioner    35382-0-0-1.wav           NoLeak\n",
            "children_playing 193698-2-0-113.wav           NoLeak\n",
            "           siren   94636-8-0-17.wav           NoLeak\n",
            "           siren   24347-8-0-29.wav           NoLeak\n",
            " air_conditioner    74507-0-0-4.wav           NoLeak\n",
            "           siren   148632-8-0-0.wav           NoLeak\n",
            "        drilling   169466-4-2-6.wav           NoLeak\n",
            "\n",
            "Analysis: The model incorrectly identified 8 out of 100 urban sounds as 'Leak'.\n"
          ]
        }
      ],
      "source": [
        "# --- Parameters for UrbanSound8K ---\n",
        "# Using os.path.join for platform compatibility\n",
        "URBANSOUND_METADATA_PATH = os.path.join('..', 'UrbanSound8K', 'UrbanSound8K', 'metadata', 'UrbanSound8K.csv')\n",
        "URBANSOUND_AUDIO_DIR = os.path.join('..', 'UrbanSound8K', 'UrbanSound8K', 'audio')\n",
        "NUM_RANDOM_SAMPLES = 100\n",
        "\n",
        "# Initialize dataframe outside the try block to ensure it's accessible later\n",
        "urban_results_df = pd.DataFrame()\n",
        "\n",
        "try:\n",
        "    # --- Load metadata ---\n",
        "    urban_df = pd.read_csv(URBANSOUND_METADATA_PATH)\n",
        "    \n",
        "    # --- Select 10 random samples ---\n",
        "    if len(urban_df) >= NUM_RANDOM_SAMPLES:\n",
        "        random_samples = urban_df.sample(n=NUM_RANDOM_SAMPLES)\n",
        "        \n",
        "        # --- Get full file paths ---\n",
        "        urban_sound_files = []\n",
        "        for index, row in random_samples.iterrows():\n",
        "            # Correctly join path components\n",
        "            file_path = os.path.join(URBANSOUND_AUDIO_DIR, f\"fold{row['fold']}\", row['slice_file_name'])\n",
        "            urban_sound_files.append(file_path)\n",
        "\n",
        "        print(f\"Randomly selected {len(urban_sound_files)} files for testing generalization.\")\n",
        "\n",
        "        # --- Process and predict ---\n",
        "        X_urban = np.array([audio_to_melspectrogram(file) for file in tqdm(urban_sound_files, desc=\"Processing UrbanSound files\")])\n",
        "        \n",
        "        valid_indices_urban = [i for i, spec in enumerate(X_urban) if spec is not None]\n",
        "        X_urban_valid = np.array([X_urban[i] for i in valid_indices_urban])\n",
        "        urban_sound_files_valid = [urban_sound_files[i] for i in valid_indices_urban]\n",
        "        random_samples_valid = random_samples.iloc[valid_indices_urban]\n",
        "\n",
        "        if X_urban_valid.shape[0] > 0:\n",
        "            X_urban_valid = X_urban_valid[..., np.newaxis]\n",
        "\n",
        "            urban_pred_probs = model.predict(X_urban_valid)\n",
        "            urban_predictions = (urban_pred_probs > 0.5).astype(\"int32\")\n",
        "            urban_predicted_labels = label_encoder.inverse_transform(urban_predictions.flatten())\n",
        "\n",
        "            # --- Store results in a structured table for later use ---\n",
        "            urban_results_df = pd.DataFrame({\n",
        "                'Original Class': random_samples_valid['class'].values,\n",
        "                'Filename': random_samples_valid['slice_file_name'].values,\n",
        "                'Model Prediction': urban_predicted_labels,\n",
        "                'full_path': urban_sound_files_valid\n",
        "            })\n",
        "            \n",
        "            # Displaying a cleaner version without the full path\n",
        "            display_df = urban_results_df[['Original Class', 'Filename', 'Model Prediction']]\n",
        "            print(\"\\n--- GENERALIZATION TEST RESULTS (UrbanSound8K) ---\")\n",
        "            print(display_df.to_string(index=False))\n",
        "\n",
        "            # --- Final analysis ---\n",
        "            leaks_predicted = urban_results_df[urban_results_df['Model Prediction'] == 'Leak'].shape[0]\n",
        "            print(f\"\\nAnalysis: The model incorrectly identified {leaks_predicted} out of {len(urban_results_df)} urban sounds as 'Leak'.\")\n",
        "\n",
        "        else:\n",
        "            print(\"Could not process any of the selected UrbanSound8K files.\")\n",
        "    else:\n",
        "        print(f\"Not enough samples in the metadata file to select {NUM_RANDOM_SAMPLES} files.\")\n",
        "\n",
        "except FileNotFoundError:\n",
        "    print(f\"Error: Could not find the UrbanSound8K metadata file at '{URBANSOUND_METADATA_PATH}'\")\n",
        "    print(\"Please ensure the dataset is correctly placed in your project directory.\")"
      ]
    }
  ],
  "metadata": {
    "kernelspec": {
      "display_name": "Python 3",
      "language": "python",
      "name": "python3"
    },
    "language_info": {
      "codemirror_mode": {
        "name": "ipython",
        "version": 3
      },
      "file_extension": ".py",
      "mimetype": "text/x-python",
      "name": "python",
      "nbconvert_exporter": "python",
      "pygments_lexer": "ipython3",
      "version": "3.12.10"
    }
  },
  "nbformat": 4,
  "nbformat_minor": 2
}
