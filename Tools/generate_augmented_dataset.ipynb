{
  "cells": [
    {
      "cell_type": "markdown",
      "metadata": {},
      "source": [
        "# Notebook 1: Generate Augmented Audio Dataset\n",
        "\n",
        "This notebook has a single, critical purpose: to create a large, static dataset of augmented audio files.\n",
        "\n",
        "**Problem:** Training a model with on-the-fly augmentation is flexible, but it can be slow as the augmentations have to be recalculated for every training run.\n",
        "\n",
        "**Solution:** We will pre-generate our augmented data. This notebook will read every audio file from our original `Audios para Treinamento/` directory, create several augmented versions of each, and save them as new `.wav` files in a new `Audios-Augmented/` directory.\n",
        "\n",
        "The augmentation techniques will include:\n",
        "- **Adding Noise**\n",
        "- **Pitch Shifting**\n",
        "- **Chunk Shuffling:** A new, powerful technique where we slice the audio into chunks, shuffle them, and stitch them back together. This is designed to teach the model about the difference between stationary noise (leaks) and transient sounds.\n",
        "\n",
        "After running this notebook **once**, we will have a large, ready-to-use dataset for our modeling experiments, which will make the training process much faster and simpler.\n"
      ]
    },
    {
      "cell_type": "markdown",
      "metadata": {},
      "source": [
        "## 1. Setup and Imports\n"
      ]
    },
    {
      "cell_type": "code",
      "execution_count": 1,
      "metadata": {},
      "outputs": [
        {
          "name": "stdout",
          "output_type": "stream",
          "text": [
            "Defaulting to user installation because normal site-packages is not writeable\n",
            "Requirement already satisfied: librosa in c:\\users\\fe_de\\appdata\\local\\packages\\pythonsoftwarefoundation.python.3.12_qbz5n2kfra8p0\\localcache\\local-packages\\python312\\site-packages (0.11.0)\n",
            "Requirement already satisfied: numpy in c:\\users\\fe_de\\appdata\\local\\packages\\pythonsoftwarefoundation.python.3.12_qbz5n2kfra8p0\\localcache\\local-packages\\python312\\site-packages (2.3.1)\n",
            "Requirement already satisfied: tqdm in c:\\users\\fe_de\\appdata\\local\\packages\\pythonsoftwarefoundation.python.3.12_qbz5n2kfra8p0\\localcache\\local-packages\\python312\\site-packages (4.67.1)\n",
            "Requirement already satisfied: soundfile in c:\\users\\fe_de\\appdata\\local\\packages\\pythonsoftwarefoundation.python.3.12_qbz5n2kfra8p0\\localcache\\local-packages\\python312\\site-packages (0.13.1)\n",
            "Requirement already satisfied: audioread>=2.1.9 in c:\\users\\fe_de\\appdata\\local\\packages\\pythonsoftwarefoundation.python.3.12_qbz5n2kfra8p0\\localcache\\local-packages\\python312\\site-packages (from librosa) (3.1.0)\n",
            "Requirement already satisfied: numba>=0.51.0 in c:\\users\\fe_de\\appdata\\local\\packages\\pythonsoftwarefoundation.python.3.12_qbz5n2kfra8p0\\localcache\\local-packages\\python312\\site-packages (from librosa) (0.62.1)\n",
            "Requirement already satisfied: scipy>=1.6.0 in c:\\users\\fe_de\\appdata\\local\\packages\\pythonsoftwarefoundation.python.3.12_qbz5n2kfra8p0\\localcache\\local-packages\\python312\\site-packages (from librosa) (1.16.0)\n",
            "Requirement already satisfied: scikit-learn>=1.1.0 in c:\\users\\fe_de\\appdata\\local\\packages\\pythonsoftwarefoundation.python.3.12_qbz5n2kfra8p0\\localcache\\local-packages\\python312\\site-packages (from librosa) (1.7.2)\n",
            "Requirement already satisfied: joblib>=1.0 in c:\\users\\fe_de\\appdata\\local\\packages\\pythonsoftwarefoundation.python.3.12_qbz5n2kfra8p0\\localcache\\local-packages\\python312\\site-packages (from librosa) (1.5.2)\n",
            "Requirement already satisfied: decorator>=4.3.0 in c:\\users\\fe_de\\appdata\\local\\packages\\pythonsoftwarefoundation.python.3.12_qbz5n2kfra8p0\\localcache\\local-packages\\python312\\site-packages (from librosa) (5.2.1)\n",
            "Requirement already satisfied: pooch>=1.1 in c:\\users\\fe_de\\appdata\\local\\packages\\pythonsoftwarefoundation.python.3.12_qbz5n2kfra8p0\\localcache\\local-packages\\python312\\site-packages (from librosa) (1.8.2)\n",
            "Requirement already satisfied: soxr>=0.3.2 in c:\\users\\fe_de\\appdata\\local\\packages\\pythonsoftwarefoundation.python.3.12_qbz5n2kfra8p0\\localcache\\local-packages\\python312\\site-packages (from librosa) (1.0.0)\n",
            "Requirement already satisfied: typing_extensions>=4.1.1 in c:\\users\\fe_de\\appdata\\local\\packages\\pythonsoftwarefoundation.python.3.12_qbz5n2kfra8p0\\localcache\\local-packages\\python312\\site-packages (from librosa) (4.14.1)\n",
            "Requirement already satisfied: lazy_loader>=0.1 in c:\\users\\fe_de\\appdata\\local\\packages\\pythonsoftwarefoundation.python.3.12_qbz5n2kfra8p0\\localcache\\local-packages\\python312\\site-packages (from librosa) (0.4)\n",
            "Requirement already satisfied: msgpack>=1.0 in c:\\users\\fe_de\\appdata\\local\\packages\\pythonsoftwarefoundation.python.3.12_qbz5n2kfra8p0\\localcache\\local-packages\\python312\\site-packages (from librosa) (1.1.2)\n",
            "Requirement already satisfied: colorama in c:\\users\\fe_de\\appdata\\local\\packages\\pythonsoftwarefoundation.python.3.12_qbz5n2kfra8p0\\localcache\\local-packages\\python312\\site-packages (from tqdm) (0.4.6)\n",
            "Requirement already satisfied: cffi>=1.0 in c:\\users\\fe_de\\appdata\\local\\packages\\pythonsoftwarefoundation.python.3.12_qbz5n2kfra8p0\\localcache\\local-packages\\python312\\site-packages (from soundfile) (1.17.1)\n",
            "Requirement already satisfied: pycparser in c:\\users\\fe_de\\appdata\\local\\packages\\pythonsoftwarefoundation.python.3.12_qbz5n2kfra8p0\\localcache\\local-packages\\python312\\site-packages (from cffi>=1.0->soundfile) (2.22)\n",
            "Requirement already satisfied: packaging in c:\\users\\fe_de\\appdata\\local\\packages\\pythonsoftwarefoundation.python.3.12_qbz5n2kfra8p0\\localcache\\local-packages\\python312\\site-packages (from lazy_loader>=0.1->librosa) (25.0)\n",
            "Requirement already satisfied: llvmlite<0.46,>=0.45.0dev0 in c:\\users\\fe_de\\appdata\\local\\packages\\pythonsoftwarefoundation.python.3.12_qbz5n2kfra8p0\\localcache\\local-packages\\python312\\site-packages (from numba>=0.51.0->librosa) (0.45.1)\n",
            "Requirement already satisfied: platformdirs>=2.5.0 in c:\\users\\fe_de\\appdata\\local\\packages\\pythonsoftwarefoundation.python.3.12_qbz5n2kfra8p0\\localcache\\local-packages\\python312\\site-packages (from pooch>=1.1->librosa) (4.5.0)\n",
            "Requirement already satisfied: requests>=2.19.0 in c:\\users\\fe_de\\appdata\\local\\packages\\pythonsoftwarefoundation.python.3.12_qbz5n2kfra8p0\\localcache\\local-packages\\python312\\site-packages (from pooch>=1.1->librosa) (2.31.0)\n",
            "Requirement already satisfied: threadpoolctl>=3.1.0 in c:\\users\\fe_de\\appdata\\local\\packages\\pythonsoftwarefoundation.python.3.12_qbz5n2kfra8p0\\localcache\\local-packages\\python312\\site-packages (from scikit-learn>=1.1.0->librosa) (3.6.0)\n",
            "Requirement already satisfied: charset-normalizer<4,>=2 in c:\\users\\fe_de\\appdata\\local\\packages\\pythonsoftwarefoundation.python.3.12_qbz5n2kfra8p0\\localcache\\local-packages\\python312\\site-packages (from requests>=2.19.0->pooch>=1.1->librosa) (3.4.2)\n",
            "Requirement already satisfied: idna<4,>=2.5 in c:\\users\\fe_de\\appdata\\local\\packages\\pythonsoftwarefoundation.python.3.12_qbz5n2kfra8p0\\localcache\\local-packages\\python312\\site-packages (from requests>=2.19.0->pooch>=1.1->librosa) (3.10)\n",
            "Requirement already satisfied: urllib3<3,>=1.21.1 in c:\\users\\fe_de\\appdata\\local\\packages\\pythonsoftwarefoundation.python.3.12_qbz5n2kfra8p0\\localcache\\local-packages\\python312\\site-packages (from requests>=2.19.0->pooch>=1.1->librosa) (2.5.0)\n",
            "Requirement already satisfied: certifi>=2017.4.17 in c:\\users\\fe_de\\appdata\\local\\packages\\pythonsoftwarefoundation.python.3.12_qbz5n2kfra8p0\\localcache\\local-packages\\python312\\site-packages (from requests>=2.19.0->pooch>=1.1->librosa) (2025.7.14)\n",
            "Note: you may need to restart the kernel to use updated packages.\n"
          ]
        },
        {
          "name": "stderr",
          "output_type": "stream",
          "text": [
            "\n",
            "[notice] A new release of pip is available: 25.0.1 -> 25.3\n",
            "[notice] To update, run: C:\\Users\\fe_de\\AppData\\Local\\Microsoft\\WindowsApps\\PythonSoftwareFoundation.Python.3.12_qbz5n2kfra8p0\\python.exe -m pip install --upgrade pip\n"
          ]
        }
      ],
      "source": [
        "%pip install librosa numpy tqdm soundfile\n"
      ]
    },
    {
      "cell_type": "code",
      "execution_count": 2,
      "metadata": {},
      "outputs": [
        {
          "name": "stdout",
          "output_type": "stream",
          "text": [
            "Imports complete.\n"
          ]
        }
      ],
      "source": [
        "import os\n",
        "import numpy as np\n",
        "import librosa\n",
        "from tqdm import tqdm\n",
        "import random\n",
        "import soundfile as sf\n",
        "\n",
        "print(\"Imports complete.\")\n"
      ]
    },
    {
      "cell_type": "markdown",
      "metadata": {},
      "source": [
        "## 2. Define File Paths and Augmentation Functions\n"
      ]
    },
    {
      "cell_type": "code",
      "execution_count": 3,
      "metadata": {},
      "outputs": [
        {
          "name": "stdout",
          "output_type": "stream",
          "text": [
            "Configuration and functions defined.\n"
          ]
        }
      ],
      "source": [
        "# --- Configuration ---\n",
        "SOURCE_DIR = 'Audios para Treinamento/'\n",
        "DEST_DIR = 'Audios-Augmented/'\n",
        "SAMPLE_RATE = 22050\n",
        "AUGMENTATIONS_PER_FILE = 4 # How many new files to create for each original file\n",
        "\n",
        "# --- Augmentation Functions ---\n",
        "def add_noise(audio, noise_factor=0.005):\n",
        "    noise = np.random.randn(len(audio))\n",
        "    return audio + noise_factor * noise\n",
        "\n",
        "def pitch_shift(audio, sample_rate, n_steps=4):\n",
        "    return librosa.effects.pitch_shift(y=audio, sr=sample_rate, n_steps=n_steps)\n",
        "\n",
        "def chunk_shuffle(audio, num_chunks=5):\n",
        "    # Ensure there's audio to split\n",
        "    if len(audio) == 0:\n",
        "        return audio\n",
        "    # Split the audio into N chunks\n",
        "    chunks = np.array_split(audio, num_chunks)\n",
        "    # Shuffle the list of chunks\n",
        "    random.shuffle(chunks)\n",
        "    # Concatenate them back together\n",
        "    return np.concatenate(chunks)\n",
        "\n",
        "# List of augmentation functions to choose from\n",
        "augmentation_choices = [add_noise, pitch_shift, chunk_shuffle]\n",
        "\n",
        "print(\"Configuration and functions defined.\")\n"
      ]
    },
    {
      "cell_type": "markdown",
      "metadata": {},
      "source": [
        "## 3. Generate the Augmented Dataset\n",
        "\n",
        "This is the main processing step. The code below will perform the following actions:\n",
        "1.  It will create the main `Audios-Augmented/` directory.\n",
        "2.  Inside, it will create two subdirectories: `Leak` and `NoLeak`.\n",
        "3.  It will then iterate through every file in the original `Audios para Treinamento/` directory.\n",
        "4.  For each file, it will copy the original to the new corresponding directory.\n",
        "5.  It will then generate `AUGMENTATIONS_PER_FILE` new, randomly augmented versions and save them as new `.wav` files with descriptive names (e.g., `original_name_aug_noise.wav`).\n",
        "\n",
        "**Warning:** This cell will take some time to run as it is loading, processing, and saving hundreds of new audio files. Run it once, and then you will have your complete dataset ready for training.\n"
      ]
    },
    {
      "cell_type": "code",
      "execution_count": 4,
      "metadata": {},
      "outputs": [
        {
          "name": "stdout",
          "output_type": "stream",
          "text": [
            "Starting to process 60 original files...\n"
          ]
        },
        {
          "name": "stderr",
          "output_type": "stream",
          "text": [
            "100%|██████████| 60/60 [00:08<00:00,  7.34it/s]"
          ]
        },
        {
          "name": "stdout",
          "output_type": "stream",
          "text": [
            "\\n---------------------------------\n",
            "Dataset generation complete!\n",
            "Total files in 'Audios-Augmented/Leak': 150\n",
            "Total files in 'Audios-Augmented/NoLeak': 150\n",
            "Total augmented files created: 300\n"
          ]
        },
        {
          "name": "stderr",
          "output_type": "stream",
          "text": [
            "\n"
          ]
        }
      ],
      "source": [
        "# Create destination directories\n",
        "os.makedirs(DEST_DIR, exist_ok=True)\n",
        "os.makedirs(os.path.join(DEST_DIR, 'Leak'), exist_ok=True)\n",
        "os.makedirs(os.path.join(DEST_DIR, 'NoLeak'), exist_ok=True)\n",
        "\n",
        "# Get the original classes (Leak-Metal, NoLeak-NonMetal, etc.)\n",
        "original_classes = [d for d in os.listdir(SOURCE_DIR) if os.path.isdir(os.path.join(SOURCE_DIR, d))]\n",
        "\n",
        "# Get a flat list of all source files\n",
        "all_source_files = []\n",
        "for class_dir in original_classes:\n",
        "    source_class_path = os.path.join(SOURCE_DIR, class_dir)\n",
        "    files = [os.path.join(source_class_path, f) for f in os.listdir(source_class_path) if f.endswith('.wav')]\n",
        "    all_source_files.extend(files)\n",
        "\n",
        "# --- Main Processing Loop ---\n",
        "print(f\"Starting to process {len(all_source_files)} original files...\")\n",
        "for file_path in tqdm(all_source_files):\n",
        "    try:\n",
        "        # Determine the destination directory (Leak or NoLeak)\n",
        "        base_filename = os.path.basename(file_path)\n",
        "        class_dir_name = os.path.basename(os.path.dirname(file_path))\n",
        "        binary_label = 'NoLeak' if class_dir_name.startswith('NoLeak') else 'Leak'\n",
        "        dest_path = os.path.join(DEST_DIR, binary_label)\n",
        "\n",
        "        # Load the original audio\n",
        "        audio, sr = librosa.load(file_path, sr=SAMPLE_RATE)\n",
        "        \n",
        "        # 1. Save the original file\n",
        "        original_dest_filename = os.path.join(dest_path, base_filename)\n",
        "        sf.write(original_dest_filename, audio, sr)\n",
        "\n",
        "        # 2. Create and save augmented versions\n",
        "        for i in range(AUGMENTATIONS_PER_FILE):\n",
        "            # Choose a random augmentation\n",
        "            aug_func = random.choice(augmentation_choices)\n",
        "            \n",
        "            # Apply it\n",
        "            if aug_func == pitch_shift: # pitch_shift needs sr\n",
        "                augmented_audio = aug_func(audio, sample_rate=sr)\n",
        "            else:\n",
        "                augmented_audio = aug_func(audio)\n",
        "            \n",
        "            # Create a new filename for the augmented audio\n",
        "            name, ext = os.path.splitext(base_filename)\n",
        "            aug_filename = f\"{name}_aug_{aug_func.__name__}_{i}{ext}\"\n",
        "            aug_dest_path = os.path.join(dest_path, aug_filename)\n",
        "            \n",
        "            # Save the new file\n",
        "            sf.write(aug_dest_path, augmented_audio, sr)\n",
        "\n",
        "    except Exception as e:\n",
        "        print(f\"Error processing file {file_path}: {e}\")\n",
        "\n",
        "print(\"\\\\n---------------------------------\")\n",
        "print(\"Dataset generation complete!\")\n",
        "leak_files = len(os.listdir(os.path.join(DEST_DIR, 'Leak')))\n",
        "noleak_files = len(os.listdir(os.path.join(DEST_DIR, 'NoLeak')))\n",
        "print(f\"Total files in '{os.path.join(DEST_DIR, 'Leak')}': {leak_files}\")\n",
        "print(f\"Total files in '{os.path.join(DEST_DIR, 'NoLeak')}': {noleak_files}\")\n",
        "print(f\"Total augmented files created: {leak_files + noleak_files}\")\n"
      ]
    }
  ],
  "metadata": {
    "kernelspec": {
      "display_name": "Python 3",
      "language": "python",
      "name": "python3"
    },
    "language_info": {
      "codemirror_mode": {
        "name": "ipython",
        "version": 3
      },
      "file_extension": ".py",
      "mimetype": "text/x-python",
      "name": "python",
      "nbconvert_exporter": "python",
      "pygments_lexer": "ipython3",
      "version": "3.12.10"
    }
  },
  "nbformat": 4,
  "nbformat_minor": 2
}
