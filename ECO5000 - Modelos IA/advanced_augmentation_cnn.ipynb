{
  "cells": [
    {
      "cell_type": "markdown",
      "metadata": {},
      "source": [
        "# Part 4: Advanced Data Augmentation for Audio Classification\n",
        "\n",
        "In our previous notebook, we confirmed that data augmentation is a highly effective strategy for improving our model's performance and reducing overfitting. We saw a significant jump in accuracy and a much more balanced model when we expanded our training set with simple augmentations.\n",
        "\n",
        "This notebook will take that concept a step further. We will implement a more advanced and robust augmentation pipeline:\n",
        "\n",
        "1.  **Introduce a New Augmentation:** We will add **time shifting** to our set of tools. This simulates the sound starting at a slightly different time.\n",
        "2.  **Randomized Augmentation:** Instead of creating a fixed set of augmentations for each audio clip (e.g., one with noise, one with a pitch shift), we will create multiple augmented versions where each version has a **randomly chosen augmentation** applied. This creates a much more diverse and less predictable training set, which is a very powerful technique for forcing the model to learn the core features of the sound.\n",
        "3.  **Train and Evaluate:** We will then train a new binary CNN on this more richly augmented dataset and compare its performance to our previous models.\n"
      ]
    },
    {
      "cell_type": "markdown",
      "metadata": {},
      "source": [
        "## 1. Setup and Imports\n"
      ]
    },
    {
      "cell_type": "code",
      "execution_count": null,
      "metadata": {},
      "outputs": [],
      "source": [
        "# This cell will install libraries if they are not already present.\n",
        "%pip install tensorflow scikit-learn librosa numpy pandas matplotlib seaborn tqdm\n"
      ]
    },
    {
      "cell_type": "code",
      "execution_count": null,
      "metadata": {},
      "outputs": [],
      "source": [
        "import os\n",
        "import numpy as np\n",
        "import pandas as pd\n",
        "import librosa\n",
        "import librosa.display\n",
        "import matplotlib.pyplot as plt\n",
        "import seaborn as sns\n",
        "from tqdm import tqdm\n",
        "import random\n",
        "\n",
        "from sklearn.model_selection import train_test_split\n",
        "from sklearn.preprocessing import LabelEncoder\n",
        "from sklearn.metrics import classification_report, confusion_matrix\n",
        "\n",
        "import tensorflow as tf\n",
        "from tensorflow.keras.models import Sequential\n",
        "from tensorflow.keras.layers import Conv2D, MaxPooling2D, Flatten, Dense, Dropout\n",
        "\n",
        "sns.set_theme(style=\"whitegrid\")\n"
      ]
    }
  ],
  "metadata": {
    "language_info": {
      "name": "python"
    }
  },
  "nbformat": 4,
  "nbformat_minor": 2
}
